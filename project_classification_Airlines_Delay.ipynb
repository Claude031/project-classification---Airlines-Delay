{
  "nbformat": 4,
  "nbformat_minor": 0,
  "metadata": {
    "colab": {
      "provenance": []
    },
    "kernelspec": {
      "name": "python3",
      "display_name": "Python 3"
    },
    "language_info": {
      "name": "python"
    }
  },
  "cells": [
    {
      "cell_type": "markdown",
      "source": [
        "#**Basic information**"
      ],
      "metadata": {
        "id": "WvENrkK6MFDg"
      }
    },
    {
      "cell_type": "markdown",
      "source": [
        "https://www.kaggle.com/datasets/ulrikthygepedersen/airlines-delay?select=airlines_delay.csv"
      ],
      "metadata": {
        "id": "wy9bmhWDL_Ew"
      }
    },
    {
      "cell_type": "markdown",
      "source": [
        "*   Flight - Flight ID \n",
        "*   Time - Time of departure\n",
        "*   Length - Length of Flight\n",
        "*   Airline - Airline ID\n",
        "*   AirportFrom - Which airport the flight flew from\n",
        "*   AirportTo - Which airport the flight flew to\n",
        "*   DayOfWeek - Day of the week of the flight\n",
        "*   Class - Delayed (1) or not (0)\n"
      ],
      "metadata": {
        "id": "S4vZbE6VLqpj"
      }
    },
    {
      "cell_type": "markdown",
      "source": [
        "#**Import Libraries**"
      ],
      "metadata": {
        "id": "m-jF3PsyPDyY"
      }
    },
    {
      "cell_type": "code",
      "execution_count": 3,
      "metadata": {
        "id": "0S0z3eiHC_z5"
      },
      "outputs": [],
      "source": [
        "import numpy as np\n",
        "import pandas as pd\n",
        "import matplotlib.pyplot as plt\n",
        "import seaborn as sns\n",
        "\n",
        "#pipeline\n",
        "from sklearn.model_selection import train_test_split\n",
        "from sklearn.base import BaseEstimator, TransformerMixin\n",
        "from sklearn.pipeline import Pipeline\n",
        "from sklearn.compose import ColumnTransformer\n",
        "from sklearn.impute import SimpleImputer\n",
        "from sklearn.preprocessing import StandardScaler\n",
        "from sklearn.linear_model import LogisticRegression\n",
        "from sklearn.metrics import accuracy_score"
      ]
    },
    {
      "cell_type": "markdown",
      "source": [
        "#**Read Dataset**"
      ],
      "metadata": {
        "id": "gs9_0398PHLl"
      }
    },
    {
      "cell_type": "code",
      "source": [
        "df_all=pd.read_csv(\"airlines_delay (1).csv\")"
      ],
      "metadata": {
        "id": "pBVJ6MVUDMMK"
      },
      "execution_count": 4,
      "outputs": []
    },
    {
      "cell_type": "code",
      "source": [
        "df_all.head()"
      ],
      "metadata": {
        "colab": {
          "base_uri": "https://localhost:8080/",
          "height": 206
        },
        "id": "WqZXv0k9Dap4",
        "outputId": "7959f506-1900-461e-b1f7-12062708a4a5"
      },
      "execution_count": 5,
      "outputs": [
        {
          "output_type": "execute_result",
          "data": {
            "text/plain": [
              "   Flight    Time  Length Airline AirportFrom AirportTo  DayOfWeek  Class\n",
              "0  2313.0  1296.0   141.0      DL         ATL       HOU          1      0\n",
              "1  6948.0   360.0   146.0      OO         COS       ORD          4      0\n",
              "2  1247.0  1170.0   143.0      B6         BOS       CLT          3      0\n",
              "3    31.0  1410.0   344.0      US         OGG       PHX          6      0\n",
              "4   563.0   692.0    98.0      FL         BMI       ATL          4      0"
            ],
            "text/html": [
              "\n",
              "  <div id=\"df-a5baa0f4-b261-4454-8737-195965a70e6b\">\n",
              "    <div class=\"colab-df-container\">\n",
              "      <div>\n",
              "<style scoped>\n",
              "    .dataframe tbody tr th:only-of-type {\n",
              "        vertical-align: middle;\n",
              "    }\n",
              "\n",
              "    .dataframe tbody tr th {\n",
              "        vertical-align: top;\n",
              "    }\n",
              "\n",
              "    .dataframe thead th {\n",
              "        text-align: right;\n",
              "    }\n",
              "</style>\n",
              "<table border=\"1\" class=\"dataframe\">\n",
              "  <thead>\n",
              "    <tr style=\"text-align: right;\">\n",
              "      <th></th>\n",
              "      <th>Flight</th>\n",
              "      <th>Time</th>\n",
              "      <th>Length</th>\n",
              "      <th>Airline</th>\n",
              "      <th>AirportFrom</th>\n",
              "      <th>AirportTo</th>\n",
              "      <th>DayOfWeek</th>\n",
              "      <th>Class</th>\n",
              "    </tr>\n",
              "  </thead>\n",
              "  <tbody>\n",
              "    <tr>\n",
              "      <th>0</th>\n",
              "      <td>2313.0</td>\n",
              "      <td>1296.0</td>\n",
              "      <td>141.0</td>\n",
              "      <td>DL</td>\n",
              "      <td>ATL</td>\n",
              "      <td>HOU</td>\n",
              "      <td>1</td>\n",
              "      <td>0</td>\n",
              "    </tr>\n",
              "    <tr>\n",
              "      <th>1</th>\n",
              "      <td>6948.0</td>\n",
              "      <td>360.0</td>\n",
              "      <td>146.0</td>\n",
              "      <td>OO</td>\n",
              "      <td>COS</td>\n",
              "      <td>ORD</td>\n",
              "      <td>4</td>\n",
              "      <td>0</td>\n",
              "    </tr>\n",
              "    <tr>\n",
              "      <th>2</th>\n",
              "      <td>1247.0</td>\n",
              "      <td>1170.0</td>\n",
              "      <td>143.0</td>\n",
              "      <td>B6</td>\n",
              "      <td>BOS</td>\n",
              "      <td>CLT</td>\n",
              "      <td>3</td>\n",
              "      <td>0</td>\n",
              "    </tr>\n",
              "    <tr>\n",
              "      <th>3</th>\n",
              "      <td>31.0</td>\n",
              "      <td>1410.0</td>\n",
              "      <td>344.0</td>\n",
              "      <td>US</td>\n",
              "      <td>OGG</td>\n",
              "      <td>PHX</td>\n",
              "      <td>6</td>\n",
              "      <td>0</td>\n",
              "    </tr>\n",
              "    <tr>\n",
              "      <th>4</th>\n",
              "      <td>563.0</td>\n",
              "      <td>692.0</td>\n",
              "      <td>98.0</td>\n",
              "      <td>FL</td>\n",
              "      <td>BMI</td>\n",
              "      <td>ATL</td>\n",
              "      <td>4</td>\n",
              "      <td>0</td>\n",
              "    </tr>\n",
              "  </tbody>\n",
              "</table>\n",
              "</div>\n",
              "      <button class=\"colab-df-convert\" onclick=\"convertToInteractive('df-a5baa0f4-b261-4454-8737-195965a70e6b')\"\n",
              "              title=\"Convert this dataframe to an interactive table.\"\n",
              "              style=\"display:none;\">\n",
              "        \n",
              "  <svg xmlns=\"http://www.w3.org/2000/svg\" height=\"24px\"viewBox=\"0 0 24 24\"\n",
              "       width=\"24px\">\n",
              "    <path d=\"M0 0h24v24H0V0z\" fill=\"none\"/>\n",
              "    <path d=\"M18.56 5.44l.94 2.06.94-2.06 2.06-.94-2.06-.94-.94-2.06-.94 2.06-2.06.94zm-11 1L8.5 8.5l.94-2.06 2.06-.94-2.06-.94L8.5 2.5l-.94 2.06-2.06.94zm10 10l.94 2.06.94-2.06 2.06-.94-2.06-.94-.94-2.06-.94 2.06-2.06.94z\"/><path d=\"M17.41 7.96l-1.37-1.37c-.4-.4-.92-.59-1.43-.59-.52 0-1.04.2-1.43.59L10.3 9.45l-7.72 7.72c-.78.78-.78 2.05 0 2.83L4 21.41c.39.39.9.59 1.41.59.51 0 1.02-.2 1.41-.59l7.78-7.78 2.81-2.81c.8-.78.8-2.07 0-2.86zM5.41 20L4 18.59l7.72-7.72 1.47 1.35L5.41 20z\"/>\n",
              "  </svg>\n",
              "      </button>\n",
              "      \n",
              "  <style>\n",
              "    .colab-df-container {\n",
              "      display:flex;\n",
              "      flex-wrap:wrap;\n",
              "      gap: 12px;\n",
              "    }\n",
              "\n",
              "    .colab-df-convert {\n",
              "      background-color: #E8F0FE;\n",
              "      border: none;\n",
              "      border-radius: 50%;\n",
              "      cursor: pointer;\n",
              "      display: none;\n",
              "      fill: #1967D2;\n",
              "      height: 32px;\n",
              "      padding: 0 0 0 0;\n",
              "      width: 32px;\n",
              "    }\n",
              "\n",
              "    .colab-df-convert:hover {\n",
              "      background-color: #E2EBFA;\n",
              "      box-shadow: 0px 1px 2px rgba(60, 64, 67, 0.3), 0px 1px 3px 1px rgba(60, 64, 67, 0.15);\n",
              "      fill: #174EA6;\n",
              "    }\n",
              "\n",
              "    [theme=dark] .colab-df-convert {\n",
              "      background-color: #3B4455;\n",
              "      fill: #D2E3FC;\n",
              "    }\n",
              "\n",
              "    [theme=dark] .colab-df-convert:hover {\n",
              "      background-color: #434B5C;\n",
              "      box-shadow: 0px 1px 3px 1px rgba(0, 0, 0, 0.15);\n",
              "      filter: drop-shadow(0px 1px 2px rgba(0, 0, 0, 0.3));\n",
              "      fill: #FFFFFF;\n",
              "    }\n",
              "  </style>\n",
              "\n",
              "      <script>\n",
              "        const buttonEl =\n",
              "          document.querySelector('#df-a5baa0f4-b261-4454-8737-195965a70e6b button.colab-df-convert');\n",
              "        buttonEl.style.display =\n",
              "          google.colab.kernel.accessAllowed ? 'block' : 'none';\n",
              "\n",
              "        async function convertToInteractive(key) {\n",
              "          const element = document.querySelector('#df-a5baa0f4-b261-4454-8737-195965a70e6b');\n",
              "          const dataTable =\n",
              "            await google.colab.kernel.invokeFunction('convertToInteractive',\n",
              "                                                     [key], {});\n",
              "          if (!dataTable) return;\n",
              "\n",
              "          const docLinkHtml = 'Like what you see? Visit the ' +\n",
              "            '<a target=\"_blank\" href=https://colab.research.google.com/notebooks/data_table.ipynb>data table notebook</a>'\n",
              "            + ' to learn more about interactive tables.';\n",
              "          element.innerHTML = '';\n",
              "          dataTable['output_type'] = 'display_data';\n",
              "          await google.colab.output.renderOutput(dataTable, element);\n",
              "          const docLink = document.createElement('div');\n",
              "          docLink.innerHTML = docLinkHtml;\n",
              "          element.appendChild(docLink);\n",
              "        }\n",
              "      </script>\n",
              "    </div>\n",
              "  </div>\n",
              "  "
            ]
          },
          "metadata": {},
          "execution_count": 5
        }
      ]
    },
    {
      "cell_type": "code",
      "source": [
        "df_all.tail()"
      ],
      "metadata": {
        "colab": {
          "base_uri": "https://localhost:8080/",
          "height": 206
        },
        "id": "7IJeeiJZJ97Z",
        "outputId": "5118d0f9-00fe-4b04-ec73-493f6d1b0473"
      },
      "execution_count": 6,
      "outputs": [
        {
          "output_type": "execute_result",
          "data": {
            "text/plain": [
              "        Flight   Time  Length Airline AirportFrom AirportTo  DayOfWeek  Class\n",
              "539377  6973.0  530.0    72.0      OO         GEG       SEA          5      1\n",
              "539378  1264.0  560.0   115.0      WN         LAS       DEN          4      1\n",
              "539379  5209.0  827.0    74.0      EV         CAE       ATL          2      1\n",
              "539380   607.0  715.0    65.0      WN         BWI       BUF          4      1\n",
              "539381  6377.0  770.0    55.0      OO         CPR       DEN          2      1"
            ],
            "text/html": [
              "\n",
              "  <div id=\"df-b62568f0-975e-4d75-a9aa-6dc39175dfba\">\n",
              "    <div class=\"colab-df-container\">\n",
              "      <div>\n",
              "<style scoped>\n",
              "    .dataframe tbody tr th:only-of-type {\n",
              "        vertical-align: middle;\n",
              "    }\n",
              "\n",
              "    .dataframe tbody tr th {\n",
              "        vertical-align: top;\n",
              "    }\n",
              "\n",
              "    .dataframe thead th {\n",
              "        text-align: right;\n",
              "    }\n",
              "</style>\n",
              "<table border=\"1\" class=\"dataframe\">\n",
              "  <thead>\n",
              "    <tr style=\"text-align: right;\">\n",
              "      <th></th>\n",
              "      <th>Flight</th>\n",
              "      <th>Time</th>\n",
              "      <th>Length</th>\n",
              "      <th>Airline</th>\n",
              "      <th>AirportFrom</th>\n",
              "      <th>AirportTo</th>\n",
              "      <th>DayOfWeek</th>\n",
              "      <th>Class</th>\n",
              "    </tr>\n",
              "  </thead>\n",
              "  <tbody>\n",
              "    <tr>\n",
              "      <th>539377</th>\n",
              "      <td>6973.0</td>\n",
              "      <td>530.0</td>\n",
              "      <td>72.0</td>\n",
              "      <td>OO</td>\n",
              "      <td>GEG</td>\n",
              "      <td>SEA</td>\n",
              "      <td>5</td>\n",
              "      <td>1</td>\n",
              "    </tr>\n",
              "    <tr>\n",
              "      <th>539378</th>\n",
              "      <td>1264.0</td>\n",
              "      <td>560.0</td>\n",
              "      <td>115.0</td>\n",
              "      <td>WN</td>\n",
              "      <td>LAS</td>\n",
              "      <td>DEN</td>\n",
              "      <td>4</td>\n",
              "      <td>1</td>\n",
              "    </tr>\n",
              "    <tr>\n",
              "      <th>539379</th>\n",
              "      <td>5209.0</td>\n",
              "      <td>827.0</td>\n",
              "      <td>74.0</td>\n",
              "      <td>EV</td>\n",
              "      <td>CAE</td>\n",
              "      <td>ATL</td>\n",
              "      <td>2</td>\n",
              "      <td>1</td>\n",
              "    </tr>\n",
              "    <tr>\n",
              "      <th>539380</th>\n",
              "      <td>607.0</td>\n",
              "      <td>715.0</td>\n",
              "      <td>65.0</td>\n",
              "      <td>WN</td>\n",
              "      <td>BWI</td>\n",
              "      <td>BUF</td>\n",
              "      <td>4</td>\n",
              "      <td>1</td>\n",
              "    </tr>\n",
              "    <tr>\n",
              "      <th>539381</th>\n",
              "      <td>6377.0</td>\n",
              "      <td>770.0</td>\n",
              "      <td>55.0</td>\n",
              "      <td>OO</td>\n",
              "      <td>CPR</td>\n",
              "      <td>DEN</td>\n",
              "      <td>2</td>\n",
              "      <td>1</td>\n",
              "    </tr>\n",
              "  </tbody>\n",
              "</table>\n",
              "</div>\n",
              "      <button class=\"colab-df-convert\" onclick=\"convertToInteractive('df-b62568f0-975e-4d75-a9aa-6dc39175dfba')\"\n",
              "              title=\"Convert this dataframe to an interactive table.\"\n",
              "              style=\"display:none;\">\n",
              "        \n",
              "  <svg xmlns=\"http://www.w3.org/2000/svg\" height=\"24px\"viewBox=\"0 0 24 24\"\n",
              "       width=\"24px\">\n",
              "    <path d=\"M0 0h24v24H0V0z\" fill=\"none\"/>\n",
              "    <path d=\"M18.56 5.44l.94 2.06.94-2.06 2.06-.94-2.06-.94-.94-2.06-.94 2.06-2.06.94zm-11 1L8.5 8.5l.94-2.06 2.06-.94-2.06-.94L8.5 2.5l-.94 2.06-2.06.94zm10 10l.94 2.06.94-2.06 2.06-.94-2.06-.94-.94-2.06-.94 2.06-2.06.94z\"/><path d=\"M17.41 7.96l-1.37-1.37c-.4-.4-.92-.59-1.43-.59-.52 0-1.04.2-1.43.59L10.3 9.45l-7.72 7.72c-.78.78-.78 2.05 0 2.83L4 21.41c.39.39.9.59 1.41.59.51 0 1.02-.2 1.41-.59l7.78-7.78 2.81-2.81c.8-.78.8-2.07 0-2.86zM5.41 20L4 18.59l7.72-7.72 1.47 1.35L5.41 20z\"/>\n",
              "  </svg>\n",
              "      </button>\n",
              "      \n",
              "  <style>\n",
              "    .colab-df-container {\n",
              "      display:flex;\n",
              "      flex-wrap:wrap;\n",
              "      gap: 12px;\n",
              "    }\n",
              "\n",
              "    .colab-df-convert {\n",
              "      background-color: #E8F0FE;\n",
              "      border: none;\n",
              "      border-radius: 50%;\n",
              "      cursor: pointer;\n",
              "      display: none;\n",
              "      fill: #1967D2;\n",
              "      height: 32px;\n",
              "      padding: 0 0 0 0;\n",
              "      width: 32px;\n",
              "    }\n",
              "\n",
              "    .colab-df-convert:hover {\n",
              "      background-color: #E2EBFA;\n",
              "      box-shadow: 0px 1px 2px rgba(60, 64, 67, 0.3), 0px 1px 3px 1px rgba(60, 64, 67, 0.15);\n",
              "      fill: #174EA6;\n",
              "    }\n",
              "\n",
              "    [theme=dark] .colab-df-convert {\n",
              "      background-color: #3B4455;\n",
              "      fill: #D2E3FC;\n",
              "    }\n",
              "\n",
              "    [theme=dark] .colab-df-convert:hover {\n",
              "      background-color: #434B5C;\n",
              "      box-shadow: 0px 1px 3px 1px rgba(0, 0, 0, 0.15);\n",
              "      filter: drop-shadow(0px 1px 2px rgba(0, 0, 0, 0.3));\n",
              "      fill: #FFFFFF;\n",
              "    }\n",
              "  </style>\n",
              "\n",
              "      <script>\n",
              "        const buttonEl =\n",
              "          document.querySelector('#df-b62568f0-975e-4d75-a9aa-6dc39175dfba button.colab-df-convert');\n",
              "        buttonEl.style.display =\n",
              "          google.colab.kernel.accessAllowed ? 'block' : 'none';\n",
              "\n",
              "        async function convertToInteractive(key) {\n",
              "          const element = document.querySelector('#df-b62568f0-975e-4d75-a9aa-6dc39175dfba');\n",
              "          const dataTable =\n",
              "            await google.colab.kernel.invokeFunction('convertToInteractive',\n",
              "                                                     [key], {});\n",
              "          if (!dataTable) return;\n",
              "\n",
              "          const docLinkHtml = 'Like what you see? Visit the ' +\n",
              "            '<a target=\"_blank\" href=https://colab.research.google.com/notebooks/data_table.ipynb>data table notebook</a>'\n",
              "            + ' to learn more about interactive tables.';\n",
              "          element.innerHTML = '';\n",
              "          dataTable['output_type'] = 'display_data';\n",
              "          await google.colab.output.renderOutput(dataTable, element);\n",
              "          const docLink = document.createElement('div');\n",
              "          docLink.innerHTML = docLinkHtml;\n",
              "          element.appendChild(docLink);\n",
              "        }\n",
              "      </script>\n",
              "    </div>\n",
              "  </div>\n",
              "  "
            ]
          },
          "metadata": {},
          "execution_count": 6
        }
      ]
    },
    {
      "cell_type": "markdown",
      "source": [
        "#**EDA**"
      ],
      "metadata": {
        "id": "Qa1-TWLpPYIg"
      }
    },
    {
      "cell_type": "code",
      "source": [
        "df_all.shape"
      ],
      "metadata": {
        "colab": {
          "base_uri": "https://localhost:8080/"
        },
        "id": "Bi_DbZn1DlwO",
        "outputId": "48d0c086-adbe-4192-b5aa-87e45bb3aa09"
      },
      "execution_count": 7,
      "outputs": [
        {
          "output_type": "execute_result",
          "data": {
            "text/plain": [
              "(539382, 8)"
            ]
          },
          "metadata": {},
          "execution_count": 7
        }
      ]
    },
    {
      "cell_type": "code",
      "source": [
        "df_all.info()"
      ],
      "metadata": {
        "colab": {
          "base_uri": "https://localhost:8080/"
        },
        "id": "ly3RwsYQDoGg",
        "outputId": "64311429-b46b-448d-ffd5-3c85efe9ce11"
      },
      "execution_count": 8,
      "outputs": [
        {
          "output_type": "stream",
          "name": "stdout",
          "text": [
            "<class 'pandas.core.frame.DataFrame'>\n",
            "RangeIndex: 539382 entries, 0 to 539381\n",
            "Data columns (total 8 columns):\n",
            " #   Column       Non-Null Count   Dtype  \n",
            "---  ------       --------------   -----  \n",
            " 0   Flight       539382 non-null  float64\n",
            " 1   Time         539382 non-null  float64\n",
            " 2   Length       539382 non-null  float64\n",
            " 3   Airline      539382 non-null  object \n",
            " 4   AirportFrom  539382 non-null  object \n",
            " 5   AirportTo    539382 non-null  object \n",
            " 6   DayOfWeek    539382 non-null  int64  \n",
            " 7   Class        539382 non-null  int64  \n",
            "dtypes: float64(3), int64(2), object(3)\n",
            "memory usage: 32.9+ MB\n"
          ]
        }
      ]
    },
    {
      "cell_type": "markdown",
      "source": [
        "##**Checking the characteristic values ​​**"
      ],
      "metadata": {
        "id": "5EtWDOeeEilE"
      }
    },
    {
      "cell_type": "code",
      "source": [
        "df_all.describe()"
      ],
      "metadata": {
        "colab": {
          "base_uri": "https://localhost:8080/",
          "height": 300
        },
        "id": "1Kg1jPHrEkbz",
        "outputId": "acb2fd32-f3b7-45a2-be0a-036a65903b8c"
      },
      "execution_count": 9,
      "outputs": [
        {
          "output_type": "execute_result",
          "data": {
            "text/plain": [
              "              Flight           Time         Length      DayOfWeek  \\\n",
              "count  539382.000000  539382.000000  539382.000000  539382.000000   \n",
              "mean     2427.927988     802.728161     132.202104       3.929666   \n",
              "std      2067.431700     278.045546      70.117045       1.914666   \n",
              "min         1.000000      10.000000       0.000000       1.000000   \n",
              "25%       712.000000     565.000000      81.000000       2.000000   \n",
              "50%      1809.000000     795.000000     115.000000       4.000000   \n",
              "75%      3745.000000    1035.000000     162.000000       5.000000   \n",
              "max      7814.000000    1439.000000     655.000000       7.000000   \n",
              "\n",
              "               Class  \n",
              "count  539382.000000  \n",
              "mean        0.445443  \n",
              "std         0.497015  \n",
              "min         0.000000  \n",
              "25%         0.000000  \n",
              "50%         0.000000  \n",
              "75%         1.000000  \n",
              "max         1.000000  "
            ],
            "text/html": [
              "\n",
              "  <div id=\"df-2e7b7041-88f0-4697-9157-e62cbbd87b83\">\n",
              "    <div class=\"colab-df-container\">\n",
              "      <div>\n",
              "<style scoped>\n",
              "    .dataframe tbody tr th:only-of-type {\n",
              "        vertical-align: middle;\n",
              "    }\n",
              "\n",
              "    .dataframe tbody tr th {\n",
              "        vertical-align: top;\n",
              "    }\n",
              "\n",
              "    .dataframe thead th {\n",
              "        text-align: right;\n",
              "    }\n",
              "</style>\n",
              "<table border=\"1\" class=\"dataframe\">\n",
              "  <thead>\n",
              "    <tr style=\"text-align: right;\">\n",
              "      <th></th>\n",
              "      <th>Flight</th>\n",
              "      <th>Time</th>\n",
              "      <th>Length</th>\n",
              "      <th>DayOfWeek</th>\n",
              "      <th>Class</th>\n",
              "    </tr>\n",
              "  </thead>\n",
              "  <tbody>\n",
              "    <tr>\n",
              "      <th>count</th>\n",
              "      <td>539382.000000</td>\n",
              "      <td>539382.000000</td>\n",
              "      <td>539382.000000</td>\n",
              "      <td>539382.000000</td>\n",
              "      <td>539382.000000</td>\n",
              "    </tr>\n",
              "    <tr>\n",
              "      <th>mean</th>\n",
              "      <td>2427.927988</td>\n",
              "      <td>802.728161</td>\n",
              "      <td>132.202104</td>\n",
              "      <td>3.929666</td>\n",
              "      <td>0.445443</td>\n",
              "    </tr>\n",
              "    <tr>\n",
              "      <th>std</th>\n",
              "      <td>2067.431700</td>\n",
              "      <td>278.045546</td>\n",
              "      <td>70.117045</td>\n",
              "      <td>1.914666</td>\n",
              "      <td>0.497015</td>\n",
              "    </tr>\n",
              "    <tr>\n",
              "      <th>min</th>\n",
              "      <td>1.000000</td>\n",
              "      <td>10.000000</td>\n",
              "      <td>0.000000</td>\n",
              "      <td>1.000000</td>\n",
              "      <td>0.000000</td>\n",
              "    </tr>\n",
              "    <tr>\n",
              "      <th>25%</th>\n",
              "      <td>712.000000</td>\n",
              "      <td>565.000000</td>\n",
              "      <td>81.000000</td>\n",
              "      <td>2.000000</td>\n",
              "      <td>0.000000</td>\n",
              "    </tr>\n",
              "    <tr>\n",
              "      <th>50%</th>\n",
              "      <td>1809.000000</td>\n",
              "      <td>795.000000</td>\n",
              "      <td>115.000000</td>\n",
              "      <td>4.000000</td>\n",
              "      <td>0.000000</td>\n",
              "    </tr>\n",
              "    <tr>\n",
              "      <th>75%</th>\n",
              "      <td>3745.000000</td>\n",
              "      <td>1035.000000</td>\n",
              "      <td>162.000000</td>\n",
              "      <td>5.000000</td>\n",
              "      <td>1.000000</td>\n",
              "    </tr>\n",
              "    <tr>\n",
              "      <th>max</th>\n",
              "      <td>7814.000000</td>\n",
              "      <td>1439.000000</td>\n",
              "      <td>655.000000</td>\n",
              "      <td>7.000000</td>\n",
              "      <td>1.000000</td>\n",
              "    </tr>\n",
              "  </tbody>\n",
              "</table>\n",
              "</div>\n",
              "      <button class=\"colab-df-convert\" onclick=\"convertToInteractive('df-2e7b7041-88f0-4697-9157-e62cbbd87b83')\"\n",
              "              title=\"Convert this dataframe to an interactive table.\"\n",
              "              style=\"display:none;\">\n",
              "        \n",
              "  <svg xmlns=\"http://www.w3.org/2000/svg\" height=\"24px\"viewBox=\"0 0 24 24\"\n",
              "       width=\"24px\">\n",
              "    <path d=\"M0 0h24v24H0V0z\" fill=\"none\"/>\n",
              "    <path d=\"M18.56 5.44l.94 2.06.94-2.06 2.06-.94-2.06-.94-.94-2.06-.94 2.06-2.06.94zm-11 1L8.5 8.5l.94-2.06 2.06-.94-2.06-.94L8.5 2.5l-.94 2.06-2.06.94zm10 10l.94 2.06.94-2.06 2.06-.94-2.06-.94-.94-2.06-.94 2.06-2.06.94z\"/><path d=\"M17.41 7.96l-1.37-1.37c-.4-.4-.92-.59-1.43-.59-.52 0-1.04.2-1.43.59L10.3 9.45l-7.72 7.72c-.78.78-.78 2.05 0 2.83L4 21.41c.39.39.9.59 1.41.59.51 0 1.02-.2 1.41-.59l7.78-7.78 2.81-2.81c.8-.78.8-2.07 0-2.86zM5.41 20L4 18.59l7.72-7.72 1.47 1.35L5.41 20z\"/>\n",
              "  </svg>\n",
              "      </button>\n",
              "      \n",
              "  <style>\n",
              "    .colab-df-container {\n",
              "      display:flex;\n",
              "      flex-wrap:wrap;\n",
              "      gap: 12px;\n",
              "    }\n",
              "\n",
              "    .colab-df-convert {\n",
              "      background-color: #E8F0FE;\n",
              "      border: none;\n",
              "      border-radius: 50%;\n",
              "      cursor: pointer;\n",
              "      display: none;\n",
              "      fill: #1967D2;\n",
              "      height: 32px;\n",
              "      padding: 0 0 0 0;\n",
              "      width: 32px;\n",
              "    }\n",
              "\n",
              "    .colab-df-convert:hover {\n",
              "      background-color: #E2EBFA;\n",
              "      box-shadow: 0px 1px 2px rgba(60, 64, 67, 0.3), 0px 1px 3px 1px rgba(60, 64, 67, 0.15);\n",
              "      fill: #174EA6;\n",
              "    }\n",
              "\n",
              "    [theme=dark] .colab-df-convert {\n",
              "      background-color: #3B4455;\n",
              "      fill: #D2E3FC;\n",
              "    }\n",
              "\n",
              "    [theme=dark] .colab-df-convert:hover {\n",
              "      background-color: #434B5C;\n",
              "      box-shadow: 0px 1px 3px 1px rgba(0, 0, 0, 0.15);\n",
              "      filter: drop-shadow(0px 1px 2px rgba(0, 0, 0, 0.3));\n",
              "      fill: #FFFFFF;\n",
              "    }\n",
              "  </style>\n",
              "\n",
              "      <script>\n",
              "        const buttonEl =\n",
              "          document.querySelector('#df-2e7b7041-88f0-4697-9157-e62cbbd87b83 button.colab-df-convert');\n",
              "        buttonEl.style.display =\n",
              "          google.colab.kernel.accessAllowed ? 'block' : 'none';\n",
              "\n",
              "        async function convertToInteractive(key) {\n",
              "          const element = document.querySelector('#df-2e7b7041-88f0-4697-9157-e62cbbd87b83');\n",
              "          const dataTable =\n",
              "            await google.colab.kernel.invokeFunction('convertToInteractive',\n",
              "                                                     [key], {});\n",
              "          if (!dataTable) return;\n",
              "\n",
              "          const docLinkHtml = 'Like what you see? Visit the ' +\n",
              "            '<a target=\"_blank\" href=https://colab.research.google.com/notebooks/data_table.ipynb>data table notebook</a>'\n",
              "            + ' to learn more about interactive tables.';\n",
              "          element.innerHTML = '';\n",
              "          dataTable['output_type'] = 'display_data';\n",
              "          await google.colab.output.renderOutput(dataTable, element);\n",
              "          const docLink = document.createElement('div');\n",
              "          docLink.innerHTML = docLinkHtml;\n",
              "          element.appendChild(docLink);\n",
              "        }\n",
              "      </script>\n",
              "    </div>\n",
              "  </div>\n",
              "  "
            ]
          },
          "metadata": {},
          "execution_count": 9
        }
      ]
    },
    {
      "cell_type": "markdown",
      "source": [
        "▶ Handling Duplicate Values"
      ],
      "metadata": {
        "id": "mgx44Cz7RSEj"
      }
    },
    {
      "cell_type": "code",
      "source": [
        "df_all.nunique()"
      ],
      "metadata": {
        "colab": {
          "base_uri": "https://localhost:8080/"
        },
        "id": "lvUjQi62RP2w",
        "outputId": "782d750b-d20c-4333-c888-5e4666131688"
      },
      "execution_count": 10,
      "outputs": [
        {
          "output_type": "execute_result",
          "data": {
            "text/plain": [
              "Flight         6585\n",
              "Time           1131\n",
              "Length          426\n",
              "Airline          18\n",
              "AirportFrom     293\n",
              "AirportTo       293\n",
              "DayOfWeek         7\n",
              "Class             2\n",
              "dtype: int64"
            ]
          },
          "metadata": {},
          "execution_count": 10
        }
      ]
    },
    {
      "cell_type": "markdown",
      "source": [
        "▶ Count the number of instances in each class"
      ],
      "metadata": {
        "id": "LOz9GAHgUhK5"
      }
    },
    {
      "cell_type": "code",
      "source": [
        "counts_class = df_all['Class'].value_counts()\n",
        "print(counts_class)"
      ],
      "metadata": {
        "colab": {
          "base_uri": "https://localhost:8080/"
        },
        "id": "pDj71RhJUZjL",
        "outputId": "3ef32d5c-a8e5-4d31-83b2-1bd1d1282fb3"
      },
      "execution_count": 11,
      "outputs": [
        {
          "output_type": "stream",
          "name": "stdout",
          "text": [
            "0    299118\n",
            "1    240264\n",
            "Name: Class, dtype: int64\n"
          ]
        }
      ]
    },
    {
      "cell_type": "code",
      "source": [
        "sns.countplot(data=df_all,x=\"Class\")"
      ],
      "metadata": {
        "colab": {
          "base_uri": "https://localhost:8080/",
          "height": 297
        },
        "id": "avJ6QOhHUw9p",
        "outputId": "d6fa55ec-67cc-4821-afb9-9ec654cd7bd9"
      },
      "execution_count": 12,
      "outputs": [
        {
          "output_type": "execute_result",
          "data": {
            "text/plain": [
              "<Axes: xlabel='Class', ylabel='count'>"
            ]
          },
          "metadata": {},
          "execution_count": 12
        },
        {
          "output_type": "display_data",
          "data": {
            "text/plain": [
              "<Figure size 432x288 with 1 Axes>"
            ],
            "image/png": "[encoded data removed]"
          },
          "metadata": {
            "needs_background": "light"
          }
        }
      ]
    },
    {
      "cell_type": "code",
      "source": [
        "class_cal = (df_all[\"Class\"].value_counts() / df_all[\"Class\"].value_counts().sum()) * 100\n",
        "class_cal"
      ],
      "metadata": {
        "colab": {
          "base_uri": "https://localhost:8080/"
        },
        "id": "nJsJvNzZp-s6",
        "outputId": "2665f043-d7a9-458e-aafb-6bd88cdb3f48"
      },
      "execution_count": 13,
      "outputs": [
        {
          "output_type": "execute_result",
          "data": {
            "text/plain": [
              "0    55.455688\n",
              "1    44.544312\n",
              "Name: Class, dtype: float64"
            ]
          },
          "metadata": {},
          "execution_count": 13
        }
      ]
    },
    {
      "cell_type": "markdown",
      "source": [
        "##**Data visualization**"
      ],
      "metadata": {
        "id": "HZ2wnl22EqDQ"
      }
    },
    {
      "cell_type": "code",
      "source": [
        "plt.figure(figsize = (18,20))\n",
        "arline_group = df_all.groupby('Airline')\n",
        "plt.subplot(2,1,1)\n",
        "sns.countplot(x = 'Airline', hue= 'Class', palette='tab20', data = df_all)"
      ],
      "metadata": {
        "colab": {
          "base_uri": "https://localhost:8080/",
          "height": 574
        },
        "id": "GbmDRZIbcH1U",
        "outputId": "2a986c65-ca36-4d1a-c65d-0d0a536b5b3d"
      },
      "execution_count": 15,
      "outputs": [
        {
          "output_type": "execute_result",
          "data": {
            "text/plain": [
              "<Axes: xlabel='Airline', ylabel='count'>"
            ]
          },
          "metadata": {},
          "execution_count": 15
        },
        {
          "output_type": "display_data",
          "data": {
            "text/plain": [
              "<Figure size 1296x1440 with 1 Axes>"
            ],
            "image/png": "[encoded data removed]"
          },
          "metadata": {
            "needs_background": "light"
          }
        }
      ]
    },
    {
      "cell_type": "code",
      "source": [
        "plt.figure(figsize = (18,20))\n",
        "plt.subplot(2,1,2)\n",
        "sns.countplot(x = 'DayOfWeek', hue= 'Class', palette='cubehelix', data = df_all)"
      ],
      "metadata": {
        "colab": {
          "base_uri": "https://localhost:8080/",
          "height": 574
        },
        "id": "f3vMj40RdZ61",
        "outputId": "9944ed27-8897-4329-804c-f3624087270f"
      },
      "execution_count": 16,
      "outputs": [
        {
          "output_type": "execute_result",
          "data": {
            "text/plain": [
              "<Axes: xlabel='DayOfWeek', ylabel='count'>"
            ]
          },
          "metadata": {},
          "execution_count": 16
        },
        {
          "output_type": "display_data",
          "data": {
            "text/plain": [
              "<Figure size 1296x1440 with 1 Axes>"
            ],
            "image/png": "[encoded data removed]"
          },
          "metadata": {
            "needs_background": "light"
          }
        }
      ]
    },
    {
      "cell_type": "code",
      "source": [
        "DayOfWeekOrder = list(range(1,8))\n",
        "sns.countplot(x='DayOfWeek',data=df_all,order=DayOfWeekOrder,)"
      ],
      "metadata": {
        "colab": {
          "base_uri": "https://localhost:8080/",
          "height": 297
        },
        "id": "te481JqLVyUQ",
        "outputId": "add1f4f5-4b2b-4797-e239-6abccaf9f9af"
      },
      "execution_count": 14,
      "outputs": [
        {
          "output_type": "execute_result",
          "data": {
            "text/plain": [
              "<Axes: xlabel='DayOfWeek', ylabel='count'>"
            ]
          },
          "metadata": {},
          "execution_count": 14
        },
        {
          "output_type": "display_data",
          "data": {
            "text/plain": [
              "<Figure size 432x288 with 1 Axes>"
            ],
            "image/png": "[encoded data removed]"
          },
          "metadata": {
            "needs_background": "light"
          }
        }
      ]
    },
    {
      "cell_type": "markdown",
      "source": [
        "#**Data Processing**"
      ],
      "metadata": {
        "id": "ewYtaWc8Q6yx"
      }
    },
    {
      "cell_type": "code",
      "source": [
        "df_grouped = df_all.groupby(['AirportFrom', 'AirportTo']).agg({'Length': ['mean', 'max', 'min']})\n",
        "df_grouped"
      ],
      "metadata": {
        "colab": {
          "base_uri": "https://localhost:8080/",
          "height": 486
        },
        "id": "c9c6eT1xc0kL",
        "outputId": "08bf36fa-e90f-459a-a027-2dbe028e435f"
      },
      "execution_count": 17,
      "outputs": [
        {
          "output_type": "execute_result",
          "data": {
            "text/plain": [
              "                           Length              \n",
              "                             mean    max    min\n",
              "AirportFrom AirportTo                          \n",
              "ABE         ATL        153.032258  163.0  145.0\n",
              "            CLT        106.000000  106.0  106.0\n",
              "            DTW        112.588235  115.0  110.0\n",
              "            FLL        178.000000  178.0  178.0\n",
              "            MCO        156.000000  156.0  156.0\n",
              "...                           ...    ...    ...\n",
              "YAK         CDV         52.000000   52.0   52.0\n",
              "            JNU         46.642857   48.0   46.0\n",
              "YUM         IPL         27.000000   27.0   27.0\n",
              "            LAX         79.319328   80.0   77.0\n",
              "            PHX         66.803191   74.0   54.0\n",
              "\n",
              "[4190 rows x 3 columns]"
            ],
            "text/html": [
              "\n",
              "  <div id=\"df-b7cdd49c-cba7-470e-b040-0df3c7862337\">\n",
              "    <div class=\"colab-df-container\">\n",
              "      <div>\n",
              "<style scoped>\n",
              "    .dataframe tbody tr th:only-of-type {\n",
              "        vertical-align: middle;\n",
              "    }\n",
              "\n",
              "    .dataframe tbody tr th {\n",
              "        vertical-align: top;\n",
              "    }\n",
              "\n",
              "    .dataframe thead tr th {\n",
              "        text-align: left;\n",
              "    }\n",
              "\n",
              "    .dataframe thead tr:last-of-type th {\n",
              "        text-align: right;\n",
              "    }\n",
              "</style>\n",
              "<table border=\"1\" class=\"dataframe\">\n",
              "  <thead>\n",
              "    <tr>\n",
              "      <th></th>\n",
              "      <th></th>\n",
              "      <th colspan=\"3\" halign=\"left\">Length</th>\n",
              "    </tr>\n",
              "    <tr>\n",
              "      <th></th>\n",
              "      <th></th>\n",
              "      <th>mean</th>\n",
              "      <th>max</th>\n",
              "      <th>min</th>\n",
              "    </tr>\n",
              "    <tr>\n",
              "      <th>AirportFrom</th>\n",
              "      <th>AirportTo</th>\n",
              "      <th></th>\n",
              "      <th></th>\n",
              "      <th></th>\n",
              "    </tr>\n",
              "  </thead>\n",
              "  <tbody>\n",
              "    <tr>\n",
              "      <th rowspan=\"5\" valign=\"top\">ABE</th>\n",
              "      <th>ATL</th>\n",
              "      <td>153.032258</td>\n",
              "      <td>163.0</td>\n",
              "      <td>145.0</td>\n",
              "    </tr>\n",
              "    <tr>\n",
              "      <th>CLT</th>\n",
              "      <td>106.000000</td>\n",
              "      <td>106.0</td>\n",
              "      <td>106.0</td>\n",
              "    </tr>\n",
              "    <tr>\n",
              "      <th>DTW</th>\n",
              "      <td>112.588235</td>\n",
              "      <td>115.0</td>\n",
              "      <td>110.0</td>\n",
              "    </tr>\n",
              "    <tr>\n",
              "      <th>FLL</th>\n",
              "      <td>178.000000</td>\n",
              "      <td>178.0</td>\n",
              "      <td>178.0</td>\n",
              "    </tr>\n",
              "    <tr>\n",
              "      <th>MCO</th>\n",
              "      <td>156.000000</td>\n",
              "      <td>156.0</td>\n",
              "      <td>156.0</td>\n",
              "    </tr>\n",
              "    <tr>\n",
              "      <th>...</th>\n",
              "      <th>...</th>\n",
              "      <td>...</td>\n",
              "      <td>...</td>\n",
              "      <td>...</td>\n",
              "    </tr>\n",
              "    <tr>\n",
              "      <th rowspan=\"2\" valign=\"top\">YAK</th>\n",
              "      <th>CDV</th>\n",
              "      <td>52.000000</td>\n",
              "      <td>52.0</td>\n",
              "      <td>52.0</td>\n",
              "    </tr>\n",
              "    <tr>\n",
              "      <th>JNU</th>\n",
              "      <td>46.642857</td>\n",
              "      <td>48.0</td>\n",
              "      <td>46.0</td>\n",
              "    </tr>\n",
              "    <tr>\n",
              "      <th rowspan=\"3\" valign=\"top\">YUM</th>\n",
              "      <th>IPL</th>\n",
              "      <td>27.000000</td>\n",
              "      <td>27.0</td>\n",
              "      <td>27.0</td>\n",
              "    </tr>\n",
              "    <tr>\n",
              "      <th>LAX</th>\n",
              "      <td>79.319328</td>\n",
              "      <td>80.0</td>\n",
              "      <td>77.0</td>\n",
              "    </tr>\n",
              "    <tr>\n",
              "      <th>PHX</th>\n",
              "      <td>66.803191</td>\n",
              "      <td>74.0</td>\n",
              "      <td>54.0</td>\n",
              "    </tr>\n",
              "  </tbody>\n",
              "</table>\n",
              "<p>4190 rows × 3 columns</p>\n",
              "</div>\n",
              "      <button class=\"colab-df-convert\" onclick=\"convertToInteractive('df-b7cdd49c-cba7-470e-b040-0df3c7862337')\"\n",
              "              title=\"Convert this dataframe to an interactive table.\"\n",
              "              style=\"display:none;\">\n",
              "        \n",
              "  <svg xmlns=\"http://www.w3.org/2000/svg\" height=\"24px\"viewBox=\"0 0 24 24\"\n",
              "       width=\"24px\">\n",
              "    <path d=\"M0 0h24v24H0V0z\" fill=\"none\"/>\n",
              "    <path d=\"M18.56 5.44l.94 2.06.94-2.06 2.06-.94-2.06-.94-.94-2.06-.94 2.06-2.06.94zm-11 1L8.5 8.5l.94-2.06 2.06-.94-2.06-.94L8.5 2.5l-.94 2.06-2.06.94zm10 10l.94 2.06.94-2.06 2.06-.94-2.06-.94-.94-2.06-.94 2.06-2.06.94z\"/><path d=\"M17.41 7.96l-1.37-1.37c-.4-.4-.92-.59-1.43-.59-.52 0-1.04.2-1.43.59L10.3 9.45l-7.72 7.72c-.78.78-.78 2.05 0 2.83L4 21.41c.39.39.9.59 1.41.59.51 0 1.02-.2 1.41-.59l7.78-7.78 2.81-2.81c.8-.78.8-2.07 0-2.86zM5.41 20L4 18.59l7.72-7.72 1.47 1.35L5.41 20z\"/>\n",
              "  </svg>\n",
              "      </button>\n",
              "      \n",
              "  <style>\n",
              "    .colab-df-container {\n",
              "      display:flex;\n",
              "      flex-wrap:wrap;\n",
              "      gap: 12px;\n",
              "    }\n",
              "\n",
              "    .colab-df-convert {\n",
              "      background-color: #E8F0FE;\n",
              "      border: none;\n",
              "      border-radius: 50%;\n",
              "      cursor: pointer;\n",
              "      display: none;\n",
              "      fill: #1967D2;\n",
              "      height: 32px;\n",
              "      padding: 0 0 0 0;\n",
              "      width: 32px;\n",
              "    }\n",
              "\n",
              "    .colab-df-convert:hover {\n",
              "      background-color: #E2EBFA;\n",
              "      box-shadow: 0px 1px 2px rgba(60, 64, 67, 0.3), 0px 1px 3px 1px rgba(60, 64, 67, 0.15);\n",
              "      fill: #174EA6;\n",
              "    }\n",
              "\n",
              "    [theme=dark] .colab-df-convert {\n",
              "      background-color: #3B4455;\n",
              "      fill: #D2E3FC;\n",
              "    }\n",
              "\n",
              "    [theme=dark] .colab-df-convert:hover {\n",
              "      background-color: #434B5C;\n",
              "      box-shadow: 0px 1px 3px 1px rgba(0, 0, 0, 0.15);\n",
              "      filter: drop-shadow(0px 1px 2px rgba(0, 0, 0, 0.3));\n",
              "      fill: #FFFFFF;\n",
              "    }\n",
              "  </style>\n",
              "\n",
              "      <script>\n",
              "        const buttonEl =\n",
              "          document.querySelector('#df-b7cdd49c-cba7-470e-b040-0df3c7862337 button.colab-df-convert');\n",
              "        buttonEl.style.display =\n",
              "          google.colab.kernel.accessAllowed ? 'block' : 'none';\n",
              "\n",
              "        async function convertToInteractive(key) {\n",
              "          const element = document.querySelector('#df-b7cdd49c-cba7-470e-b040-0df3c7862337');\n",
              "          const dataTable =\n",
              "            await google.colab.kernel.invokeFunction('convertToInteractive',\n",
              "                                                     [key], {});\n",
              "          if (!dataTable) return;\n",
              "\n",
              "          const docLinkHtml = 'Like what you see? Visit the ' +\n",
              "            '<a target=\"_blank\" href=https://colab.research.google.com/notebooks/data_table.ipynb>data table notebook</a>'\n",
              "            + ' to learn more about interactive tables.';\n",
              "          element.innerHTML = '';\n",
              "          dataTable['output_type'] = 'display_data';\n",
              "          await google.colab.output.renderOutput(dataTable, element);\n",
              "          const docLink = document.createElement('div');\n",
              "          docLink.innerHTML = docLinkHtml;\n",
              "          element.appendChild(docLink);\n",
              "        }\n",
              "      </script>\n",
              "    </div>\n",
              "  </div>\n",
              "  "
            ]
          },
          "metadata": {},
          "execution_count": 17
        }
      ]
    },
    {
      "cell_type": "code",
      "source": [
        "X = df_all[['Time','AirportFrom','AirportTo','Airline','DayOfWeek']].copy()\n",
        "X"
      ],
      "metadata": {
        "colab": {
          "base_uri": "https://localhost:8080/",
          "height": 423
        },
        "id": "dCfoeksDQ6Tz",
        "outputId": "3bd8008e-6914-41e5-9ce8-edf46c3a2dd9"
      },
      "execution_count": 18,
      "outputs": [
        {
          "output_type": "execute_result",
          "data": {
            "text/plain": [
              "          Time AirportFrom AirportTo Airline  DayOfWeek\n",
              "0       1296.0         ATL       HOU      DL          1\n",
              "1        360.0         COS       ORD      OO          4\n",
              "2       1170.0         BOS       CLT      B6          3\n",
              "3       1410.0         OGG       PHX      US          6\n",
              "4        692.0         BMI       ATL      FL          4\n",
              "...        ...         ...       ...     ...        ...\n",
              "539377   530.0         GEG       SEA      OO          5\n",
              "539378   560.0         LAS       DEN      WN          4\n",
              "539379   827.0         CAE       ATL      EV          2\n",
              "539380   715.0         BWI       BUF      WN          4\n",
              "539381   770.0         CPR       DEN      OO          2\n",
              "\n",
              "[539382 rows x 5 columns]"
            ],
            "text/html": [
              "\n",
              "  <div id=\"df-027ec08e-59d4-4e81-8cdc-a1d0247999e0\">\n",
              "    <div class=\"colab-df-container\">\n",
              "      <div>\n",
              "<style scoped>\n",
              "    .dataframe tbody tr th:only-of-type {\n",
              "        vertical-align: middle;\n",
              "    }\n",
              "\n",
              "    .dataframe tbody tr th {\n",
              "        vertical-align: top;\n",
              "    }\n",
              "\n",
              "    .dataframe thead th {\n",
              "        text-align: right;\n",
              "    }\n",
              "</style>\n",
              "<table border=\"1\" class=\"dataframe\">\n",
              "  <thead>\n",
              "    <tr style=\"text-align: right;\">\n",
              "      <th></th>\n",
              "      <th>Time</th>\n",
              "      <th>AirportFrom</th>\n",
              "      <th>AirportTo</th>\n",
              "      <th>Airline</th>\n",
              "      <th>DayOfWeek</th>\n",
              "    </tr>\n",
              "  </thead>\n",
              "  <tbody>\n",
              "    <tr>\n",
              "      <th>0</th>\n",
              "      <td>1296.0</td>\n",
              "      <td>ATL</td>\n",
              "      <td>HOU</td>\n",
              "      <td>DL</td>\n",
              "      <td>1</td>\n",
              "    </tr>\n",
              "    <tr>\n",
              "      <th>1</th>\n",
              "      <td>360.0</td>\n",
              "      <td>COS</td>\n",
              "      <td>ORD</td>\n",
              "      <td>OO</td>\n",
              "      <td>4</td>\n",
              "    </tr>\n",
              "    <tr>\n",
              "      <th>2</th>\n",
              "      <td>1170.0</td>\n",
              "      <td>BOS</td>\n",
              "      <td>CLT</td>\n",
              "      <td>B6</td>\n",
              "      <td>3</td>\n",
              "    </tr>\n",
              "    <tr>\n",
              "      <th>3</th>\n",
              "      <td>1410.0</td>\n",
              "      <td>OGG</td>\n",
              "      <td>PHX</td>\n",
              "      <td>US</td>\n",
              "      <td>6</td>\n",
              "    </tr>\n",
              "    <tr>\n",
              "      <th>4</th>\n",
              "      <td>692.0</td>\n",
              "      <td>BMI</td>\n",
              "      <td>ATL</td>\n",
              "      <td>FL</td>\n",
              "      <td>4</td>\n",
              "    </tr>\n",
              "    <tr>\n",
              "      <th>...</th>\n",
              "      <td>...</td>\n",
              "      <td>...</td>\n",
              "      <td>...</td>\n",
              "      <td>...</td>\n",
              "      <td>...</td>\n",
              "    </tr>\n",
              "    <tr>\n",
              "      <th>539377</th>\n",
              "      <td>530.0</td>\n",
              "      <td>GEG</td>\n",
              "      <td>SEA</td>\n",
              "      <td>OO</td>\n",
              "      <td>5</td>\n",
              "    </tr>\n",
              "    <tr>\n",
              "      <th>539378</th>\n",
              "      <td>560.0</td>\n",
              "      <td>LAS</td>\n",
              "      <td>DEN</td>\n",
              "      <td>WN</td>\n",
              "      <td>4</td>\n",
              "    </tr>\n",
              "    <tr>\n",
              "      <th>539379</th>\n",
              "      <td>827.0</td>\n",
              "      <td>CAE</td>\n",
              "      <td>ATL</td>\n",
              "      <td>EV</td>\n",
              "      <td>2</td>\n",
              "    </tr>\n",
              "    <tr>\n",
              "      <th>539380</th>\n",
              "      <td>715.0</td>\n",
              "      <td>BWI</td>\n",
              "      <td>BUF</td>\n",
              "      <td>WN</td>\n",
              "      <td>4</td>\n",
              "    </tr>\n",
              "    <tr>\n",
              "      <th>539381</th>\n",
              "      <td>770.0</td>\n",
              "      <td>CPR</td>\n",
              "      <td>DEN</td>\n",
              "      <td>OO</td>\n",
              "      <td>2</td>\n",
              "    </tr>\n",
              "  </tbody>\n",
              "</table>\n",
              "<p>539382 rows × 5 columns</p>\n",
              "</div>\n",
              "      <button class=\"colab-df-convert\" onclick=\"convertToInteractive('df-027ec08e-59d4-4e81-8cdc-a1d0247999e0')\"\n",
              "              title=\"Convert this dataframe to an interactive table.\"\n",
              "              style=\"display:none;\">\n",
              "        \n",
              "  <svg xmlns=\"http://www.w3.org/2000/svg\" height=\"24px\"viewBox=\"0 0 24 24\"\n",
              "       width=\"24px\">\n",
              "    <path d=\"M0 0h24v24H0V0z\" fill=\"none\"/>\n",
              "    <path d=\"M18.56 5.44l.94 2.06.94-2.06 2.06-.94-2.06-.94-.94-2.06-.94 2.06-2.06.94zm-11 1L8.5 8.5l.94-2.06 2.06-.94-2.06-.94L8.5 2.5l-.94 2.06-2.06.94zm10 10l.94 2.06.94-2.06 2.06-.94-2.06-.94-.94-2.06-.94 2.06-2.06.94z\"/><path d=\"M17.41 7.96l-1.37-1.37c-.4-.4-.92-.59-1.43-.59-.52 0-1.04.2-1.43.59L10.3 9.45l-7.72 7.72c-.78.78-.78 2.05 0 2.83L4 21.41c.39.39.9.59 1.41.59.51 0 1.02-.2 1.41-.59l7.78-7.78 2.81-2.81c.8-.78.8-2.07 0-2.86zM5.41 20L4 18.59l7.72-7.72 1.47 1.35L5.41 20z\"/>\n",
              "  </svg>\n",
              "      </button>\n",
              "      \n",
              "  <style>\n",
              "    .colab-df-container {\n",
              "      display:flex;\n",
              "      flex-wrap:wrap;\n",
              "      gap: 12px;\n",
              "    }\n",
              "\n",
              "    .colab-df-convert {\n",
              "      background-color: #E8F0FE;\n",
              "      border: none;\n",
              "      border-radius: 50%;\n",
              "      cursor: pointer;\n",
              "      display: none;\n",
              "      fill: #1967D2;\n",
              "      height: 32px;\n",
              "      padding: 0 0 0 0;\n",
              "      width: 32px;\n",
              "    }\n",
              "\n",
              "    .colab-df-convert:hover {\n",
              "      background-color: #E2EBFA;\n",
              "      box-shadow: 0px 1px 2px rgba(60, 64, 67, 0.3), 0px 1px 3px 1px rgba(60, 64, 67, 0.15);\n",
              "      fill: #174EA6;\n",
              "    }\n",
              "\n",
              "    [theme=dark] .colab-df-convert {\n",
              "      background-color: #3B4455;\n",
              "      fill: #D2E3FC;\n",
              "    }\n",
              "\n",
              "    [theme=dark] .colab-df-convert:hover {\n",
              "      background-color: #434B5C;\n",
              "      box-shadow: 0px 1px 3px 1px rgba(0, 0, 0, 0.15);\n",
              "      filter: drop-shadow(0px 1px 2px rgba(0, 0, 0, 0.3));\n",
              "      fill: #FFFFFF;\n",
              "    }\n",
              "  </style>\n",
              "\n",
              "      <script>\n",
              "        const buttonEl =\n",
              "          document.querySelector('#df-027ec08e-59d4-4e81-8cdc-a1d0247999e0 button.colab-df-convert');\n",
              "        buttonEl.style.display =\n",
              "          google.colab.kernel.accessAllowed ? 'block' : 'none';\n",
              "\n",
              "        async function convertToInteractive(key) {\n",
              "          const element = document.querySelector('#df-027ec08e-59d4-4e81-8cdc-a1d0247999e0');\n",
              "          const dataTable =\n",
              "            await google.colab.kernel.invokeFunction('convertToInteractive',\n",
              "                                                     [key], {});\n",
              "          if (!dataTable) return;\n",
              "\n",
              "          const docLinkHtml = 'Like what you see? Visit the ' +\n",
              "            '<a target=\"_blank\" href=https://colab.research.google.com/notebooks/data_table.ipynb>data table notebook</a>'\n",
              "            + ' to learn more about interactive tables.';\n",
              "          element.innerHTML = '';\n",
              "          dataTable['output_type'] = 'display_data';\n",
              "          await google.colab.output.renderOutput(dataTable, element);\n",
              "          const docLink = document.createElement('div');\n",
              "          docLink.innerHTML = docLinkHtml;\n",
              "          element.appendChild(docLink);\n",
              "        }\n",
              "      </script>\n",
              "    </div>\n",
              "  </div>\n",
              "  "
            ]
          },
          "metadata": {},
          "execution_count": 18
        }
      ]
    },
    {
      "cell_type": "code",
      "source": [
        "y = df_all['Class'].copy()\n",
        "y"
      ],
      "metadata": {
        "colab": {
          "base_uri": "https://localhost:8080/"
        },
        "id": "ydFAAjVHBwx6",
        "outputId": "0ab8a779-0c2b-44bd-bb68-f2b8bc46f61c"
      },
      "execution_count": 19,
      "outputs": [
        {
          "output_type": "execute_result",
          "data": {
            "text/plain": [
              "0         0\n",
              "1         0\n",
              "2         0\n",
              "3         0\n",
              "4         0\n",
              "         ..\n",
              "539377    1\n",
              "539378    1\n",
              "539379    1\n",
              "539380    1\n",
              "539381    1\n",
              "Name: Class, Length: 539382, dtype: int64"
            ]
          },
          "metadata": {},
          "execution_count": 19
        }
      ]
    },
    {
      "cell_type": "code",
      "source": [
        "X"
      ],
      "metadata": {
        "colab": {
          "base_uri": "https://localhost:8080/",
          "height": 423
        },
        "id": "30DCSmkjGjmw",
        "outputId": "e0e6934e-7bcb-424e-abb4-6c7c7d4f4979"
      },
      "execution_count": 20,
      "outputs": [
        {
          "output_type": "execute_result",
          "data": {
            "text/plain": [
              "          Time AirportFrom AirportTo Airline  DayOfWeek\n",
              "0       1296.0         ATL       HOU      DL          1\n",
              "1        360.0         COS       ORD      OO          4\n",
              "2       1170.0         BOS       CLT      B6          3\n",
              "3       1410.0         OGG       PHX      US          6\n",
              "4        692.0         BMI       ATL      FL          4\n",
              "...        ...         ...       ...     ...        ...\n",
              "539377   530.0         GEG       SEA      OO          5\n",
              "539378   560.0         LAS       DEN      WN          4\n",
              "539379   827.0         CAE       ATL      EV          2\n",
              "539380   715.0         BWI       BUF      WN          4\n",
              "539381   770.0         CPR       DEN      OO          2\n",
              "\n",
              "[539382 rows x 5 columns]"
            ],
            "text/html": [
              "\n",
              "  <div id=\"df-2a20bee9-b66b-433c-828c-b19e5e89c94b\">\n",
              "    <div class=\"colab-df-container\">\n",
              "      <div>\n",
              "<style scoped>\n",
              "    .dataframe tbody tr th:only-of-type {\n",
              "        vertical-align: middle;\n",
              "    }\n",
              "\n",
              "    .dataframe tbody tr th {\n",
              "        vertical-align: top;\n",
              "    }\n",
              "\n",
              "    .dataframe thead th {\n",
              "        text-align: right;\n",
              "    }\n",
              "</style>\n",
              "<table border=\"1\" class=\"dataframe\">\n",
              "  <thead>\n",
              "    <tr style=\"text-align: right;\">\n",
              "      <th></th>\n",
              "      <th>Time</th>\n",
              "      <th>AirportFrom</th>\n",
              "      <th>AirportTo</th>\n",
              "      <th>Airline</th>\n",
              "      <th>DayOfWeek</th>\n",
              "    </tr>\n",
              "  </thead>\n",
              "  <tbody>\n",
              "    <tr>\n",
              "      <th>0</th>\n",
              "      <td>1296.0</td>\n",
              "      <td>ATL</td>\n",
              "      <td>HOU</td>\n",
              "      <td>DL</td>\n",
              "      <td>1</td>\n",
              "    </tr>\n",
              "    <tr>\n",
              "      <th>1</th>\n",
              "      <td>360.0</td>\n",
              "      <td>COS</td>\n",
              "      <td>ORD</td>\n",
              "      <td>OO</td>\n",
              "      <td>4</td>\n",
              "    </tr>\n",
              "    <tr>\n",
              "      <th>2</th>\n",
              "      <td>1170.0</td>\n",
              "      <td>BOS</td>\n",
              "      <td>CLT</td>\n",
              "      <td>B6</td>\n",
              "      <td>3</td>\n",
              "    </tr>\n",
              "    <tr>\n",
              "      <th>3</th>\n",
              "      <td>1410.0</td>\n",
              "      <td>OGG</td>\n",
              "      <td>PHX</td>\n",
              "      <td>US</td>\n",
              "      <td>6</td>\n",
              "    </tr>\n",
              "    <tr>\n",
              "      <th>4</th>\n",
              "      <td>692.0</td>\n",
              "      <td>BMI</td>\n",
              "      <td>ATL</td>\n",
              "      <td>FL</td>\n",
              "      <td>4</td>\n",
              "    </tr>\n",
              "    <tr>\n",
              "      <th>...</th>\n",
              "      <td>...</td>\n",
              "      <td>...</td>\n",
              "      <td>...</td>\n",
              "      <td>...</td>\n",
              "      <td>...</td>\n",
              "    </tr>\n",
              "    <tr>\n",
              "      <th>539377</th>\n",
              "      <td>530.0</td>\n",
              "      <td>GEG</td>\n",
              "      <td>SEA</td>\n",
              "      <td>OO</td>\n",
              "      <td>5</td>\n",
              "    </tr>\n",
              "    <tr>\n",
              "      <th>539378</th>\n",
              "      <td>560.0</td>\n",
              "      <td>LAS</td>\n",
              "      <td>DEN</td>\n",
              "      <td>WN</td>\n",
              "      <td>4</td>\n",
              "    </tr>\n",
              "    <tr>\n",
              "      <th>539379</th>\n",
              "      <td>827.0</td>\n",
              "      <td>CAE</td>\n",
              "      <td>ATL</td>\n",
              "      <td>EV</td>\n",
              "      <td>2</td>\n",
              "    </tr>\n",
              "    <tr>\n",
              "      <th>539380</th>\n",
              "      <td>715.0</td>\n",
              "      <td>BWI</td>\n",
              "      <td>BUF</td>\n",
              "      <td>WN</td>\n",
              "      <td>4</td>\n",
              "    </tr>\n",
              "    <tr>\n",
              "      <th>539381</th>\n",
              "      <td>770.0</td>\n",
              "      <td>CPR</td>\n",
              "      <td>DEN</td>\n",
              "      <td>OO</td>\n",
              "      <td>2</td>\n",
              "    </tr>\n",
              "  </tbody>\n",
              "</table>\n",
              "<p>539382 rows × 5 columns</p>\n",
              "</div>\n",
              "      <button class=\"colab-df-convert\" onclick=\"convertToInteractive('df-2a20bee9-b66b-433c-828c-b19e5e89c94b')\"\n",
              "              title=\"Convert this dataframe to an interactive table.\"\n",
              "              style=\"display:none;\">\n",
              "        \n",
              "  <svg xmlns=\"http://www.w3.org/2000/svg\" height=\"24px\"viewBox=\"0 0 24 24\"\n",
              "       width=\"24px\">\n",
              "    <path d=\"M0 0h24v24H0V0z\" fill=\"none\"/>\n",
              "    <path d=\"M18.56 5.44l.94 2.06.94-2.06 2.06-.94-2.06-.94-.94-2.06-.94 2.06-2.06.94zm-11 1L8.5 8.5l.94-2.06 2.06-.94-2.06-.94L8.5 2.5l-.94 2.06-2.06.94zm10 10l.94 2.06.94-2.06 2.06-.94-2.06-.94-.94-2.06-.94 2.06-2.06.94z\"/><path d=\"M17.41 7.96l-1.37-1.37c-.4-.4-.92-.59-1.43-.59-.52 0-1.04.2-1.43.59L10.3 9.45l-7.72 7.72c-.78.78-.78 2.05 0 2.83L4 21.41c.39.39.9.59 1.41.59.51 0 1.02-.2 1.41-.59l7.78-7.78 2.81-2.81c.8-.78.8-2.07 0-2.86zM5.41 20L4 18.59l7.72-7.72 1.47 1.35L5.41 20z\"/>\n",
              "  </svg>\n",
              "      </button>\n",
              "      \n",
              "  <style>\n",
              "    .colab-df-container {\n",
              "      display:flex;\n",
              "      flex-wrap:wrap;\n",
              "      gap: 12px;\n",
              "    }\n",
              "\n",
              "    .colab-df-convert {\n",
              "      background-color: #E8F0FE;\n",
              "      border: none;\n",
              "      border-radius: 50%;\n",
              "      cursor: pointer;\n",
              "      display: none;\n",
              "      fill: #1967D2;\n",
              "      height: 32px;\n",
              "      padding: 0 0 0 0;\n",
              "      width: 32px;\n",
              "    }\n",
              "\n",
              "    .colab-df-convert:hover {\n",
              "      background-color: #E2EBFA;\n",
              "      box-shadow: 0px 1px 2px rgba(60, 64, 67, 0.3), 0px 1px 3px 1px rgba(60, 64, 67, 0.15);\n",
              "      fill: #174EA6;\n",
              "    }\n",
              "\n",
              "    [theme=dark] .colab-df-convert {\n",
              "      background-color: #3B4455;\n",
              "      fill: #D2E3FC;\n",
              "    }\n",
              "\n",
              "    [theme=dark] .colab-df-convert:hover {\n",
              "      background-color: #434B5C;\n",
              "      box-shadow: 0px 1px 3px 1px rgba(0, 0, 0, 0.15);\n",
              "      filter: drop-shadow(0px 1px 2px rgba(0, 0, 0, 0.3));\n",
              "      fill: #FFFFFF;\n",
              "    }\n",
              "  </style>\n",
              "\n",
              "      <script>\n",
              "        const buttonEl =\n",
              "          document.querySelector('#df-2a20bee9-b66b-433c-828c-b19e5e89c94b button.colab-df-convert');\n",
              "        buttonEl.style.display =\n",
              "          google.colab.kernel.accessAllowed ? 'block' : 'none';\n",
              "\n",
              "        async function convertToInteractive(key) {\n",
              "          const element = document.querySelector('#df-2a20bee9-b66b-433c-828c-b19e5e89c94b');\n",
              "          const dataTable =\n",
              "            await google.colab.kernel.invokeFunction('convertToInteractive',\n",
              "                                                     [key], {});\n",
              "          if (!dataTable) return;\n",
              "\n",
              "          const docLinkHtml = 'Like what you see? Visit the ' +\n",
              "            '<a target=\"_blank\" href=https://colab.research.google.com/notebooks/data_table.ipynb>data table notebook</a>'\n",
              "            + ' to learn more about interactive tables.';\n",
              "          element.innerHTML = '';\n",
              "          dataTable['output_type'] = 'display_data';\n",
              "          await google.colab.output.renderOutput(dataTable, element);\n",
              "          const docLink = document.createElement('div');\n",
              "          docLink.innerHTML = docLinkHtml;\n",
              "          element.appendChild(docLink);\n",
              "        }\n",
              "      </script>\n",
              "    </div>\n",
              "  </div>\n",
              "  "
            ]
          },
          "metadata": {},
          "execution_count": 20
        }
      ]
    },
    {
      "cell_type": "code",
      "source": [
        "X_transformed = X.copy()\n",
        "X_transformed = pd.get_dummies(X_transformed, columns=['AirportFrom','AirportTo','Airline','DayOfWeek'])\n",
        "\n",
        "X_transformed"
      ],
      "metadata": {
        "colab": {
          "base_uri": "https://localhost:8080/",
          "height": 487
        },
        "id": "yQdzpslGGmJG",
        "outputId": "02464fff-ac05-4b9b-c592-837ce47e506a"
      },
      "execution_count": 21,
      "outputs": [
        {
          "output_type": "execute_result",
          "data": {
            "text/plain": [
              "          Time  AirportFrom_ABE  AirportFrom_ABI  AirportFrom_ABQ  \\\n",
              "0       1296.0                0                0                0   \n",
              "1        360.0                0                0                0   \n",
              "2       1170.0                0                0                0   \n",
              "3       1410.0                0                0                0   \n",
              "4        692.0                0                0                0   \n",
              "...        ...              ...              ...              ...   \n",
              "539377   530.0                0                0                0   \n",
              "539378   560.0                0                0                0   \n",
              "539379   827.0                0                0                0   \n",
              "539380   715.0                0                0                0   \n",
              "539381   770.0                0                0                0   \n",
              "\n",
              "        AirportFrom_ABR  AirportFrom_ABY  AirportFrom_ACT  AirportFrom_ACV  \\\n",
              "0                     0                0                0                0   \n",
              "1                     0                0                0                0   \n",
              "2                     0                0                0                0   \n",
              "3                     0                0                0                0   \n",
              "4                     0                0                0                0   \n",
              "...                 ...              ...              ...              ...   \n",
              "539377                0                0                0                0   \n",
              "539378                0                0                0                0   \n",
              "539379                0                0                0                0   \n",
              "539380                0                0                0                0   \n",
              "539381                0                0                0                0   \n",
              "\n",
              "        AirportFrom_ACY  AirportFrom_ADK  ...  Airline_WN  Airline_XE  \\\n",
              "0                     0                0  ...           0           0   \n",
              "1                     0                0  ...           0           0   \n",
              "2                     0                0  ...           0           0   \n",
              "3                     0                0  ...           0           0   \n",
              "4                     0                0  ...           0           0   \n",
              "...                 ...              ...  ...         ...         ...   \n",
              "539377                0                0  ...           0           0   \n",
              "539378                0                0  ...           1           0   \n",
              "539379                0                0  ...           0           0   \n",
              "539380                0                0  ...           1           0   \n",
              "539381                0                0  ...           0           0   \n",
              "\n",
              "        Airline_YV  DayOfWeek_1  DayOfWeek_2  DayOfWeek_3  DayOfWeek_4  \\\n",
              "0                0            1            0            0            0   \n",
              "1                0            0            0            0            1   \n",
              "2                0            0            0            1            0   \n",
              "3                0            0            0            0            0   \n",
              "4                0            0            0            0            1   \n",
              "...            ...          ...          ...          ...          ...   \n",
              "539377           0            0            0            0            0   \n",
              "539378           0            0            0            0            1   \n",
              "539379           0            0            1            0            0   \n",
              "539380           0            0            0            0            1   \n",
              "539381           0            0            1            0            0   \n",
              "\n",
              "        DayOfWeek_5  DayOfWeek_6  DayOfWeek_7  \n",
              "0                 0            0            0  \n",
              "1                 0            0            0  \n",
              "2                 0            0            0  \n",
              "3                 0            1            0  \n",
              "4                 0            0            0  \n",
              "...             ...          ...          ...  \n",
              "539377            1            0            0  \n",
              "539378            0            0            0  \n",
              "539379            0            0            0  \n",
              "539380            0            0            0  \n",
              "539381            0            0            0  \n",
              "\n",
              "[539382 rows x 612 columns]"
            ],
            "text/html": [
              "\n",
              "  <div id=\"df-00bf04a6-ca07-4bb0-895a-8582826fca3d\">\n",
              "    <div class=\"colab-df-container\">\n",
              "      <div>\n",
              "<style scoped>\n",
              "    .dataframe tbody tr th:only-of-type {\n",
              "        vertical-align: middle;\n",
              "    }\n",
              "\n",
              "    .dataframe tbody tr th {\n",
              "        vertical-align: top;\n",
              "    }\n",
              "\n",
              "    .dataframe thead th {\n",
              "        text-align: right;\n",
              "    }\n",
              "</style>\n",
              "<table border=\"1\" class=\"dataframe\">\n",
              "  <thead>\n",
              "    <tr style=\"text-align: right;\">\n",
              "      <th></th>\n",
              "      <th>Time</th>\n",
              "      <th>AirportFrom_ABE</th>\n",
              "      <th>AirportFrom_ABI</th>\n",
              "      <th>AirportFrom_ABQ</th>\n",
              "      <th>AirportFrom_ABR</th>\n",
              "      <th>AirportFrom_ABY</th>\n",
              "      <th>AirportFrom_ACT</th>\n",
              "      <th>AirportFrom_ACV</th>\n",
              "      <th>AirportFrom_ACY</th>\n",
              "      <th>AirportFrom_ADK</th>\n",
              "      <th>...</th>\n",
              "      <th>Airline_WN</th>\n",
              "      <th>Airline_XE</th>\n",
              "      <th>Airline_YV</th>\n",
              "      <th>DayOfWeek_1</th>\n",
              "      <th>DayOfWeek_2</th>\n",
              "      <th>DayOfWeek_3</th>\n",
              "      <th>DayOfWeek_4</th>\n",
              "      <th>DayOfWeek_5</th>\n",
              "      <th>DayOfWeek_6</th>\n",
              "      <th>DayOfWeek_7</th>\n",
              "    </tr>\n",
              "  </thead>\n",
              "  <tbody>\n",
              "    <tr>\n",
              "      <th>0</th>\n",
              "      <td>1296.0</td>\n",
              "      <td>0</td>\n",
              "      <td>0</td>\n",
              "      <td>0</td>\n",
              "      <td>0</td>\n",
              "      <td>0</td>\n",
              "      <td>0</td>\n",
              "      <td>0</td>\n",
              "      <td>0</td>\n",
              "      <td>0</td>\n",
              "      <td>...</td>\n",
              "      <td>0</td>\n",
              "      <td>0</td>\n",
              "      <td>0</td>\n",
              "      <td>1</td>\n",
              "      <td>0</td>\n",
              "      <td>0</td>\n",
              "      <td>0</td>\n",
              "      <td>0</td>\n",
              "      <td>0</td>\n",
              "      <td>0</td>\n",
              "    </tr>\n",
              "    <tr>\n",
              "      <th>1</th>\n",
              "      <td>360.0</td>\n",
              "      <td>0</td>\n",
              "      <td>0</td>\n",
              "      <td>0</td>\n",
              "      <td>0</td>\n",
              "      <td>0</td>\n",
              "      <td>0</td>\n",
              "      <td>0</td>\n",
              "      <td>0</td>\n",
              "      <td>0</td>\n",
              "      <td>...</td>\n",
              "      <td>0</td>\n",
              "      <td>0</td>\n",
              "      <td>0</td>\n",
              "      <td>0</td>\n",
              "      <td>0</td>\n",
              "      <td>0</td>\n",
              "      <td>1</td>\n",
              "      <td>0</td>\n",
              "      <td>0</td>\n",
              "      <td>0</td>\n",
              "    </tr>\n",
              "    <tr>\n",
              "      <th>2</th>\n",
              "      <td>1170.0</td>\n",
              "      <td>0</td>\n",
              "      <td>0</td>\n",
              "      <td>0</td>\n",
              "      <td>0</td>\n",
              "      <td>0</td>\n",
              "      <td>0</td>\n",
              "      <td>0</td>\n",
              "      <td>0</td>\n",
              "      <td>0</td>\n",
              "      <td>...</td>\n",
              "      <td>0</td>\n",
              "      <td>0</td>\n",
              "      <td>0</td>\n",
              "      <td>0</td>\n",
              "      <td>0</td>\n",
              "      <td>1</td>\n",
              "      <td>0</td>\n",
              "      <td>0</td>\n",
              "      <td>0</td>\n",
              "      <td>0</td>\n",
              "    </tr>\n",
              "    <tr>\n",
              "      <th>3</th>\n",
              "      <td>1410.0</td>\n",
              "      <td>0</td>\n",
              "      <td>0</td>\n",
              "      <td>0</td>\n",
              "      <td>0</td>\n",
              "      <td>0</td>\n",
              "      <td>0</td>\n",
              "      <td>0</td>\n",
              "      <td>0</td>\n",
              "      <td>0</td>\n",
              "      <td>...</td>\n",
              "      <td>0</td>\n",
              "      <td>0</td>\n",
              "      <td>0</td>\n",
              "      <td>0</td>\n",
              "      <td>0</td>\n",
              "      <td>0</td>\n",
              "      <td>0</td>\n",
              "      <td>0</td>\n",
              "      <td>1</td>\n",
              "      <td>0</td>\n",
              "    </tr>\n",
              "    <tr>\n",
              "      <th>4</th>\n",
              "      <td>692.0</td>\n",
              "      <td>0</td>\n",
              "      <td>0</td>\n",
              "      <td>0</td>\n",
              "      <td>0</td>\n",
              "      <td>0</td>\n",
              "      <td>0</td>\n",
              "      <td>0</td>\n",
              "      <td>0</td>\n",
              "      <td>0</td>\n",
              "      <td>...</td>\n",
              "      <td>0</td>\n",
              "      <td>0</td>\n",
              "      <td>0</td>\n",
              "      <td>0</td>\n",
              "      <td>0</td>\n",
              "      <td>0</td>\n",
              "      <td>1</td>\n",
              "      <td>0</td>\n",
              "      <td>0</td>\n",
              "      <td>0</td>\n",
              "    </tr>\n",
              "    <tr>\n",
              "      <th>...</th>\n",
              "      <td>...</td>\n",
              "      <td>...</td>\n",
              "      <td>...</td>\n",
              "      <td>...</td>\n",
              "      <td>...</td>\n",
              "      <td>...</td>\n",
              "      <td>...</td>\n",
              "      <td>...</td>\n",
              "      <td>...</td>\n",
              "      <td>...</td>\n",
              "      <td>...</td>\n",
              "      <td>...</td>\n",
              "      <td>...</td>\n",
              "      <td>...</td>\n",
              "      <td>...</td>\n",
              "      <td>...</td>\n",
              "      <td>...</td>\n",
              "      <td>...</td>\n",
              "      <td>...</td>\n",
              "      <td>...</td>\n",
              "      <td>...</td>\n",
              "    </tr>\n",
              "    <tr>\n",
              "      <th>539377</th>\n",
              "      <td>530.0</td>\n",
              "      <td>0</td>\n",
              "      <td>0</td>\n",
              "      <td>0</td>\n",
              "      <td>0</td>\n",
              "      <td>0</td>\n",
              "      <td>0</td>\n",
              "      <td>0</td>\n",
              "      <td>0</td>\n",
              "      <td>0</td>\n",
              "      <td>...</td>\n",
              "      <td>0</td>\n",
              "      <td>0</td>\n",
              "      <td>0</td>\n",
              "      <td>0</td>\n",
              "      <td>0</td>\n",
              "      <td>0</td>\n",
              "      <td>0</td>\n",
              "      <td>1</td>\n",
              "      <td>0</td>\n",
              "      <td>0</td>\n",
              "    </tr>\n",
              "    <tr>\n",
              "      <th>539378</th>\n",
              "      <td>560.0</td>\n",
              "      <td>0</td>\n",
              "      <td>0</td>\n",
              "      <td>0</td>\n",
              "      <td>0</td>\n",
              "      <td>0</td>\n",
              "      <td>0</td>\n",
              "      <td>0</td>\n",
              "      <td>0</td>\n",
              "      <td>0</td>\n",
              "      <td>...</td>\n",
              "      <td>1</td>\n",
              "      <td>0</td>\n",
              "      <td>0</td>\n",
              "      <td>0</td>\n",
              "      <td>0</td>\n",
              "      <td>0</td>\n",
              "      <td>1</td>\n",
              "      <td>0</td>\n",
              "      <td>0</td>\n",
              "      <td>0</td>\n",
              "    </tr>\n",
              "    <tr>\n",
              "      <th>539379</th>\n",
              "      <td>827.0</td>\n",
              "      <td>0</td>\n",
              "      <td>0</td>\n",
              "      <td>0</td>\n",
              "      <td>0</td>\n",
              "      <td>0</td>\n",
              "      <td>0</td>\n",
              "      <td>0</td>\n",
              "      <td>0</td>\n",
              "      <td>0</td>\n",
              "      <td>...</td>\n",
              "      <td>0</td>\n",
              "      <td>0</td>\n",
              "      <td>0</td>\n",
              "      <td>0</td>\n",
              "      <td>1</td>\n",
              "      <td>0</td>\n",
              "      <td>0</td>\n",
              "      <td>0</td>\n",
              "      <td>0</td>\n",
              "      <td>0</td>\n",
              "    </tr>\n",
              "    <tr>\n",
              "      <th>539380</th>\n",
              "      <td>715.0</td>\n",
              "      <td>0</td>\n",
              "      <td>0</td>\n",
              "      <td>0</td>\n",
              "      <td>0</td>\n",
              "      <td>0</td>\n",
              "      <td>0</td>\n",
              "      <td>0</td>\n",
              "      <td>0</td>\n",
              "      <td>0</td>\n",
              "      <td>...</td>\n",
              "      <td>1</td>\n",
              "      <td>0</td>\n",
              "      <td>0</td>\n",
              "      <td>0</td>\n",
              "      <td>0</td>\n",
              "      <td>0</td>\n",
              "      <td>1</td>\n",
              "      <td>0</td>\n",
              "      <td>0</td>\n",
              "      <td>0</td>\n",
              "    </tr>\n",
              "    <tr>\n",
              "      <th>539381</th>\n",
              "      <td>770.0</td>\n",
              "      <td>0</td>\n",
              "      <td>0</td>\n",
              "      <td>0</td>\n",
              "      <td>0</td>\n",
              "      <td>0</td>\n",
              "      <td>0</td>\n",
              "      <td>0</td>\n",
              "      <td>0</td>\n",
              "      <td>0</td>\n",
              "      <td>...</td>\n",
              "      <td>0</td>\n",
              "      <td>0</td>\n",
              "      <td>0</td>\n",
              "      <td>0</td>\n",
              "      <td>1</td>\n",
              "      <td>0</td>\n",
              "      <td>0</td>\n",
              "      <td>0</td>\n",
              "      <td>0</td>\n",
              "      <td>0</td>\n",
              "    </tr>\n",
              "  </tbody>\n",
              "</table>\n",
              "<p>539382 rows × 612 columns</p>\n",
              "</div>\n",
              "      <button class=\"colab-df-convert\" onclick=\"convertToInteractive('df-00bf04a6-ca07-4bb0-895a-8582826fca3d')\"\n",
              "              title=\"Convert this dataframe to an interactive table.\"\n",
              "              style=\"display:none;\">\n",
              "        \n",
              "  <svg xmlns=\"http://www.w3.org/2000/svg\" height=\"24px\"viewBox=\"0 0 24 24\"\n",
              "       width=\"24px\">\n",
              "    <path d=\"M0 0h24v24H0V0z\" fill=\"none\"/>\n",
              "    <path d=\"M18.56 5.44l.94 2.06.94-2.06 2.06-.94-2.06-.94-.94-2.06-.94 2.06-2.06.94zm-11 1L8.5 8.5l.94-2.06 2.06-.94-2.06-.94L8.5 2.5l-.94 2.06-2.06.94zm10 10l.94 2.06.94-2.06 2.06-.94-2.06-.94-.94-2.06-.94 2.06-2.06.94z\"/><path d=\"M17.41 7.96l-1.37-1.37c-.4-.4-.92-.59-1.43-.59-.52 0-1.04.2-1.43.59L10.3 9.45l-7.72 7.72c-.78.78-.78 2.05 0 2.83L4 21.41c.39.39.9.59 1.41.59.51 0 1.02-.2 1.41-.59l7.78-7.78 2.81-2.81c.8-.78.8-2.07 0-2.86zM5.41 20L4 18.59l7.72-7.72 1.47 1.35L5.41 20z\"/>\n",
              "  </svg>\n",
              "      </button>\n",
              "      \n",
              "  <style>\n",
              "    .colab-df-container {\n",
              "      display:flex;\n",
              "      flex-wrap:wrap;\n",
              "      gap: 12px;\n",
              "    }\n",
              "\n",
              "    .colab-df-convert {\n",
              "      background-color: #E8F0FE;\n",
              "      border: none;\n",
              "      border-radius: 50%;\n",
              "      cursor: pointer;\n",
              "      display: none;\n",
              "      fill: #1967D2;\n",
              "      height: 32px;\n",
              "      padding: 0 0 0 0;\n",
              "      width: 32px;\n",
              "    }\n",
              "\n",
              "    .colab-df-convert:hover {\n",
              "      background-color: #E2EBFA;\n",
              "      box-shadow: 0px 1px 2px rgba(60, 64, 67, 0.3), 0px 1px 3px 1px rgba(60, 64, 67, 0.15);\n",
              "      fill: #174EA6;\n",
              "    }\n",
              "\n",
              "    [theme=dark] .colab-df-convert {\n",
              "      background-color: #3B4455;\n",
              "      fill: #D2E3FC;\n",
              "    }\n",
              "\n",
              "    [theme=dark] .colab-df-convert:hover {\n",
              "      background-color: #434B5C;\n",
              "      box-shadow: 0px 1px 3px 1px rgba(0, 0, 0, 0.15);\n",
              "      filter: drop-shadow(0px 1px 2px rgba(0, 0, 0, 0.3));\n",
              "      fill: #FFFFFF;\n",
              "    }\n",
              "  </style>\n",
              "\n",
              "      <script>\n",
              "        const buttonEl =\n",
              "          document.querySelector('#df-00bf04a6-ca07-4bb0-895a-8582826fca3d button.colab-df-convert');\n",
              "        buttonEl.style.display =\n",
              "          google.colab.kernel.accessAllowed ? 'block' : 'none';\n",
              "\n",
              "        async function convertToInteractive(key) {\n",
              "          const element = document.querySelector('#df-00bf04a6-ca07-4bb0-895a-8582826fca3d');\n",
              "          const dataTable =\n",
              "            await google.colab.kernel.invokeFunction('convertToInteractive',\n",
              "                                                     [key], {});\n",
              "          if (!dataTable) return;\n",
              "\n",
              "          const docLinkHtml = 'Like what you see? Visit the ' +\n",
              "            '<a target=\"_blank\" href=https://colab.research.google.com/notebooks/data_table.ipynb>data table notebook</a>'\n",
              "            + ' to learn more about interactive tables.';\n",
              "          element.innerHTML = '';\n",
              "          dataTable['output_type'] = 'display_data';\n",
              "          await google.colab.output.renderOutput(dataTable, element);\n",
              "          const docLink = document.createElement('div');\n",
              "          docLink.innerHTML = docLinkHtml;\n",
              "          element.appendChild(docLink);\n",
              "        }\n",
              "      </script>\n",
              "    </div>\n",
              "  </div>\n",
              "  "
            ]
          },
          "metadata": {},
          "execution_count": 21
        }
      ]
    },
    {
      "cell_type": "code",
      "source": [
        "X_transformed_train, X_transformed_test, y_train, y_test = train_test_split(X_transformed, y, test_size =0.2, random_state = 333, stratify=y)"
      ],
      "metadata": {
        "id": "0DfurJQwHbRY"
      },
      "execution_count": 22,
      "outputs": []
    },
    {
      "cell_type": "code",
      "source": [
        "X_transformed_train.shape"
      ],
      "metadata": {
        "colab": {
          "base_uri": "https://localhost:8080/"
        },
        "id": "N03BiPnsJC9e",
        "outputId": "7df8948d-3395-4fcf-e98b-8218756df42f"
      },
      "execution_count": 23,
      "outputs": [
        {
          "output_type": "execute_result",
          "data": {
            "text/plain": [
              "(431505, 612)"
            ]
          },
          "metadata": {},
          "execution_count": 23
        }
      ]
    },
    {
      "cell_type": "code",
      "source": [
        "X_transformed_test.shape"
      ],
      "metadata": {
        "colab": {
          "base_uri": "https://localhost:8080/"
        },
        "id": "ZJP-aGtbIM_h",
        "outputId": "95ef4a47-79c7-4c44-da77-5da115da995b"
      },
      "execution_count": 24,
      "outputs": [
        {
          "output_type": "execute_result",
          "data": {
            "text/plain": [
              "(107877, 612)"
            ]
          },
          "metadata": {},
          "execution_count": 24
        }
      ]
    },
    {
      "cell_type": "markdown",
      "source": [
        "# Modelowanie"
      ],
      "metadata": {
        "id": "IqSfH3HB0TuD"
      }
    },
    {
      "cell_type": "markdown",
      "source": [
        "## DummyClassifier"
      ],
      "metadata": {
        "id": "HUzFy2qw0Zy1"
      }
    },
    {
      "cell_type": "code",
      "source": [
        "from sklearn.dummy import DummyClassifier"
      ],
      "metadata": {
        "id": "mPjrH5gcLb7j"
      },
      "execution_count": 28,
      "outputs": []
    },
    {
      "cell_type": "code",
      "source": [
        "model_dm = DummyClassifier()"
      ],
      "metadata": {
        "id": "VGmeOKRgLcnE"
      },
      "execution_count": 29,
      "outputs": []
    },
    {
      "cell_type": "code",
      "source": [
        "model_dm.fit(X_transformed_train, y_train)"
      ],
      "metadata": {
        "colab": {
          "base_uri": "https://localhost:8080/",
          "height": 75
        },
        "id": "p6at5-C8LjWl",
        "outputId": "a3d98b83-c408-426e-83da-0f19cf13d2c8"
      },
      "execution_count": 30,
      "outputs": [
        {
          "output_type": "execute_result",
          "data": {
            "text/plain": [
              "DummyClassifier()"
            ],
            "text/html": [
              "<style>#sk-container-id-1 {color: black;background-color: white;}#sk-container-id-1 pre{padding: 0;}#sk-container-id-1 div.sk-toggleable {background-color: white;}#sk-container-id-1 label.sk-toggleable__label {cursor: pointer;display: block;width: 100%;margin-bottom: 0;padding: 0.3em;box-sizing: border-box;text-align: center;}#sk-container-id-1 label.sk-toggleable__label-arrow:before {content: \"▸\";float: left;margin-right: 0.25em;color: #696969;}#sk-container-id-1 label.sk-toggleable__label-arrow:hover:before {color: black;}#sk-container-id-1 div.sk-estimator:hover label.sk-toggleable__label-arrow:before {color: black;}#sk-container-id-1 div.sk-toggleable__content {max-height: 0;max-width: 0;overflow: hidden;text-align: left;background-color: #f0f8ff;}#sk-container-id-1 div.sk-toggleable__content pre {margin: 0.2em;color: black;border-radius: 0.25em;background-color: #f0f8ff;}#sk-container-id-1 input.sk-toggleable__control:checked~div.sk-toggleable__content {max-height: 200px;max-width: 100%;overflow: auto;}#sk-container-id-1 input.sk-toggleable__control:checked~label.sk-toggleable__label-arrow:before {content: \"▾\";}#sk-container-id-1 div.sk-estimator input.sk-toggleable__control:checked~label.sk-toggleable__label {background-color: #d4ebff;}#sk-container-id-1 div.sk-label input.sk-toggleable__control:checked~label.sk-toggleable__label {background-color: #d4ebff;}#sk-container-id-1 input.sk-hidden--visually {border: 0;clip: rect(1px 1px 1px 1px);clip: rect(1px, 1px, 1px, 1px);height: 1px;margin: -1px;overflow: hidden;padding: 0;position: absolute;width: 1px;}#sk-container-id-1 div.sk-estimator {font-family: monospace;background-color: #f0f8ff;border: 1px dotted black;border-radius: 0.25em;box-sizing: border-box;margin-bottom: 0.5em;}#sk-container-id-1 div.sk-estimator:hover {background-color: #d4ebff;}#sk-container-id-1 div.sk-parallel-item::after {content: \"\";width: 100%;border-bottom: 1px solid gray;flex-grow: 1;}#sk-container-id-1 div.sk-label:hover label.sk-toggleable__label {background-color: #d4ebff;}#sk-container-id-1 div.sk-serial::before {content: \"\";position: absolute;border-left: 1px solid gray;box-sizing: border-box;top: 0;bottom: 0;left: 50%;z-index: 0;}#sk-container-id-1 div.sk-serial {display: flex;flex-direction: column;align-items: center;background-color: white;padding-right: 0.2em;padding-left: 0.2em;position: relative;}#sk-container-id-1 div.sk-item {position: relative;z-index: 1;}#sk-container-id-1 div.sk-parallel {display: flex;align-items: stretch;justify-content: center;background-color: white;position: relative;}#sk-container-id-1 div.sk-item::before, #sk-container-id-1 div.sk-parallel-item::before {content: \"\";position: absolute;border-left: 1px solid gray;box-sizing: border-box;top: 0;bottom: 0;left: 50%;z-index: -1;}#sk-container-id-1 div.sk-parallel-item {display: flex;flex-direction: column;z-index: 1;position: relative;background-color: white;}#sk-container-id-1 div.sk-parallel-item:first-child::after {align-self: flex-end;width: 50%;}#sk-container-id-1 div.sk-parallel-item:last-child::after {align-self: flex-start;width: 50%;}#sk-container-id-1 div.sk-parallel-item:only-child::after {width: 0;}#sk-container-id-1 div.sk-dashed-wrapped {border: 1px dashed gray;margin: 0 0.4em 0.5em 0.4em;box-sizing: border-box;padding-bottom: 0.4em;background-color: white;}#sk-container-id-1 div.sk-label label {font-family: monospace;font-weight: bold;display: inline-block;line-height: 1.2em;}#sk-container-id-1 div.sk-label-container {text-align: center;}#sk-container-id-1 div.sk-container {/* jupyter's `normalize.less` sets `[hidden] { display: none; }` but bootstrap.min.css set `[hidden] { display: none !important; }` so we also need the `!important` here to be able to override the default hidden behavior on the sphinx rendered scikit-learn.org. See: https://github.com/scikit-learn/scikit-learn/issues/21755 */display: inline-block !important;position: relative;}#sk-container-id-1 div.sk-text-repr-fallback {display: none;}</style><div id=\"sk-container-id-1\" class=\"sk-top-container\"><div class=\"sk-text-repr-fallback\"><pre>DummyClassifier()</pre><b>In a Jupyter environment, please rerun this cell to show the HTML representation or trust the notebook. <br />On GitHub, the HTML representation is unable to render, please try loading this page with nbviewer.org.</b></div><div class=\"sk-container\" hidden><div class=\"sk-item\"><div class=\"sk-estimator sk-toggleable\"><input class=\"sk-toggleable__control sk-hidden--visually\" id=\"sk-estimator-id-1\" type=\"checkbox\" checked><label for=\"sk-estimator-id-1\" class=\"sk-toggleable__label sk-toggleable__label-arrow\">DummyClassifier</label><div class=\"sk-toggleable__content\"><pre>DummyClassifier()</pre></div></div></div></div></div>"
            ]
          },
          "metadata": {},
          "execution_count": 30
        }
      ]
    },
    {
      "cell_type": "code",
      "source": [
        "y_pred_test_dm = model_dm.predict(X_transformed_test)"
      ],
      "metadata": {
        "id": "67UEGEATLlvy"
      },
      "execution_count": 31,
      "outputs": []
    },
    {
      "cell_type": "code",
      "source": [
        "from sklearn.model_selection import GridSearchCV"
      ],
      "metadata": {
        "id": "rAEUEd4HdaiU"
      },
      "execution_count": 32,
      "outputs": []
    },
    {
      "cell_type": "code",
      "source": [
        "pipe_dm = Pipeline( steps = [('model',  DummyClassifier())\n",
        "    ])"
      ],
      "metadata": {
        "id": "baAiBhFZeK9o"
      },
      "execution_count": 33,
      "outputs": []
    },
    {
      "cell_type": "code",
      "source": [
        "pipe_dm.get_params()"
      ],
      "metadata": {
        "colab": {
          "base_uri": "https://localhost:8080/"
        },
        "id": "Yv__6u8Sd7p-",
        "outputId": "126ae610-0c6c-4a18-af77-23cbe7054816"
      },
      "execution_count": 34,
      "outputs": [
        {
          "output_type": "execute_result",
          "data": {
            "text/plain": [
              "{'memory': None,\n",
              " 'steps': [('model', DummyClassifier())],\n",
              " 'verbose': False,\n",
              " 'model': DummyClassifier(),\n",
              " 'model__constant': None,\n",
              " 'model__random_state': None,\n",
              " 'model__strategy': 'prior'}"
            ]
          },
          "metadata": {},
          "execution_count": 34
        }
      ]
    },
    {
      "cell_type": "code",
      "source": [
        "parameters_dm = {\n",
        "    'model__strategy':  ('most_frequent', 'prior', 'stratified', 'uniform', 'constant')\n",
        "    }"
      ],
      "metadata": {
        "id": "c38vuyPHeAE8"
      },
      "execution_count": 35,
      "outputs": []
    },
    {
      "cell_type": "code",
      "source": [
        "clf = GridSearchCV(pipe_dm, parameters_dm, verbose = 3)"
      ],
      "metadata": {
        "id": "9IAqpguCeAe1"
      },
      "execution_count": 36,
      "outputs": []
    },
    {
      "cell_type": "code",
      "source": [
        "clf.fit(X_transformed_train, y_train)"
      ],
      "metadata": {
        "colab": {
          "base_uri": "https://localhost:8080/",
          "height": 990
        },
        "id": "YwfdpGlCeBrg",
        "outputId": "a809d654-0994-4c95-eea0-e415b98a3cdb"
      },
      "execution_count": 37,
      "outputs": [
        {
          "output_type": "stream",
          "name": "stdout",
          "text": [
            "Fitting 5 folds for each of 5 candidates, totalling 25 fits\n",
            "[CV 1/5] END .....model__strategy=most_frequent;, score=0.555 total time=   2.2s\n",
            "[CV 2/5] END .....model__strategy=most_frequent;, score=0.555 total time=   1.9s\n",
            "[CV 3/5] END .....model__strategy=most_frequent;, score=0.555 total time=   2.0s\n",
            "[CV 4/5] END .....model__strategy=most_frequent;, score=0.555 total time=   2.9s\n",
            "[CV 5/5] END .....model__strategy=most_frequent;, score=0.555 total time=   2.3s\n",
            "[CV 1/5] END .............model__strategy=prior;, score=0.555 total time=   1.9s\n",
            "[CV 2/5] END .............model__strategy=prior;, score=0.555 total time=   1.9s\n",
            "[CV 3/5] END .............model__strategy=prior;, score=0.555 total time=   2.0s\n",
            "[CV 4/5] END .............model__strategy=prior;, score=0.555 total time=   1.9s\n",
            "[CV 5/5] END .............model__strategy=prior;, score=0.555 total time=   3.0s\n",
            "[CV 1/5] END ........model__strategy=stratified;, score=0.507 total time=   2.1s\n",
            "[CV 2/5] END ........model__strategy=stratified;, score=0.507 total time=   1.9s\n",
            "[CV 3/5] END ........model__strategy=stratified;, score=0.507 total time=   2.0s\n",
            "[CV 4/5] END ........model__strategy=stratified;, score=0.506 total time=   1.9s\n",
            "[CV 5/5] END ........model__strategy=stratified;, score=0.506 total time=   2.0s\n",
            "[CV 1/5] END ...........model__strategy=uniform;, score=0.501 total time=   3.2s\n",
            "[CV 2/5] END ...........model__strategy=uniform;, score=0.498 total time=   1.9s\n",
            "[CV 3/5] END ...........model__strategy=uniform;, score=0.502 total time=   1.9s\n",
            "[CV 4/5] END ...........model__strategy=uniform;, score=0.499 total time=   1.9s\n",
            "[CV 5/5] END ...........model__strategy=uniform;, score=0.500 total time=   1.9s\n",
            "[CV 1/5] END ............model__strategy=constant;, score=nan total time=   1.9s\n",
            "[CV 2/5] END ............model__strategy=constant;, score=nan total time=   3.0s\n",
            "[CV 3/5] END ............model__strategy=constant;, score=nan total time=   2.0s\n",
            "[CV 4/5] END ............model__strategy=constant;, score=nan total time=   1.8s\n",
            "[CV 5/5] END ............model__strategy=constant;, score=nan total time=   1.9s\n"
          ]
        },
        {
          "output_type": "stream",
          "name": "stderr",
          "text": [
            "/usr/local/lib/python3.9/dist-packages/sklearn/model_selection/_validation.py:378: FitFailedWarning: \n",
            "5 fits failed out of a total of 25.\n",
            "The score on these train-test partitions for these parameters will be set to nan.\n",
            "If these failures are not expected, you can try to debug them by setting error_score='raise'.\n",
            "\n",
            "Below are more details about the failures:\n",
            "--------------------------------------------------------------------------------\n",
            "5 fits failed with the following error:\n",
            "Traceback (most recent call last):\n",
            "  File \"/usr/local/lib/python3.9/dist-packages/sklearn/model_selection/_validation.py\", line 686, in _fit_and_score\n",
            "    estimator.fit(X_train, y_train, **fit_params)\n",
            "  File \"/usr/local/lib/python3.9/dist-packages/sklearn/pipeline.py\", line 405, in fit\n",
            "    self._final_estimator.fit(Xt, y, **fit_params_last_step)\n",
            "  File \"/usr/local/lib/python3.9/dist-packages/sklearn/dummy.py\", line 196, in fit\n",
            "    raise ValueError(\n",
            "ValueError: Constant target value has to be specified when the constant strategy is used.\n",
            "\n",
            "  warnings.warn(some_fits_failed_message, FitFailedWarning)\n",
            "/usr/local/lib/python3.9/dist-packages/sklearn/model_selection/_search.py:952: UserWarning: One or more of the test scores are non-finite: [0.55455673 0.55455673 0.50644604 0.50001506        nan]\n",
            "  warnings.warn(\n"
          ]
        },
        {
          "output_type": "execute_result",
          "data": {
            "text/plain": [
              "GridSearchCV(estimator=Pipeline(steps=[('model', DummyClassifier())]),\n",
              "             param_grid={'model__strategy': ('most_frequent', 'prior',\n",
              "                                             'stratified', 'uniform',\n",
              "                                             'constant')},\n",
              "             verbose=3)"
            ],
            "text/html": [
              "<style>#sk-container-id-2 {color: black;background-color: white;}#sk-container-id-2 pre{padding: 0;}#sk-container-id-2 div.sk-toggleable {background-color: white;}#sk-container-id-2 label.sk-toggleable__label {cursor: pointer;display: block;width: 100%;margin-bottom: 0;padding: 0.3em;box-sizing: border-box;text-align: center;}#sk-container-id-2 label.sk-toggleable__label-arrow:before {content: \"▸\";float: left;margin-right: 0.25em;color: #696969;}#sk-container-id-2 label.sk-toggleable__label-arrow:hover:before {color: black;}#sk-container-id-2 div.sk-estimator:hover label.sk-toggleable__label-arrow:before {color: black;}#sk-container-id-2 div.sk-toggleable__content {max-height: 0;max-width: 0;overflow: hidden;text-align: left;background-color: #f0f8ff;}#sk-container-id-2 div.sk-toggleable__content pre {margin: 0.2em;color: black;border-radius: 0.25em;background-color: #f0f8ff;}#sk-container-id-2 input.sk-toggleable__control:checked~div.sk-toggleable__content {max-height: 200px;max-width: 100%;overflow: auto;}#sk-container-id-2 input.sk-toggleable__control:checked~label.sk-toggleable__label-arrow:before {content: \"▾\";}#sk-container-id-2 div.sk-estimator input.sk-toggleable__control:checked~label.sk-toggleable__label {background-color: #d4ebff;}#sk-container-id-2 div.sk-label input.sk-toggleable__control:checked~label.sk-toggleable__label {background-color: #d4ebff;}#sk-container-id-2 input.sk-hidden--visually {border: 0;clip: rect(1px 1px 1px 1px);clip: rect(1px, 1px, 1px, 1px);height: 1px;margin: -1px;overflow: hidden;padding: 0;position: absolute;width: 1px;}#sk-container-id-2 div.sk-estimator {font-family: monospace;background-color: #f0f8ff;border: 1px dotted black;border-radius: 0.25em;box-sizing: border-box;margin-bottom: 0.5em;}#sk-container-id-2 div.sk-estimator:hover {background-color: #d4ebff;}#sk-container-id-2 div.sk-parallel-item::after {content: \"\";width: 100%;border-bottom: 1px solid gray;flex-grow: 1;}#sk-container-id-2 div.sk-label:hover label.sk-toggleable__label {background-color: #d4ebff;}#sk-container-id-2 div.sk-serial::before {content: \"\";position: absolute;border-left: 1px solid gray;box-sizing: border-box;top: 0;bottom: 0;left: 50%;z-index: 0;}#sk-container-id-2 div.sk-serial {display: flex;flex-direction: column;align-items: center;background-color: white;padding-right: 0.2em;padding-left: 0.2em;position: relative;}#sk-container-id-2 div.sk-item {position: relative;z-index: 1;}#sk-container-id-2 div.sk-parallel {display: flex;align-items: stretch;justify-content: center;background-color: white;position: relative;}#sk-container-id-2 div.sk-item::before, #sk-container-id-2 div.sk-parallel-item::before {content: \"\";position: absolute;border-left: 1px solid gray;box-sizing: border-box;top: 0;bottom: 0;left: 50%;z-index: -1;}#sk-container-id-2 div.sk-parallel-item {display: flex;flex-direction: column;z-index: 1;position: relative;background-color: white;}#sk-container-id-2 div.sk-parallel-item:first-child::after {align-self: flex-end;width: 50%;}#sk-container-id-2 div.sk-parallel-item:last-child::after {align-self: flex-start;width: 50%;}#sk-container-id-2 div.sk-parallel-item:only-child::after {width: 0;}#sk-container-id-2 div.sk-dashed-wrapped {border: 1px dashed gray;margin: 0 0.4em 0.5em 0.4em;box-sizing: border-box;padding-bottom: 0.4em;background-color: white;}#sk-container-id-2 div.sk-label label {font-family: monospace;font-weight: bold;display: inline-block;line-height: 1.2em;}#sk-container-id-2 div.sk-label-container {text-align: center;}#sk-container-id-2 div.sk-container {/* jupyter's `normalize.less` sets `[hidden] { display: none; }` but bootstrap.min.css set `[hidden] { display: none !important; }` so we also need the `!important` here to be able to override the default hidden behavior on the sphinx rendered scikit-learn.org. See: https://github.com/scikit-learn/scikit-learn/issues/21755 */display: inline-block !important;position: relative;}#sk-container-id-2 div.sk-text-repr-fallback {display: none;}</style><div id=\"sk-container-id-2\" class=\"sk-top-container\"><div class=\"sk-text-repr-fallback\"><pre>GridSearchCV(estimator=Pipeline(steps=[(&#x27;model&#x27;, DummyClassifier())]),\n",
              "             param_grid={&#x27;model__strategy&#x27;: (&#x27;most_frequent&#x27;, &#x27;prior&#x27;,\n",
              "                                             &#x27;stratified&#x27;, &#x27;uniform&#x27;,\n",
              "                                             &#x27;constant&#x27;)},\n",
              "             verbose=3)</pre><b>In a Jupyter environment, please rerun this cell to show the HTML representation or trust the notebook. <br />On GitHub, the HTML representation is unable to render, please try loading this page with nbviewer.org.</b></div><div class=\"sk-container\" hidden><div class=\"sk-item sk-dashed-wrapped\"><div class=\"sk-label-container\"><div class=\"sk-label sk-toggleable\"><input class=\"sk-toggleable__control sk-hidden--visually\" id=\"sk-estimator-id-2\" type=\"checkbox\" ><label for=\"sk-estimator-id-2\" class=\"sk-toggleable__label sk-toggleable__label-arrow\">GridSearchCV</label><div class=\"sk-toggleable__content\"><pre>GridSearchCV(estimator=Pipeline(steps=[(&#x27;model&#x27;, DummyClassifier())]),\n",
              "             param_grid={&#x27;model__strategy&#x27;: (&#x27;most_frequent&#x27;, &#x27;prior&#x27;,\n",
              "                                             &#x27;stratified&#x27;, &#x27;uniform&#x27;,\n",
              "                                             &#x27;constant&#x27;)},\n",
              "             verbose=3)</pre></div></div></div><div class=\"sk-parallel\"><div class=\"sk-parallel-item\"><div class=\"sk-item\"><div class=\"sk-label-container\"><div class=\"sk-label sk-toggleable\"><input class=\"sk-toggleable__control sk-hidden--visually\" id=\"sk-estimator-id-3\" type=\"checkbox\" ><label for=\"sk-estimator-id-3\" class=\"sk-toggleable__label sk-toggleable__label-arrow\">estimator: Pipeline</label><div class=\"sk-toggleable__content\"><pre>Pipeline(steps=[(&#x27;model&#x27;, DummyClassifier())])</pre></div></div></div><div class=\"sk-serial\"><div class=\"sk-item\"><div class=\"sk-serial\"><div class=\"sk-item\"><div class=\"sk-estimator sk-toggleable\"><input class=\"sk-toggleable__control sk-hidden--visually\" id=\"sk-estimator-id-4\" type=\"checkbox\" ><label for=\"sk-estimator-id-4\" class=\"sk-toggleable__label sk-toggleable__label-arrow\">DummyClassifier</label><div class=\"sk-toggleable__content\"><pre>DummyClassifier()</pre></div></div></div></div></div></div></div></div></div></div></div></div>"
            ]
          },
          "metadata": {},
          "execution_count": 37
        }
      ]
    },
    {
      "cell_type": "code",
      "source": [
        "clf.best_estimator_"
      ],
      "metadata": {
        "colab": {
          "base_uri": "https://localhost:8080/",
          "height": 115
        },
        "id": "ab3VMvyaeDVV",
        "outputId": "d9b4c121-e373-4da2-e7a6-ace9e553d3e8"
      },
      "execution_count": 38,
      "outputs": [
        {
          "output_type": "execute_result",
          "data": {
            "text/plain": [
              "Pipeline(steps=[('model', DummyClassifier(strategy='most_frequent'))])"
            ],
            "text/html": [
              "<style>#sk-container-id-3 {color: black;background-color: white;}#sk-container-id-3 pre{padding: 0;}#sk-container-id-3 div.sk-toggleable {background-color: white;}#sk-container-id-3 label.sk-toggleable__label {cursor: pointer;display: block;width: 100%;margin-bottom: 0;padding: 0.3em;box-sizing: border-box;text-align: center;}#sk-container-id-3 label.sk-toggleable__label-arrow:before {content: \"▸\";float: left;margin-right: 0.25em;color: #696969;}#sk-container-id-3 label.sk-toggleable__label-arrow:hover:before {color: black;}#sk-container-id-3 div.sk-estimator:hover label.sk-toggleable__label-arrow:before {color: black;}#sk-container-id-3 div.sk-toggleable__content {max-height: 0;max-width: 0;overflow: hidden;text-align: left;background-color: #f0f8ff;}#sk-container-id-3 div.sk-toggleable__content pre {margin: 0.2em;color: black;border-radius: 0.25em;background-color: #f0f8ff;}#sk-container-id-3 input.sk-toggleable__control:checked~div.sk-toggleable__content {max-height: 200px;max-width: 100%;overflow: auto;}#sk-container-id-3 input.sk-toggleable__control:checked~label.sk-toggleable__label-arrow:before {content: \"▾\";}#sk-container-id-3 div.sk-estimator input.sk-toggleable__control:checked~label.sk-toggleable__label {background-color: #d4ebff;}#sk-container-id-3 div.sk-label input.sk-toggleable__control:checked~label.sk-toggleable__label {background-color: #d4ebff;}#sk-container-id-3 input.sk-hidden--visually {border: 0;clip: rect(1px 1px 1px 1px);clip: rect(1px, 1px, 1px, 1px);height: 1px;margin: -1px;overflow: hidden;padding: 0;position: absolute;width: 1px;}#sk-container-id-3 div.sk-estimator {font-family: monospace;background-color: #f0f8ff;border: 1px dotted black;border-radius: 0.25em;box-sizing: border-box;margin-bottom: 0.5em;}#sk-container-id-3 div.sk-estimator:hover {background-color: #d4ebff;}#sk-container-id-3 div.sk-parallel-item::after {content: \"\";width: 100%;border-bottom: 1px solid gray;flex-grow: 1;}#sk-container-id-3 div.sk-label:hover label.sk-toggleable__label {background-color: #d4ebff;}#sk-container-id-3 div.sk-serial::before {content: \"\";position: absolute;border-left: 1px solid gray;box-sizing: border-box;top: 0;bottom: 0;left: 50%;z-index: 0;}#sk-container-id-3 div.sk-serial {display: flex;flex-direction: column;align-items: center;background-color: white;padding-right: 0.2em;padding-left: 0.2em;position: relative;}#sk-container-id-3 div.sk-item {position: relative;z-index: 1;}#sk-container-id-3 div.sk-parallel {display: flex;align-items: stretch;justify-content: center;background-color: white;position: relative;}#sk-container-id-3 div.sk-item::before, #sk-container-id-3 div.sk-parallel-item::before {content: \"\";position: absolute;border-left: 1px solid gray;box-sizing: border-box;top: 0;bottom: 0;left: 50%;z-index: -1;}#sk-container-id-3 div.sk-parallel-item {display: flex;flex-direction: column;z-index: 1;position: relative;background-color: white;}#sk-container-id-3 div.sk-parallel-item:first-child::after {align-self: flex-end;width: 50%;}#sk-container-id-3 div.sk-parallel-item:last-child::after {align-self: flex-start;width: 50%;}#sk-container-id-3 div.sk-parallel-item:only-child::after {width: 0;}#sk-container-id-3 div.sk-dashed-wrapped {border: 1px dashed gray;margin: 0 0.4em 0.5em 0.4em;box-sizing: border-box;padding-bottom: 0.4em;background-color: white;}#sk-container-id-3 div.sk-label label {font-family: monospace;font-weight: bold;display: inline-block;line-height: 1.2em;}#sk-container-id-3 div.sk-label-container {text-align: center;}#sk-container-id-3 div.sk-container {/* jupyter's `normalize.less` sets `[hidden] { display: none; }` but bootstrap.min.css set `[hidden] { display: none !important; }` so we also need the `!important` here to be able to override the default hidden behavior on the sphinx rendered scikit-learn.org. See: https://github.com/scikit-learn/scikit-learn/issues/21755 */display: inline-block !important;position: relative;}#sk-container-id-3 div.sk-text-repr-fallback {display: none;}</style><div id=\"sk-container-id-3\" class=\"sk-top-container\"><div class=\"sk-text-repr-fallback\"><pre>Pipeline(steps=[(&#x27;model&#x27;, DummyClassifier(strategy=&#x27;most_frequent&#x27;))])</pre><b>In a Jupyter environment, please rerun this cell to show the HTML representation or trust the notebook. <br />On GitHub, the HTML representation is unable to render, please try loading this page with nbviewer.org.</b></div><div class=\"sk-container\" hidden><div class=\"sk-item sk-dashed-wrapped\"><div class=\"sk-label-container\"><div class=\"sk-label sk-toggleable\"><input class=\"sk-toggleable__control sk-hidden--visually\" id=\"sk-estimator-id-5\" type=\"checkbox\" ><label for=\"sk-estimator-id-5\" class=\"sk-toggleable__label sk-toggleable__label-arrow\">Pipeline</label><div class=\"sk-toggleable__content\"><pre>Pipeline(steps=[(&#x27;model&#x27;, DummyClassifier(strategy=&#x27;most_frequent&#x27;))])</pre></div></div></div><div class=\"sk-serial\"><div class=\"sk-item\"><div class=\"sk-estimator sk-toggleable\"><input class=\"sk-toggleable__control sk-hidden--visually\" id=\"sk-estimator-id-6\" type=\"checkbox\" ><label for=\"sk-estimator-id-6\" class=\"sk-toggleable__label sk-toggleable__label-arrow\">DummyClassifier</label><div class=\"sk-toggleable__content\"><pre>DummyClassifier(strategy=&#x27;most_frequent&#x27;)</pre></div></div></div></div></div></div></div>"
            ]
          },
          "metadata": {},
          "execution_count": 38
        }
      ]
    },
    {
      "cell_type": "code",
      "source": [
        "model_dm_with_grid = DummyClassifier(strategy='most_frequent')"
      ],
      "metadata": {
        "id": "RdcPuGQFkPg8"
      },
      "execution_count": 39,
      "outputs": []
    },
    {
      "cell_type": "code",
      "source": [
        "model_dm_with_grid.fit(X_transformed_train, y_train)"
      ],
      "metadata": {
        "colab": {
          "base_uri": "https://localhost:8080/",
          "height": 75
        },
        "id": "lfFCqdYgsbEw",
        "outputId": "d01d5d63-fad6-44a4-fecf-ebac152dfccb"
      },
      "execution_count": 40,
      "outputs": [
        {
          "output_type": "execute_result",
          "data": {
            "text/plain": [
              "DummyClassifier(strategy='most_frequent')"
            ],
            "text/html": [
              "<style>#sk-container-id-4 {color: black;background-color: white;}#sk-container-id-4 pre{padding: 0;}#sk-container-id-4 div.sk-toggleable {background-color: white;}#sk-container-id-4 label.sk-toggleable__label {cursor: pointer;display: block;width: 100%;margin-bottom: 0;padding: 0.3em;box-sizing: border-box;text-align: center;}#sk-container-id-4 label.sk-toggleable__label-arrow:before {content: \"▸\";float: left;margin-right: 0.25em;color: #696969;}#sk-container-id-4 label.sk-toggleable__label-arrow:hover:before {color: black;}#sk-container-id-4 div.sk-estimator:hover label.sk-toggleable__label-arrow:before {color: black;}#sk-container-id-4 div.sk-toggleable__content {max-height: 0;max-width: 0;overflow: hidden;text-align: left;background-color: #f0f8ff;}#sk-container-id-4 div.sk-toggleable__content pre {margin: 0.2em;color: black;border-radius: 0.25em;background-color: #f0f8ff;}#sk-container-id-4 input.sk-toggleable__control:checked~div.sk-toggleable__content {max-height: 200px;max-width: 100%;overflow: auto;}#sk-container-id-4 input.sk-toggleable__control:checked~label.sk-toggleable__label-arrow:before {content: \"▾\";}#sk-container-id-4 div.sk-estimator input.sk-toggleable__control:checked~label.sk-toggleable__label {background-color: #d4ebff;}#sk-container-id-4 div.sk-label input.sk-toggleable__control:checked~label.sk-toggleable__label {background-color: #d4ebff;}#sk-container-id-4 input.sk-hidden--visually {border: 0;clip: rect(1px 1px 1px 1px);clip: rect(1px, 1px, 1px, 1px);height: 1px;margin: -1px;overflow: hidden;padding: 0;position: absolute;width: 1px;}#sk-container-id-4 div.sk-estimator {font-family: monospace;background-color: #f0f8ff;border: 1px dotted black;border-radius: 0.25em;box-sizing: border-box;margin-bottom: 0.5em;}#sk-container-id-4 div.sk-estimator:hover {background-color: #d4ebff;}#sk-container-id-4 div.sk-parallel-item::after {content: \"\";width: 100%;border-bottom: 1px solid gray;flex-grow: 1;}#sk-container-id-4 div.sk-label:hover label.sk-toggleable__label {background-color: #d4ebff;}#sk-container-id-4 div.sk-serial::before {content: \"\";position: absolute;border-left: 1px solid gray;box-sizing: border-box;top: 0;bottom: 0;left: 50%;z-index: 0;}#sk-container-id-4 div.sk-serial {display: flex;flex-direction: column;align-items: center;background-color: white;padding-right: 0.2em;padding-left: 0.2em;position: relative;}#sk-container-id-4 div.sk-item {position: relative;z-index: 1;}#sk-container-id-4 div.sk-parallel {display: flex;align-items: stretch;justify-content: center;background-color: white;position: relative;}#sk-container-id-4 div.sk-item::before, #sk-container-id-4 div.sk-parallel-item::before {content: \"\";position: absolute;border-left: 1px solid gray;box-sizing: border-box;top: 0;bottom: 0;left: 50%;z-index: -1;}#sk-container-id-4 div.sk-parallel-item {display: flex;flex-direction: column;z-index: 1;position: relative;background-color: white;}#sk-container-id-4 div.sk-parallel-item:first-child::after {align-self: flex-end;width: 50%;}#sk-container-id-4 div.sk-parallel-item:last-child::after {align-self: flex-start;width: 50%;}#sk-container-id-4 div.sk-parallel-item:only-child::after {width: 0;}#sk-container-id-4 div.sk-dashed-wrapped {border: 1px dashed gray;margin: 0 0.4em 0.5em 0.4em;box-sizing: border-box;padding-bottom: 0.4em;background-color: white;}#sk-container-id-4 div.sk-label label {font-family: monospace;font-weight: bold;display: inline-block;line-height: 1.2em;}#sk-container-id-4 div.sk-label-container {text-align: center;}#sk-container-id-4 div.sk-container {/* jupyter's `normalize.less` sets `[hidden] { display: none; }` but bootstrap.min.css set `[hidden] { display: none !important; }` so we also need the `!important` here to be able to override the default hidden behavior on the sphinx rendered scikit-learn.org. See: https://github.com/scikit-learn/scikit-learn/issues/21755 */display: inline-block !important;position: relative;}#sk-container-id-4 div.sk-text-repr-fallback {display: none;}</style><div id=\"sk-container-id-4\" class=\"sk-top-container\"><div class=\"sk-text-repr-fallback\"><pre>DummyClassifier(strategy=&#x27;most_frequent&#x27;)</pre><b>In a Jupyter environment, please rerun this cell to show the HTML representation or trust the notebook. <br />On GitHub, the HTML representation is unable to render, please try loading this page with nbviewer.org.</b></div><div class=\"sk-container\" hidden><div class=\"sk-item\"><div class=\"sk-estimator sk-toggleable\"><input class=\"sk-toggleable__control sk-hidden--visually\" id=\"sk-estimator-id-7\" type=\"checkbox\" checked><label for=\"sk-estimator-id-7\" class=\"sk-toggleable__label sk-toggleable__label-arrow\">DummyClassifier</label><div class=\"sk-toggleable__content\"><pre>DummyClassifier(strategy=&#x27;most_frequent&#x27;)</pre></div></div></div></div></div>"
            ]
          },
          "metadata": {},
          "execution_count": 40
        }
      ]
    },
    {
      "cell_type": "code",
      "source": [
        "y_pred_test_dm_grid = model_dm_with_grid.predict(X_transformed_test)"
      ],
      "metadata": {
        "id": "GFJAXdZjkb28"
      },
      "execution_count": 41,
      "outputs": []
    },
    {
      "cell_type": "markdown",
      "source": [
        "## Regresja logistyczna"
      ],
      "metadata": {
        "id": "FkdEAPsI1KEb"
      }
    },
    {
      "cell_type": "code",
      "source": [
        "from sklearn.linear_model import LogisticRegression"
      ],
      "metadata": {
        "id": "d9kNsFvDAFnE"
      },
      "execution_count": 42,
      "outputs": []
    },
    {
      "cell_type": "code",
      "source": [
        "model_lr = LogisticRegression()"
      ],
      "metadata": {
        "id": "0na3-DdPACDF"
      },
      "execution_count": 43,
      "outputs": []
    },
    {
      "cell_type": "code",
      "source": [
        "model_lr.fit(X_transformed_train, y_train)"
      ],
      "metadata": {
        "colab": {
          "base_uri": "https://localhost:8080/",
          "height": 223
        },
        "id": "_AGmB4lFKgxi",
        "outputId": "f0332c38-78d2-4680-9a46-774e12710b7e"
      },
      "execution_count": 44,
      "outputs": [
        {
          "output_type": "stream",
          "name": "stderr",
          "text": [
            "/usr/local/lib/python3.9/dist-packages/sklearn/linear_model/_logistic.py:458: ConvergenceWarning: lbfgs failed to converge (status=1):\n",
            "STOP: TOTAL NO. of ITERATIONS REACHED LIMIT.\n",
            "\n",
            "Increase the number of iterations (max_iter) or scale the data as shown in:\n",
            "    https://scikit-learn.org/stable/modules/preprocessing.html\n",
            "Please also refer to the documentation for alternative solver options:\n",
            "    https://scikit-learn.org/stable/modules/linear_model.html#logistic-regression\n",
            "  n_iter_i = _check_optimize_result(\n"
          ]
        },
        {
          "output_type": "execute_result",
          "data": {
            "text/plain": [
              "LogisticRegression()"
            ],
            "text/html": [
              "<style>#sk-container-id-5 {color: black;background-color: white;}#sk-container-id-5 pre{padding: 0;}#sk-container-id-5 div.sk-toggleable {background-color: white;}#sk-container-id-5 label.sk-toggleable__label {cursor: pointer;display: block;width: 100%;margin-bottom: 0;padding: 0.3em;box-sizing: border-box;text-align: center;}#sk-container-id-5 label.sk-toggleable__label-arrow:before {content: \"▸\";float: left;margin-right: 0.25em;color: #696969;}#sk-container-id-5 label.sk-toggleable__label-arrow:hover:before {color: black;}#sk-container-id-5 div.sk-estimator:hover label.sk-toggleable__label-arrow:before {color: black;}#sk-container-id-5 div.sk-toggleable__content {max-height: 0;max-width: 0;overflow: hidden;text-align: left;background-color: #f0f8ff;}#sk-container-id-5 div.sk-toggleable__content pre {margin: 0.2em;color: black;border-radius: 0.25em;background-color: #f0f8ff;}#sk-container-id-5 input.sk-toggleable__control:checked~div.sk-toggleable__content {max-height: 200px;max-width: 100%;overflow: auto;}#sk-container-id-5 input.sk-toggleable__control:checked~label.sk-toggleable__label-arrow:before {content: \"▾\";}#sk-container-id-5 div.sk-estimator input.sk-toggleable__control:checked~label.sk-toggleable__label {background-color: #d4ebff;}#sk-container-id-5 div.sk-label input.sk-toggleable__control:checked~label.sk-toggleable__label {background-color: #d4ebff;}#sk-container-id-5 input.sk-hidden--visually {border: 0;clip: rect(1px 1px 1px 1px);clip: rect(1px, 1px, 1px, 1px);height: 1px;margin: -1px;overflow: hidden;padding: 0;position: absolute;width: 1px;}#sk-container-id-5 div.sk-estimator {font-family: monospace;background-color: #f0f8ff;border: 1px dotted black;border-radius: 0.25em;box-sizing: border-box;margin-bottom: 0.5em;}#sk-container-id-5 div.sk-estimator:hover {background-color: #d4ebff;}#sk-container-id-5 div.sk-parallel-item::after {content: \"\";width: 100%;border-bottom: 1px solid gray;flex-grow: 1;}#sk-container-id-5 div.sk-label:hover label.sk-toggleable__label {background-color: #d4ebff;}#sk-container-id-5 div.sk-serial::before {content: \"\";position: absolute;border-left: 1px solid gray;box-sizing: border-box;top: 0;bottom: 0;left: 50%;z-index: 0;}#sk-container-id-5 div.sk-serial {display: flex;flex-direction: column;align-items: center;background-color: white;padding-right: 0.2em;padding-left: 0.2em;position: relative;}#sk-container-id-5 div.sk-item {position: relative;z-index: 1;}#sk-container-id-5 div.sk-parallel {display: flex;align-items: stretch;justify-content: center;background-color: white;position: relative;}#sk-container-id-5 div.sk-item::before, #sk-container-id-5 div.sk-parallel-item::before {content: \"\";position: absolute;border-left: 1px solid gray;box-sizing: border-box;top: 0;bottom: 0;left: 50%;z-index: -1;}#sk-container-id-5 div.sk-parallel-item {display: flex;flex-direction: column;z-index: 1;position: relative;background-color: white;}#sk-container-id-5 div.sk-parallel-item:first-child::after {align-self: flex-end;width: 50%;}#sk-container-id-5 div.sk-parallel-item:last-child::after {align-self: flex-start;width: 50%;}#sk-container-id-5 div.sk-parallel-item:only-child::after {width: 0;}#sk-container-id-5 div.sk-dashed-wrapped {border: 1px dashed gray;margin: 0 0.4em 0.5em 0.4em;box-sizing: border-box;padding-bottom: 0.4em;background-color: white;}#sk-container-id-5 div.sk-label label {font-family: monospace;font-weight: bold;display: inline-block;line-height: 1.2em;}#sk-container-id-5 div.sk-label-container {text-align: center;}#sk-container-id-5 div.sk-container {/* jupyter's `normalize.less` sets `[hidden] { display: none; }` but bootstrap.min.css set `[hidden] { display: none !important; }` so we also need the `!important` here to be able to override the default hidden behavior on the sphinx rendered scikit-learn.org. See: https://github.com/scikit-learn/scikit-learn/issues/21755 */display: inline-block !important;position: relative;}#sk-container-id-5 div.sk-text-repr-fallback {display: none;}</style><div id=\"sk-container-id-5\" class=\"sk-top-container\"><div class=\"sk-text-repr-fallback\"><pre>LogisticRegression()</pre><b>In a Jupyter environment, please rerun this cell to show the HTML representation or trust the notebook. <br />On GitHub, the HTML representation is unable to render, please try loading this page with nbviewer.org.</b></div><div class=\"sk-container\" hidden><div class=\"sk-item\"><div class=\"sk-estimator sk-toggleable\"><input class=\"sk-toggleable__control sk-hidden--visually\" id=\"sk-estimator-id-8\" type=\"checkbox\" checked><label for=\"sk-estimator-id-8\" class=\"sk-toggleable__label sk-toggleable__label-arrow\">LogisticRegression</label><div class=\"sk-toggleable__content\"><pre>LogisticRegression()</pre></div></div></div></div></div>"
            ]
          },
          "metadata": {},
          "execution_count": 44
        }
      ]
    },
    {
      "cell_type": "code",
      "source": [
        "y_pred_test_lr = model_lr.predict(X_transformed_test)"
      ],
      "metadata": {
        "id": "NB9mzYSLLJpJ"
      },
      "execution_count": 45,
      "outputs": []
    },
    {
      "cell_type": "code",
      "source": [
        "pipe_lr = Pipeline( steps = [('model',  LogisticRegression())\n",
        "    ])"
      ],
      "metadata": {
        "id": "iO1SxdlYhOoz"
      },
      "execution_count": 46,
      "outputs": []
    },
    {
      "cell_type": "code",
      "source": [
        "pipe_lr.get_params()"
      ],
      "metadata": {
        "colab": {
          "base_uri": "https://localhost:8080/"
        },
        "id": "qPHA_6rGhqZ_",
        "outputId": "8f0904c1-3c80-4853-982b-51e1a27f4566"
      },
      "execution_count": 47,
      "outputs": [
        {
          "output_type": "execute_result",
          "data": {
            "text/plain": [
              "{'memory': None,\n",
              " 'steps': [('model', LogisticRegression())],\n",
              " 'verbose': False,\n",
              " 'model': LogisticRegression(),\n",
              " 'model__C': 1.0,\n",
              " 'model__class_weight': None,\n",
              " 'model__dual': False,\n",
              " 'model__fit_intercept': True,\n",
              " 'model__intercept_scaling': 1,\n",
              " 'model__l1_ratio': None,\n",
              " 'model__max_iter': 100,\n",
              " 'model__multi_class': 'auto',\n",
              " 'model__n_jobs': None,\n",
              " 'model__penalty': 'l2',\n",
              " 'model__random_state': None,\n",
              " 'model__solver': 'lbfgs',\n",
              " 'model__tol': 0.0001,\n",
              " 'model__verbose': 0,\n",
              " 'model__warm_start': False}"
            ]
          },
          "metadata": {},
          "execution_count": 47
        }
      ]
    },
    {
      "cell_type": "code",
      "source": [
        "parameters_lr = {\n",
        "    'model__penalty':['l1', 'l2', 'elasticnet', None]\n",
        "    }"
      ],
      "metadata": {
        "id": "GKfE7u9lhlhf"
      },
      "execution_count": 63,
      "outputs": []
    },
    {
      "cell_type": "code",
      "source": [
        "clf_lr = GridSearchCV(pipe_lr, parameters_lr, verbose = 3)"
      ],
      "metadata": {
        "id": "G4emui9WiXsa"
      },
      "execution_count": 64,
      "outputs": []
    },
    {
      "cell_type": "code",
      "source": [
        "clf_lr.fit(X_transformed_train, y_train)"
      ],
      "metadata": {
        "colab": {
          "base_uri": "https://localhost:8080/"
        },
        "id": "l_Ih5pIIiqcL",
        "outputId": "754ec153-9730-4cdd-b983-bc870cf18a57"
      },
      "execution_count": null,
      "outputs": [
        {
          "output_type": "stream",
          "name": "stdout",
          "text": [
            "[CV 1/5] END ...................model__penalty=l1;, score=nan total time=   7.0s\n",
            "[CV 2/5] END ...................model__penalty=l1;, score=nan total time=   3.9s\n",
            "[CV 3/5] END ...................model__penalty=l1;, score=nan total time=   2.0s\n",
            "[CV 4/5] END ...................model__penalty=l1;, score=nan total time=   2.1s\n",
            "[CV 5/5] END ...................model__penalty=l1;, score=nan total time=   3.3s\n",
            "[CV 1/5] END .................model__penalty=l2;, score=0.639 total time= 1.1min\n",
            "[CV 2/5] END .................model__penalty=l2;, score=0.637 total time=  49.4s\n",
            "[CV 3/5] END .................model__penalty=l2;, score=0.631 total time=  16.4s\n"
          ]
        },
        {
          "output_type": "stream",
          "name": "stderr",
          "text": [
            "/usr/local/lib/python3.9/dist-packages/sklearn/linear_model/_logistic.py:458: ConvergenceWarning: lbfgs failed to converge (status=1):\n",
            "STOP: TOTAL NO. of ITERATIONS REACHED LIMIT.\n",
            "\n",
            "Increase the number of iterations (max_iter) or scale the data as shown in:\n",
            "    https://scikit-learn.org/stable/modules/preprocessing.html\n",
            "Please also refer to the documentation for alternative solver options:\n",
            "    https://scikit-learn.org/stable/modules/linear_model.html#logistic-regression\n",
            "  n_iter_i = _check_optimize_result(\n"
          ]
        },
        {
          "output_type": "stream",
          "name": "stdout",
          "text": [
            "[CV 4/5] END .................model__penalty=l2;, score=0.640 total time=  55.7s\n",
            "[CV 5/5] END .................model__penalty=l2;, score=0.637 total time=  34.1s\n",
            "[CV 1/5] END ...........model__penalty=elasticnet;, score=nan total time=   2.0s\n",
            "[CV 2/5] END ...........model__penalty=elasticnet;, score=nan total time=   2.5s\n",
            "[CV 3/5] END ...........model__penalty=elasticnet;, score=nan total time=   3.2s\n",
            "[CV 4/5] END ...........model__penalty=elasticnet;, score=nan total time=   2.0s\n",
            "[CV 5/5] END ...........model__penalty=elasticnet;, score=nan total time=   1.9s\n"
          ]
        },
        {
          "output_type": "stream",
          "name": "stderr",
          "text": [
            "/usr/local/lib/python3.9/dist-packages/sklearn/linear_model/_logistic.py:458: ConvergenceWarning: lbfgs failed to converge (status=1):\n",
            "STOP: TOTAL NO. of ITERATIONS REACHED LIMIT.\n",
            "\n",
            "Increase the number of iterations (max_iter) or scale the data as shown in:\n",
            "    https://scikit-learn.org/stable/modules/preprocessing.html\n",
            "Please also refer to the documentation for alternative solver options:\n",
            "    https://scikit-learn.org/stable/modules/linear_model.html#logistic-regression\n",
            "  n_iter_i = _check_optimize_result(\n"
          ]
        },
        {
          "output_type": "stream",
          "name": "stdout",
          "text": [
            "[CV 1/5] END ...............model__penalty=None;, score=0.639 total time= 1.0min\n"
          ]
        }
      ]
    },
    {
      "cell_type": "code",
      "source": [
        "clf_lr.best_estimator_"
      ],
      "metadata": {
        "colab": {
          "base_uri": "https://localhost:8080/",
          "height": 138
        },
        "id": "T-kL7mPqitt-",
        "outputId": "df17a28a-1322-4a7c-8d75-c6253d82ce32"
      },
      "execution_count": 51,
      "outputs": [
        {
          "output_type": "execute_result",
          "data": {
            "text/plain": [
              "Pipeline(steps=[('model', LogisticRegression())])"
            ],
            "text/html": [
              "<style>#sk-container-id-7 {color: black;background-color: white;}#sk-container-id-7 pre{padding: 0;}#sk-container-id-7 div.sk-toggleable {background-color: white;}#sk-container-id-7 label.sk-toggleable__label {cursor: pointer;display: block;width: 100%;margin-bottom: 0;padding: 0.3em;box-sizing: border-box;text-align: center;}#sk-container-id-7 label.sk-toggleable__label-arrow:before {content: \"▸\";float: left;margin-right: 0.25em;color: #696969;}#sk-container-id-7 label.sk-toggleable__label-arrow:hover:before {color: black;}#sk-container-id-7 div.sk-estimator:hover label.sk-toggleable__label-arrow:before {color: black;}#sk-container-id-7 div.sk-toggleable__content {max-height: 0;max-width: 0;overflow: hidden;text-align: left;background-color: #f0f8ff;}#sk-container-id-7 div.sk-toggleable__content pre {margin: 0.2em;color: black;border-radius: 0.25em;background-color: #f0f8ff;}#sk-container-id-7 input.sk-toggleable__control:checked~div.sk-toggleable__content {max-height: 200px;max-width: 100%;overflow: auto;}#sk-container-id-7 input.sk-toggleable__control:checked~label.sk-toggleable__label-arrow:before {content: \"▾\";}#sk-container-id-7 div.sk-estimator input.sk-toggleable__control:checked~label.sk-toggleable__label {background-color: #d4ebff;}#sk-container-id-7 div.sk-label input.sk-toggleable__control:checked~label.sk-toggleable__label {background-color: #d4ebff;}#sk-container-id-7 input.sk-hidden--visually {border: 0;clip: rect(1px 1px 1px 1px);clip: rect(1px, 1px, 1px, 1px);height: 1px;margin: -1px;overflow: hidden;padding: 0;position: absolute;width: 1px;}#sk-container-id-7 div.sk-estimator {font-family: monospace;background-color: #f0f8ff;border: 1px dotted black;border-radius: 0.25em;box-sizing: border-box;margin-bottom: 0.5em;}#sk-container-id-7 div.sk-estimator:hover {background-color: #d4ebff;}#sk-container-id-7 div.sk-parallel-item::after {content: \"\";width: 100%;border-bottom: 1px solid gray;flex-grow: 1;}#sk-container-id-7 div.sk-label:hover label.sk-toggleable__label {background-color: #d4ebff;}#sk-container-id-7 div.sk-serial::before {content: \"\";position: absolute;border-left: 1px solid gray;box-sizing: border-box;top: 0;bottom: 0;left: 50%;z-index: 0;}#sk-container-id-7 div.sk-serial {display: flex;flex-direction: column;align-items: center;background-color: white;padding-right: 0.2em;padding-left: 0.2em;position: relative;}#sk-container-id-7 div.sk-item {position: relative;z-index: 1;}#sk-container-id-7 div.sk-parallel {display: flex;align-items: stretch;justify-content: center;background-color: white;position: relative;}#sk-container-id-7 div.sk-item::before, #sk-container-id-7 div.sk-parallel-item::before {content: \"\";position: absolute;border-left: 1px solid gray;box-sizing: border-box;top: 0;bottom: 0;left: 50%;z-index: -1;}#sk-container-id-7 div.sk-parallel-item {display: flex;flex-direction: column;z-index: 1;position: relative;background-color: white;}#sk-container-id-7 div.sk-parallel-item:first-child::after {align-self: flex-end;width: 50%;}#sk-container-id-7 div.sk-parallel-item:last-child::after {align-self: flex-start;width: 50%;}#sk-container-id-7 div.sk-parallel-item:only-child::after {width: 0;}#sk-container-id-7 div.sk-dashed-wrapped {border: 1px dashed gray;margin: 0 0.4em 0.5em 0.4em;box-sizing: border-box;padding-bottom: 0.4em;background-color: white;}#sk-container-id-7 div.sk-label label {font-family: monospace;font-weight: bold;display: inline-block;line-height: 1.2em;}#sk-container-id-7 div.sk-label-container {text-align: center;}#sk-container-id-7 div.sk-container {/* jupyter's `normalize.less` sets `[hidden] { display: none; }` but bootstrap.min.css set `[hidden] { display: none !important; }` so we also need the `!important` here to be able to override the default hidden behavior on the sphinx rendered scikit-learn.org. See: https://github.com/scikit-learn/scikit-learn/issues/21755 */display: inline-block !important;position: relative;}#sk-container-id-7 div.sk-text-repr-fallback {display: none;}</style><div id=\"sk-container-id-7\" class=\"sk-top-container\"><div class=\"sk-text-repr-fallback\"><pre>Pipeline(steps=[(&#x27;model&#x27;, LogisticRegression())])</pre><b>In a Jupyter environment, please rerun this cell to show the HTML representation or trust the notebook. <br />On GitHub, the HTML representation is unable to render, please try loading this page with nbviewer.org.</b></div><div class=\"sk-container\" hidden><div class=\"sk-item sk-dashed-wrapped\"><div class=\"sk-label-container\"><div class=\"sk-label sk-toggleable\"><input class=\"sk-toggleable__control sk-hidden--visually\" id=\"sk-estimator-id-12\" type=\"checkbox\" ><label for=\"sk-estimator-id-12\" class=\"sk-toggleable__label sk-toggleable__label-arrow\">Pipeline</label><div class=\"sk-toggleable__content\"><pre>Pipeline(steps=[(&#x27;model&#x27;, LogisticRegression())])</pre></div></div></div><div class=\"sk-serial\"><div class=\"sk-item\"><div class=\"sk-estimator sk-toggleable\"><input class=\"sk-toggleable__control sk-hidden--visually\" id=\"sk-estimator-id-13\" type=\"checkbox\" ><label for=\"sk-estimator-id-13\" class=\"sk-toggleable__label sk-toggleable__label-arrow\">LogisticRegression</label><div class=\"sk-toggleable__content\"><pre>LogisticRegression()</pre></div></div></div></div></div></div></div>"
            ]
          },
          "metadata": {},
          "execution_count": 51
        }
      ]
    },
    {
      "cell_type": "code",
      "source": [
        "model_lr_with_grid = LogisticRegression(penalty=None)"
      ],
      "metadata": {
        "id": "lOOD8NNskkdl"
      },
      "execution_count": 66,
      "outputs": []
    },
    {
      "cell_type": "code",
      "source": [
        "model_lr_with_grid.fit(X_transformed_train, y_train)"
      ],
      "metadata": {
        "colab": {
          "base_uri": "https://localhost:8080/",
          "height": 75
        },
        "id": "gHj5imMrtPqB",
        "outputId": "8159e231-6a6e-4345-bae9-ca5d460bbf46"
      },
      "execution_count": 67,
      "outputs": [
        {
          "output_type": "execute_result",
          "data": {
            "text/plain": [
              "LogisticRegression(penalty=None)"
            ],
            "text/html": [
              "<style>#sk-container-id-9 {color: black;background-color: white;}#sk-container-id-9 pre{padding: 0;}#sk-container-id-9 div.sk-toggleable {background-color: white;}#sk-container-id-9 label.sk-toggleable__label {cursor: pointer;display: block;width: 100%;margin-bottom: 0;padding: 0.3em;box-sizing: border-box;text-align: center;}#sk-container-id-9 label.sk-toggleable__label-arrow:before {content: \"▸\";float: left;margin-right: 0.25em;color: #696969;}#sk-container-id-9 label.sk-toggleable__label-arrow:hover:before {color: black;}#sk-container-id-9 div.sk-estimator:hover label.sk-toggleable__label-arrow:before {color: black;}#sk-container-id-9 div.sk-toggleable__content {max-height: 0;max-width: 0;overflow: hidden;text-align: left;background-color: #f0f8ff;}#sk-container-id-9 div.sk-toggleable__content pre {margin: 0.2em;color: black;border-radius: 0.25em;background-color: #f0f8ff;}#sk-container-id-9 input.sk-toggleable__control:checked~div.sk-toggleable__content {max-height: 200px;max-width: 100%;overflow: auto;}#sk-container-id-9 input.sk-toggleable__control:checked~label.sk-toggleable__label-arrow:before {content: \"▾\";}#sk-container-id-9 div.sk-estimator input.sk-toggleable__control:checked~label.sk-toggleable__label {background-color: #d4ebff;}#sk-container-id-9 div.sk-label input.sk-toggleable__control:checked~label.sk-toggleable__label {background-color: #d4ebff;}#sk-container-id-9 input.sk-hidden--visually {border: 0;clip: rect(1px 1px 1px 1px);clip: rect(1px, 1px, 1px, 1px);height: 1px;margin: -1px;overflow: hidden;padding: 0;position: absolute;width: 1px;}#sk-container-id-9 div.sk-estimator {font-family: monospace;background-color: #f0f8ff;border: 1px dotted black;border-radius: 0.25em;box-sizing: border-box;margin-bottom: 0.5em;}#sk-container-id-9 div.sk-estimator:hover {background-color: #d4ebff;}#sk-container-id-9 div.sk-parallel-item::after {content: \"\";width: 100%;border-bottom: 1px solid gray;flex-grow: 1;}#sk-container-id-9 div.sk-label:hover label.sk-toggleable__label {background-color: #d4ebff;}#sk-container-id-9 div.sk-serial::before {content: \"\";position: absolute;border-left: 1px solid gray;box-sizing: border-box;top: 0;bottom: 0;left: 50%;z-index: 0;}#sk-container-id-9 div.sk-serial {display: flex;flex-direction: column;align-items: center;background-color: white;padding-right: 0.2em;padding-left: 0.2em;position: relative;}#sk-container-id-9 div.sk-item {position: relative;z-index: 1;}#sk-container-id-9 div.sk-parallel {display: flex;align-items: stretch;justify-content: center;background-color: white;position: relative;}#sk-container-id-9 div.sk-item::before, #sk-container-id-9 div.sk-parallel-item::before {content: \"\";position: absolute;border-left: 1px solid gray;box-sizing: border-box;top: 0;bottom: 0;left: 50%;z-index: -1;}#sk-container-id-9 div.sk-parallel-item {display: flex;flex-direction: column;z-index: 1;position: relative;background-color: white;}#sk-container-id-9 div.sk-parallel-item:first-child::after {align-self: flex-end;width: 50%;}#sk-container-id-9 div.sk-parallel-item:last-child::after {align-self: flex-start;width: 50%;}#sk-container-id-9 div.sk-parallel-item:only-child::after {width: 0;}#sk-container-id-9 div.sk-dashed-wrapped {border: 1px dashed gray;margin: 0 0.4em 0.5em 0.4em;box-sizing: border-box;padding-bottom: 0.4em;background-color: white;}#sk-container-id-9 div.sk-label label {font-family: monospace;font-weight: bold;display: inline-block;line-height: 1.2em;}#sk-container-id-9 div.sk-label-container {text-align: center;}#sk-container-id-9 div.sk-container {/* jupyter's `normalize.less` sets `[hidden] { display: none; }` but bootstrap.min.css set `[hidden] { display: none !important; }` so we also need the `!important` here to be able to override the default hidden behavior on the sphinx rendered scikit-learn.org. See: https://github.com/scikit-learn/scikit-learn/issues/21755 */display: inline-block !important;position: relative;}#sk-container-id-9 div.sk-text-repr-fallback {display: none;}</style><div id=\"sk-container-id-9\" class=\"sk-top-container\"><div class=\"sk-text-repr-fallback\"><pre>LogisticRegression(penalty=None)</pre><b>In a Jupyter environment, please rerun this cell to show the HTML representation or trust the notebook. <br />On GitHub, the HTML representation is unable to render, please try loading this page with nbviewer.org.</b></div><div class=\"sk-container\" hidden><div class=\"sk-item\"><div class=\"sk-estimator sk-toggleable\"><input class=\"sk-toggleable__control sk-hidden--visually\" id=\"sk-estimator-id-15\" type=\"checkbox\" checked><label for=\"sk-estimator-id-15\" class=\"sk-toggleable__label sk-toggleable__label-arrow\">LogisticRegression</label><div class=\"sk-toggleable__content\"><pre>LogisticRegression(penalty=None)</pre></div></div></div></div></div>"
            ]
          },
          "metadata": {},
          "execution_count": 67
        }
      ]
    },
    {
      "cell_type": "code",
      "source": [
        "y_pred_test_lr_grid = model_lr_with_grid.predict(X_transformed_test)"
      ],
      "metadata": {
        "id": "y0_Kb8hFkpOk"
      },
      "execution_count": 68,
      "outputs": []
    },
    {
      "cell_type": "markdown",
      "source": [
        "### Catboost"
      ],
      "metadata": {
        "id": "d7GxMalQ1e8V"
      }
    },
    {
      "cell_type": "code",
      "source": [
        "! pip install catboost"
      ],
      "metadata": {
        "colab": {
          "base_uri": "https://localhost:8080/"
        },
        "id": "3SWPy0twoLn1",
        "outputId": "557fc74d-8b91-4684-93d1-d0639d8f9eea"
      },
      "execution_count": 55,
      "outputs": [
        {
          "output_type": "stream",
          "name": "stdout",
          "text": [
            "Looking in indexes: https://pypi.org/simple, https://us-python.pkg.dev/colab-wheels/public/simple/\n",
            "Requirement already satisfied: catboost in /usr/local/lib/python3.9/dist-packages (1.1.1)\n",
            "Requirement already satisfied: scipy in /usr/local/lib/python3.9/dist-packages (from catboost) (1.10.1)\n",
            "Requirement already satisfied: plotly in /usr/local/lib/python3.9/dist-packages (from catboost) (5.13.1)\n",
            "Requirement already satisfied: numpy>=1.16.0 in /usr/local/lib/python3.9/dist-packages (from catboost) (1.22.4)\n",
            "Requirement already satisfied: graphviz in /usr/local/lib/python3.9/dist-packages (from catboost) (0.20.1)\n",
            "Requirement already satisfied: matplotlib in /usr/local/lib/python3.9/dist-packages (from catboost) (3.7.1)\n",
            "Requirement already satisfied: pandas>=0.24.0 in /usr/local/lib/python3.9/dist-packages (from catboost) (1.4.4)\n",
            "Requirement already satisfied: six in /usr/local/lib/python3.9/dist-packages (from catboost) (1.16.0)\n",
            "Requirement already satisfied: pytz>=2020.1 in /usr/local/lib/python3.9/dist-packages (from pandas>=0.24.0->catboost) (2022.7.1)\n",
            "Requirement already satisfied: python-dateutil>=2.8.1 in /usr/local/lib/python3.9/dist-packages (from pandas>=0.24.0->catboost) (2.8.2)\n",
            "Requirement already satisfied: kiwisolver>=1.0.1 in /usr/local/lib/python3.9/dist-packages (from matplotlib->catboost) (1.4.4)\n",
            "Requirement already satisfied: importlib-resources>=3.2.0 in /usr/local/lib/python3.9/dist-packages (from matplotlib->catboost) (5.12.0)\n",
            "Requirement already satisfied: cycler>=0.10 in /usr/local/lib/python3.9/dist-packages (from matplotlib->catboost) (0.11.0)\n",
            "Requirement already satisfied: pyparsing>=2.3.1 in /usr/local/lib/python3.9/dist-packages (from matplotlib->catboost) (3.0.9)\n",
            "Requirement already satisfied: fonttools>=4.22.0 in /usr/local/lib/python3.9/dist-packages (from matplotlib->catboost) (4.39.2)\n",
            "Requirement already satisfied: packaging>=20.0 in /usr/local/lib/python3.9/dist-packages (from matplotlib->catboost) (23.0)\n",
            "Requirement already satisfied: contourpy>=1.0.1 in /usr/local/lib/python3.9/dist-packages (from matplotlib->catboost) (1.0.7)\n",
            "Requirement already satisfied: pillow>=6.2.0 in /usr/local/lib/python3.9/dist-packages (from matplotlib->catboost) (8.4.0)\n",
            "Requirement already satisfied: tenacity>=6.2.0 in /usr/local/lib/python3.9/dist-packages (from plotly->catboost) (8.2.2)\n",
            "Requirement already satisfied: zipp>=3.1.0 in /usr/local/lib/python3.9/dist-packages (from importlib-resources>=3.2.0->matplotlib->catboost) (3.15.0)\n"
          ]
        }
      ]
    },
    {
      "cell_type": "code",
      "source": [
        "from catboost import CatBoostClassifier\n",
        "from sklearn import metrics"
      ],
      "metadata": {
        "id": "ELDArsUTMxAG"
      },
      "execution_count": 56,
      "outputs": []
    },
    {
      "cell_type": "code",
      "source": [
        " model_cbc = CatBoostClassifier()"
      ],
      "metadata": {
        "id": "144KfyncNAIj"
      },
      "execution_count": 57,
      "outputs": []
    },
    {
      "cell_type": "code",
      "source": [
        "model_cbc.fit(X_transformed_train, y_train)"
      ],
      "metadata": {
        "id": "Vma5BAn9NnxW",
        "colab": {
          "base_uri": "https://localhost:8080/"
        },
        "outputId": "fe06cb9c-f754-425e-9254-6344e7adb951"
      },
      "execution_count": 58,
      "outputs": [
        {
          "output_type": "stream",
          "name": "stdout",
          "text": [
            "Learning rate set to 0.137427\n",
            "0:\tlearn: 0.6784359\ttotal: 251ms\tremaining: 4m 11s\n",
            "1:\tlearn: 0.6679568\ttotal: 477ms\tremaining: 3m 58s\n",
            "2:\tlearn: 0.6597830\ttotal: 664ms\tremaining: 3m 40s\n",
            "3:\tlearn: 0.6539652\ttotal: 880ms\tremaining: 3m 39s\n",
            "4:\tlearn: 0.6493231\ttotal: 1.12s\tremaining: 3m 43s\n",
            "5:\tlearn: 0.6459996\ttotal: 1.29s\tremaining: 3m 34s\n",
            "6:\tlearn: 0.6434023\ttotal: 1.49s\tremaining: 3m 31s\n",
            "7:\tlearn: 0.6413016\ttotal: 1.81s\tremaining: 3m 44s\n",
            "8:\tlearn: 0.6395829\ttotal: 2.03s\tremaining: 3m 43s\n",
            "9:\tlearn: 0.6381690\ttotal: 2.29s\tremaining: 3m 47s\n",
            "10:\tlearn: 0.6370490\ttotal: 2.6s\tremaining: 3m 54s\n",
            "11:\tlearn: 0.6360929\ttotal: 2.97s\tremaining: 4m 4s\n",
            "12:\tlearn: 0.6353286\ttotal: 3.26s\tremaining: 4m 7s\n",
            "13:\tlearn: 0.6346000\ttotal: 3.58s\tremaining: 4m 12s\n",
            "14:\tlearn: 0.6339305\ttotal: 3.94s\tremaining: 4m 18s\n",
            "15:\tlearn: 0.6334697\ttotal: 4.25s\tremaining: 4m 21s\n",
            "16:\tlearn: 0.6329419\ttotal: 4.57s\tremaining: 4m 24s\n",
            "17:\tlearn: 0.6324904\ttotal: 4.91s\tremaining: 4m 28s\n",
            "18:\tlearn: 0.6321763\ttotal: 5.2s\tremaining: 4m 28s\n",
            "19:\tlearn: 0.6317514\ttotal: 5.44s\tremaining: 4m 26s\n",
            "20:\tlearn: 0.6314066\ttotal: 5.73s\tremaining: 4m 27s\n",
            "21:\tlearn: 0.6310189\ttotal: 5.95s\tremaining: 4m 24s\n",
            "22:\tlearn: 0.6307410\ttotal: 6.12s\tremaining: 4m 20s\n",
            "23:\tlearn: 0.6304661\ttotal: 6.33s\tremaining: 4m 17s\n",
            "24:\tlearn: 0.6302275\ttotal: 6.54s\tremaining: 4m 14s\n",
            "25:\tlearn: 0.6299870\ttotal: 6.69s\tremaining: 4m 10s\n",
            "26:\tlearn: 0.6296957\ttotal: 6.87s\tremaining: 4m 7s\n",
            "27:\tlearn: 0.6294531\ttotal: 7.05s\tremaining: 4m 4s\n",
            "28:\tlearn: 0.6292753\ttotal: 7.28s\tremaining: 4m 3s\n",
            "29:\tlearn: 0.6290702\ttotal: 7.46s\tremaining: 4m 1s\n",
            "30:\tlearn: 0.6288588\ttotal: 7.67s\tremaining: 3m 59s\n",
            "31:\tlearn: 0.6286129\ttotal: 7.92s\tremaining: 3m 59s\n",
            "32:\tlearn: 0.6283928\ttotal: 8.07s\tremaining: 3m 56s\n",
            "33:\tlearn: 0.6281873\ttotal: 8.27s\tremaining: 3m 54s\n",
            "34:\tlearn: 0.6280001\ttotal: 8.47s\tremaining: 3m 53s\n",
            "35:\tlearn: 0.6278353\ttotal: 8.74s\tremaining: 3m 54s\n",
            "36:\tlearn: 0.6276359\ttotal: 8.99s\tremaining: 3m 53s\n",
            "37:\tlearn: 0.6274257\ttotal: 9.24s\tremaining: 3m 53s\n",
            "38:\tlearn: 0.6272818\ttotal: 9.48s\tremaining: 3m 53s\n",
            "39:\tlearn: 0.6270075\ttotal: 9.7s\tremaining: 3m 52s\n",
            "40:\tlearn: 0.6268393\ttotal: 9.88s\tremaining: 3m 51s\n",
            "41:\tlearn: 0.6267168\ttotal: 10.1s\tremaining: 3m 50s\n",
            "42:\tlearn: 0.6265771\ttotal: 10.4s\tremaining: 3m 50s\n",
            "43:\tlearn: 0.6264465\ttotal: 10.6s\tremaining: 3m 50s\n",
            "44:\tlearn: 0.6262874\ttotal: 10.8s\tremaining: 3m 49s\n",
            "45:\tlearn: 0.6261039\ttotal: 11s\tremaining: 3m 48s\n",
            "46:\tlearn: 0.6259871\ttotal: 11.2s\tremaining: 3m 46s\n",
            "47:\tlearn: 0.6258052\ttotal: 11.4s\tremaining: 3m 45s\n",
            "48:\tlearn: 0.6256796\ttotal: 11.6s\tremaining: 3m 46s\n",
            "49:\tlearn: 0.6255607\ttotal: 11.9s\tremaining: 3m 46s\n",
            "50:\tlearn: 0.6253911\ttotal: 12.2s\tremaining: 3m 46s\n",
            "51:\tlearn: 0.6252616\ttotal: 12.4s\tremaining: 3m 45s\n",
            "52:\tlearn: 0.6251370\ttotal: 12.6s\tremaining: 3m 45s\n",
            "53:\tlearn: 0.6250079\ttotal: 12.8s\tremaining: 3m 45s\n",
            "54:\tlearn: 0.6249034\ttotal: 13.1s\tremaining: 3m 44s\n",
            "55:\tlearn: 0.6247757\ttotal: 13.3s\tremaining: 3m 44s\n",
            "56:\tlearn: 0.6246397\ttotal: 13.5s\tremaining: 3m 43s\n",
            "57:\tlearn: 0.6245523\ttotal: 13.7s\tremaining: 3m 42s\n",
            "58:\tlearn: 0.6244291\ttotal: 13.9s\tremaining: 3m 41s\n",
            "59:\tlearn: 0.6242896\ttotal: 14.1s\tremaining: 3m 41s\n",
            "60:\tlearn: 0.6241983\ttotal: 14.4s\tremaining: 3m 41s\n",
            "61:\tlearn: 0.6241111\ttotal: 14.6s\tremaining: 3m 41s\n",
            "62:\tlearn: 0.6240254\ttotal: 14.9s\tremaining: 3m 41s\n",
            "63:\tlearn: 0.6239078\ttotal: 15.2s\tremaining: 3m 42s\n",
            "64:\tlearn: 0.6238102\ttotal: 15.6s\tremaining: 3m 43s\n",
            "65:\tlearn: 0.6237111\ttotal: 15.9s\tremaining: 3m 44s\n",
            "66:\tlearn: 0.6235932\ttotal: 16.4s\tremaining: 3m 48s\n",
            "67:\tlearn: 0.6235040\ttotal: 16.8s\tremaining: 3m 49s\n",
            "68:\tlearn: 0.6234155\ttotal: 17.1s\tremaining: 3m 50s\n",
            "69:\tlearn: 0.6233460\ttotal: 17.5s\tremaining: 3m 52s\n",
            "70:\tlearn: 0.6232187\ttotal: 17.8s\tremaining: 3m 52s\n",
            "71:\tlearn: 0.6231414\ttotal: 18s\tremaining: 3m 51s\n",
            "72:\tlearn: 0.6230375\ttotal: 18.2s\tremaining: 3m 51s\n",
            "73:\tlearn: 0.6229653\ttotal: 18.4s\tremaining: 3m 50s\n",
            "74:\tlearn: 0.6228767\ttotal: 18.6s\tremaining: 3m 49s\n",
            "75:\tlearn: 0.6227777\ttotal: 18.8s\tremaining: 3m 48s\n",
            "76:\tlearn: 0.6227043\ttotal: 19s\tremaining: 3m 47s\n",
            "77:\tlearn: 0.6226153\ttotal: 19.3s\tremaining: 3m 47s\n",
            "78:\tlearn: 0.6224423\ttotal: 19.5s\tremaining: 3m 47s\n",
            "79:\tlearn: 0.6223742\ttotal: 19.7s\tremaining: 3m 46s\n",
            "80:\tlearn: 0.6222876\ttotal: 19.8s\tremaining: 3m 45s\n",
            "81:\tlearn: 0.6222361\ttotal: 20s\tremaining: 3m 44s\n",
            "82:\tlearn: 0.6221246\ttotal: 20.3s\tremaining: 3m 43s\n",
            "83:\tlearn: 0.6220381\ttotal: 20.4s\tremaining: 3m 42s\n",
            "84:\tlearn: 0.6219248\ttotal: 20.6s\tremaining: 3m 41s\n",
            "85:\tlearn: 0.6218386\ttotal: 20.8s\tremaining: 3m 41s\n",
            "86:\tlearn: 0.6217639\ttotal: 21s\tremaining: 3m 40s\n",
            "87:\tlearn: 0.6217070\ttotal: 21.3s\tremaining: 3m 40s\n",
            "88:\tlearn: 0.6216246\ttotal: 21.5s\tremaining: 3m 40s\n",
            "89:\tlearn: 0.6215399\ttotal: 21.8s\tremaining: 3m 40s\n",
            "90:\tlearn: 0.6214477\ttotal: 22.2s\tremaining: 3m 41s\n",
            "91:\tlearn: 0.6213445\ttotal: 22.5s\tremaining: 3m 41s\n",
            "92:\tlearn: 0.6212779\ttotal: 22.8s\tremaining: 3m 41s\n",
            "93:\tlearn: 0.6211986\ttotal: 23s\tremaining: 3m 42s\n",
            "94:\tlearn: 0.6211307\ttotal: 23.3s\tremaining: 3m 42s\n",
            "95:\tlearn: 0.6210672\ttotal: 23.5s\tremaining: 3m 41s\n",
            "96:\tlearn: 0.6209669\ttotal: 23.8s\tremaining: 3m 41s\n",
            "97:\tlearn: 0.6208545\ttotal: 24.2s\tremaining: 3m 42s\n",
            "98:\tlearn: 0.6207690\ttotal: 24.4s\tremaining: 3m 42s\n",
            "99:\tlearn: 0.6206308\ttotal: 24.8s\tremaining: 3m 43s\n",
            "100:\tlearn: 0.6205184\ttotal: 25.1s\tremaining: 3m 43s\n",
            "101:\tlearn: 0.6204586\ttotal: 25.5s\tremaining: 3m 44s\n",
            "102:\tlearn: 0.6203926\ttotal: 25.7s\tremaining: 3m 43s\n",
            "103:\tlearn: 0.6202986\ttotal: 26s\tremaining: 3m 44s\n",
            "104:\tlearn: 0.6202182\ttotal: 26.2s\tremaining: 3m 43s\n",
            "105:\tlearn: 0.6201495\ttotal: 26.5s\tremaining: 3m 43s\n",
            "106:\tlearn: 0.6200605\ttotal: 26.7s\tremaining: 3m 43s\n",
            "107:\tlearn: 0.6199863\ttotal: 26.9s\tremaining: 3m 42s\n",
            "108:\tlearn: 0.6199070\ttotal: 27.2s\tremaining: 3m 42s\n",
            "109:\tlearn: 0.6198533\ttotal: 27.5s\tremaining: 3m 42s\n",
            "110:\tlearn: 0.6197770\ttotal: 27.8s\tremaining: 3m 42s\n",
            "111:\tlearn: 0.6197113\ttotal: 28.1s\tremaining: 3m 42s\n",
            "112:\tlearn: 0.6196301\ttotal: 28.5s\tremaining: 3m 43s\n",
            "113:\tlearn: 0.6195781\ttotal: 29.1s\tremaining: 3m 46s\n",
            "114:\tlearn: 0.6194862\ttotal: 29.5s\tremaining: 3m 47s\n",
            "115:\tlearn: 0.6194167\ttotal: 29.9s\tremaining: 3m 47s\n",
            "116:\tlearn: 0.6193326\ttotal: 30.3s\tremaining: 3m 48s\n",
            "117:\tlearn: 0.6192654\ttotal: 30.8s\tremaining: 3m 50s\n",
            "118:\tlearn: 0.6192092\ttotal: 31.3s\tremaining: 3m 51s\n",
            "119:\tlearn: 0.6191404\ttotal: 31.6s\tremaining: 3m 51s\n",
            "120:\tlearn: 0.6190669\ttotal: 31.9s\tremaining: 3m 51s\n",
            "121:\tlearn: 0.6189754\ttotal: 32.1s\tremaining: 3m 51s\n",
            "122:\tlearn: 0.6189221\ttotal: 32.4s\tremaining: 3m 50s\n",
            "123:\tlearn: 0.6188657\ttotal: 32.7s\tremaining: 3m 50s\n",
            "124:\tlearn: 0.6188142\ttotal: 32.9s\tremaining: 3m 50s\n",
            "125:\tlearn: 0.6187218\ttotal: 33.2s\tremaining: 3m 50s\n",
            "126:\tlearn: 0.6186268\ttotal: 33.5s\tremaining: 3m 50s\n",
            "127:\tlearn: 0.6185486\ttotal: 33.8s\tremaining: 3m 50s\n",
            "128:\tlearn: 0.6184648\ttotal: 34.1s\tremaining: 3m 50s\n",
            "129:\tlearn: 0.6184155\ttotal: 34.3s\tremaining: 3m 49s\n",
            "130:\tlearn: 0.6183613\ttotal: 34.6s\tremaining: 3m 49s\n",
            "131:\tlearn: 0.6182972\ttotal: 34.9s\tremaining: 3m 49s\n",
            "132:\tlearn: 0.6182434\ttotal: 35.3s\tremaining: 3m 50s\n",
            "133:\tlearn: 0.6181887\ttotal: 35.8s\tremaining: 3m 51s\n",
            "134:\tlearn: 0.6181287\ttotal: 36.2s\tremaining: 3m 51s\n",
            "135:\tlearn: 0.6180541\ttotal: 36.4s\tremaining: 3m 51s\n",
            "136:\tlearn: 0.6180052\ttotal: 36.6s\tremaining: 3m 50s\n",
            "137:\tlearn: 0.6179565\ttotal: 36.8s\tremaining: 3m 50s\n",
            "138:\tlearn: 0.6178853\ttotal: 37s\tremaining: 3m 49s\n",
            "139:\tlearn: 0.6178230\ttotal: 37.3s\tremaining: 3m 49s\n",
            "140:\tlearn: 0.6177615\ttotal: 37.5s\tremaining: 3m 48s\n",
            "141:\tlearn: 0.6176936\ttotal: 37.8s\tremaining: 3m 48s\n",
            "142:\tlearn: 0.6176269\ttotal: 38.2s\tremaining: 3m 48s\n",
            "143:\tlearn: 0.6175882\ttotal: 38.4s\tremaining: 3m 48s\n",
            "144:\tlearn: 0.6175378\ttotal: 38.6s\tremaining: 3m 47s\n",
            "145:\tlearn: 0.6174577\ttotal: 38.8s\tremaining: 3m 46s\n",
            "146:\tlearn: 0.6173971\ttotal: 39s\tremaining: 3m 46s\n",
            "147:\tlearn: 0.6173475\ttotal: 39.2s\tremaining: 3m 45s\n",
            "148:\tlearn: 0.6173067\ttotal: 39.5s\tremaining: 3m 45s\n",
            "149:\tlearn: 0.6172298\ttotal: 39.7s\tremaining: 3m 45s\n",
            "150:\tlearn: 0.6171830\ttotal: 39.9s\tremaining: 3m 44s\n",
            "151:\tlearn: 0.6171238\ttotal: 40.1s\tremaining: 3m 43s\n",
            "152:\tlearn: 0.6170560\ttotal: 40.2s\tremaining: 3m 42s\n",
            "153:\tlearn: 0.6169980\ttotal: 40.4s\tremaining: 3m 41s\n",
            "154:\tlearn: 0.6169310\ttotal: 40.5s\tremaining: 3m 40s\n",
            "155:\tlearn: 0.6168732\ttotal: 40.8s\tremaining: 3m 40s\n",
            "156:\tlearn: 0.6168073\ttotal: 41.1s\tremaining: 3m 40s\n",
            "157:\tlearn: 0.6167700\ttotal: 41.6s\tremaining: 3m 41s\n",
            "158:\tlearn: 0.6167286\ttotal: 42s\tremaining: 3m 42s\n",
            "159:\tlearn: 0.6167026\ttotal: 42.3s\tremaining: 3m 41s\n",
            "160:\tlearn: 0.6166388\ttotal: 42.6s\tremaining: 3m 42s\n",
            "161:\tlearn: 0.6165970\ttotal: 43.1s\tremaining: 3m 42s\n",
            "162:\tlearn: 0.6165329\ttotal: 43.5s\tremaining: 3m 43s\n",
            "163:\tlearn: 0.6164857\ttotal: 43.8s\tremaining: 3m 43s\n",
            "164:\tlearn: 0.6164056\ttotal: 44.1s\tremaining: 3m 43s\n",
            "165:\tlearn: 0.6163611\ttotal: 44.3s\tremaining: 3m 42s\n",
            "166:\tlearn: 0.6163084\ttotal: 44.6s\tremaining: 3m 42s\n",
            "167:\tlearn: 0.6162394\ttotal: 44.8s\tremaining: 3m 42s\n",
            "168:\tlearn: 0.6161665\ttotal: 45s\tremaining: 3m 41s\n",
            "169:\tlearn: 0.6161408\ttotal: 45s\tremaining: 3m 39s\n",
            "170:\tlearn: 0.6160869\ttotal: 45.1s\tremaining: 3m 38s\n",
            "171:\tlearn: 0.6160185\ttotal: 45.2s\tremaining: 3m 37s\n",
            "172:\tlearn: 0.6159650\ttotal: 45.3s\tremaining: 3m 36s\n",
            "173:\tlearn: 0.6159302\ttotal: 45.4s\tremaining: 3m 35s\n",
            "174:\tlearn: 0.6158939\ttotal: 45.4s\tremaining: 3m 34s\n",
            "175:\tlearn: 0.6158499\ttotal: 45.5s\tremaining: 3m 33s\n",
            "176:\tlearn: 0.6157939\ttotal: 45.6s\tremaining: 3m 32s\n",
            "177:\tlearn: 0.6157508\ttotal: 45.7s\tremaining: 3m 31s\n",
            "178:\tlearn: 0.6156816\ttotal: 45.8s\tremaining: 3m 29s\n",
            "179:\tlearn: 0.6156380\ttotal: 45.9s\tremaining: 3m 28s\n",
            "180:\tlearn: 0.6156036\ttotal: 46s\tremaining: 3m 27s\n",
            "181:\tlearn: 0.6155368\ttotal: 46.1s\tremaining: 3m 26s\n",
            "182:\tlearn: 0.6154686\ttotal: 46.1s\tremaining: 3m 25s\n",
            "183:\tlearn: 0.6154239\ttotal: 46.2s\tremaining: 3m 24s\n",
            "184:\tlearn: 0.6153927\ttotal: 46.3s\tremaining: 3m 23s\n",
            "185:\tlearn: 0.6153476\ttotal: 46.4s\tremaining: 3m 22s\n",
            "186:\tlearn: 0.6152980\ttotal: 46.5s\tremaining: 3m 22s\n",
            "187:\tlearn: 0.6152627\ttotal: 46.5s\tremaining: 3m 21s\n",
            "188:\tlearn: 0.6152250\ttotal: 46.6s\tremaining: 3m 20s\n",
            "189:\tlearn: 0.6151977\ttotal: 46.7s\tremaining: 3m 19s\n",
            "190:\tlearn: 0.6151610\ttotal: 46.8s\tremaining: 3m 18s\n",
            "191:\tlearn: 0.6151112\ttotal: 46.9s\tremaining: 3m 17s\n",
            "192:\tlearn: 0.6150512\ttotal: 47s\tremaining: 3m 16s\n",
            "193:\tlearn: 0.6149984\ttotal: 47.1s\tremaining: 3m 15s\n",
            "194:\tlearn: 0.6149519\ttotal: 47.2s\tremaining: 3m 14s\n",
            "195:\tlearn: 0.6148950\ttotal: 47.3s\tremaining: 3m 13s\n",
            "196:\tlearn: 0.6148428\ttotal: 47.4s\tremaining: 3m 13s\n",
            "197:\tlearn: 0.6148102\ttotal: 47.4s\tremaining: 3m 12s\n",
            "198:\tlearn: 0.6147544\ttotal: 47.5s\tremaining: 3m 11s\n",
            "199:\tlearn: 0.6147104\ttotal: 47.6s\tremaining: 3m 10s\n",
            "200:\tlearn: 0.6146637\ttotal: 47.7s\tremaining: 3m 9s\n",
            "201:\tlearn: 0.6145997\ttotal: 47.8s\tremaining: 3m 8s\n",
            "202:\tlearn: 0.6145495\ttotal: 47.9s\tremaining: 3m 7s\n",
            "203:\tlearn: 0.6144972\ttotal: 48s\tremaining: 3m 7s\n",
            "204:\tlearn: 0.6144713\ttotal: 48.1s\tremaining: 3m 6s\n",
            "205:\tlearn: 0.6144201\ttotal: 48.1s\tremaining: 3m 5s\n",
            "206:\tlearn: 0.6143751\ttotal: 48.2s\tremaining: 3m 4s\n",
            "207:\tlearn: 0.6143326\ttotal: 48.3s\tremaining: 3m 3s\n",
            "208:\tlearn: 0.6143009\ttotal: 48.4s\tremaining: 3m 3s\n",
            "209:\tlearn: 0.6142671\ttotal: 48.5s\tremaining: 3m 2s\n",
            "210:\tlearn: 0.6142204\ttotal: 48.6s\tremaining: 3m 1s\n",
            "211:\tlearn: 0.6141691\ttotal: 48.6s\tremaining: 3m\n",
            "212:\tlearn: 0.6141118\ttotal: 48.7s\tremaining: 3m\n",
            "213:\tlearn: 0.6140622\ttotal: 48.8s\tremaining: 2m 59s\n",
            "214:\tlearn: 0.6140178\ttotal: 48.9s\tremaining: 2m 58s\n",
            "215:\tlearn: 0.6139732\ttotal: 49s\tremaining: 2m 57s\n",
            "216:\tlearn: 0.6139504\ttotal: 49.1s\tremaining: 2m 57s\n",
            "217:\tlearn: 0.6139143\ttotal: 49.2s\tremaining: 2m 56s\n",
            "218:\tlearn: 0.6138518\ttotal: 49.3s\tremaining: 2m 55s\n",
            "219:\tlearn: 0.6138209\ttotal: 49.3s\tremaining: 2m 54s\n",
            "220:\tlearn: 0.6137743\ttotal: 49.4s\tremaining: 2m 54s\n",
            "221:\tlearn: 0.6137224\ttotal: 49.5s\tremaining: 2m 53s\n",
            "222:\tlearn: 0.6136795\ttotal: 49.6s\tremaining: 2m 52s\n",
            "223:\tlearn: 0.6136566\ttotal: 49.7s\tremaining: 2m 52s\n",
            "224:\tlearn: 0.6136349\ttotal: 49.8s\tremaining: 2m 51s\n",
            "225:\tlearn: 0.6136057\ttotal: 49.8s\tremaining: 2m 50s\n",
            "226:\tlearn: 0.6135516\ttotal: 49.9s\tremaining: 2m 50s\n",
            "227:\tlearn: 0.6134980\ttotal: 50s\tremaining: 2m 49s\n",
            "228:\tlearn: 0.6134506\ttotal: 50.1s\tremaining: 2m 48s\n",
            "229:\tlearn: 0.6134169\ttotal: 50.2s\tremaining: 2m 48s\n",
            "230:\tlearn: 0.6133799\ttotal: 50.3s\tremaining: 2m 47s\n",
            "231:\tlearn: 0.6133239\ttotal: 50.4s\tremaining: 2m 46s\n",
            "232:\tlearn: 0.6132986\ttotal: 50.4s\tremaining: 2m 46s\n",
            "233:\tlearn: 0.6132545\ttotal: 50.5s\tremaining: 2m 45s\n",
            "234:\tlearn: 0.6132083\ttotal: 50.6s\tremaining: 2m 44s\n",
            "235:\tlearn: 0.6131819\ttotal: 50.7s\tremaining: 2m 44s\n",
            "236:\tlearn: 0.6131598\ttotal: 50.8s\tremaining: 2m 43s\n",
            "237:\tlearn: 0.6131351\ttotal: 50.9s\tremaining: 2m 42s\n",
            "238:\tlearn: 0.6131017\ttotal: 51s\tremaining: 2m 42s\n",
            "239:\tlearn: 0.6130621\ttotal: 51.1s\tremaining: 2m 41s\n",
            "240:\tlearn: 0.6130059\ttotal: 51.1s\tremaining: 2m 41s\n",
            "241:\tlearn: 0.6129488\ttotal: 51.2s\tremaining: 2m 40s\n",
            "242:\tlearn: 0.6129143\ttotal: 51.3s\tremaining: 2m 39s\n",
            "243:\tlearn: 0.6128925\ttotal: 51.4s\tremaining: 2m 39s\n",
            "244:\tlearn: 0.6128664\ttotal: 51.5s\tremaining: 2m 38s\n",
            "245:\tlearn: 0.6128279\ttotal: 51.6s\tremaining: 2m 38s\n",
            "246:\tlearn: 0.6128059\ttotal: 51.6s\tremaining: 2m 37s\n",
            "247:\tlearn: 0.6127594\ttotal: 51.7s\tremaining: 2m 36s\n",
            "248:\tlearn: 0.6127258\ttotal: 51.8s\tremaining: 2m 36s\n",
            "249:\tlearn: 0.6126964\ttotal: 51.9s\tremaining: 2m 35s\n",
            "250:\tlearn: 0.6126593\ttotal: 52s\tremaining: 2m 35s\n",
            "251:\tlearn: 0.6126106\ttotal: 52.1s\tremaining: 2m 34s\n",
            "252:\tlearn: 0.6125660\ttotal: 52.2s\tremaining: 2m 34s\n",
            "253:\tlearn: 0.6125229\ttotal: 52.3s\tremaining: 2m 33s\n",
            "254:\tlearn: 0.6124795\ttotal: 52.3s\tremaining: 2m 32s\n",
            "255:\tlearn: 0.6124534\ttotal: 52.4s\tremaining: 2m 32s\n",
            "256:\tlearn: 0.6124049\ttotal: 52.5s\tremaining: 2m 31s\n",
            "257:\tlearn: 0.6123738\ttotal: 52.6s\tremaining: 2m 31s\n",
            "258:\tlearn: 0.6123481\ttotal: 52.7s\tremaining: 2m 30s\n",
            "259:\tlearn: 0.6123120\ttotal: 52.8s\tremaining: 2m 30s\n",
            "260:\tlearn: 0.6122834\ttotal: 52.8s\tremaining: 2m 29s\n",
            "261:\tlearn: 0.6122383\ttotal: 52.9s\tremaining: 2m 29s\n",
            "262:\tlearn: 0.6121747\ttotal: 53s\tremaining: 2m 28s\n",
            "263:\tlearn: 0.6121526\ttotal: 53.1s\tremaining: 2m 28s\n",
            "264:\tlearn: 0.6121313\ttotal: 53.2s\tremaining: 2m 27s\n",
            "265:\tlearn: 0.6121023\ttotal: 53.3s\tremaining: 2m 27s\n",
            "266:\tlearn: 0.6120700\ttotal: 53.4s\tremaining: 2m 26s\n",
            "267:\tlearn: 0.6120391\ttotal: 53.5s\tremaining: 2m 26s\n",
            "268:\tlearn: 0.6119947\ttotal: 53.5s\tremaining: 2m 25s\n",
            "269:\tlearn: 0.6119653\ttotal: 53.6s\tremaining: 2m 25s\n",
            "270:\tlearn: 0.6119301\ttotal: 53.7s\tremaining: 2m 24s\n",
            "271:\tlearn: 0.6118954\ttotal: 53.8s\tremaining: 2m 23s\n",
            "272:\tlearn: 0.6118605\ttotal: 53.9s\tremaining: 2m 23s\n",
            "273:\tlearn: 0.6118300\ttotal: 54s\tremaining: 2m 23s\n",
            "274:\tlearn: 0.6117966\ttotal: 54.1s\tremaining: 2m 22s\n",
            "275:\tlearn: 0.6117440\ttotal: 54.2s\tremaining: 2m 22s\n",
            "276:\tlearn: 0.6116946\ttotal: 54.3s\tremaining: 2m 21s\n",
            "277:\tlearn: 0.6116818\ttotal: 54.4s\tremaining: 2m 21s\n",
            "278:\tlearn: 0.6116419\ttotal: 54.5s\tremaining: 2m 20s\n",
            "279:\tlearn: 0.6115941\ttotal: 54.8s\tremaining: 2m 20s\n",
            "280:\tlearn: 0.6115730\ttotal: 55s\tremaining: 2m 20s\n",
            "281:\tlearn: 0.6115452\ttotal: 55.2s\tremaining: 2m 20s\n",
            "282:\tlearn: 0.6115154\ttotal: 55.4s\tremaining: 2m 20s\n",
            "283:\tlearn: 0.6114692\ttotal: 55.6s\tremaining: 2m 20s\n",
            "284:\tlearn: 0.6114364\ttotal: 55.8s\tremaining: 2m 19s\n",
            "285:\tlearn: 0.6114130\ttotal: 55.9s\tremaining: 2m 19s\n",
            "286:\tlearn: 0.6113822\ttotal: 56.1s\tremaining: 2m 19s\n",
            "287:\tlearn: 0.6113461\ttotal: 56.4s\tremaining: 2m 19s\n",
            "288:\tlearn: 0.6113164\ttotal: 56.6s\tremaining: 2m 19s\n",
            "289:\tlearn: 0.6112665\ttotal: 56.8s\tremaining: 2m 18s\n",
            "290:\tlearn: 0.6112263\ttotal: 57s\tremaining: 2m 18s\n",
            "291:\tlearn: 0.6112022\ttotal: 57.2s\tremaining: 2m 18s\n",
            "292:\tlearn: 0.6111536\ttotal: 57.3s\tremaining: 2m 18s\n",
            "293:\tlearn: 0.6111194\ttotal: 57.4s\tremaining: 2m 17s\n",
            "294:\tlearn: 0.6110839\ttotal: 57.5s\tremaining: 2m 17s\n",
            "295:\tlearn: 0.6110629\ttotal: 57.5s\tremaining: 2m 16s\n",
            "296:\tlearn: 0.6110347\ttotal: 57.6s\tremaining: 2m 16s\n",
            "297:\tlearn: 0.6110143\ttotal: 57.7s\tremaining: 2m 15s\n",
            "298:\tlearn: 0.6109845\ttotal: 57.8s\tremaining: 2m 15s\n",
            "299:\tlearn: 0.6109509\ttotal: 57.9s\tremaining: 2m 15s\n",
            "300:\tlearn: 0.6109206\ttotal: 58s\tremaining: 2m 14s\n",
            "301:\tlearn: 0.6108955\ttotal: 58.1s\tremaining: 2m 14s\n",
            "302:\tlearn: 0.6108770\ttotal: 58.1s\tremaining: 2m 13s\n",
            "303:\tlearn: 0.6108415\ttotal: 58.2s\tremaining: 2m 13s\n",
            "304:\tlearn: 0.6108062\ttotal: 58.3s\tremaining: 2m 12s\n",
            "305:\tlearn: 0.6107566\ttotal: 58.4s\tremaining: 2m 12s\n",
            "306:\tlearn: 0.6107355\ttotal: 58.5s\tremaining: 2m 12s\n",
            "307:\tlearn: 0.6107132\ttotal: 58.6s\tremaining: 2m 11s\n",
            "308:\tlearn: 0.6106702\ttotal: 58.6s\tremaining: 2m 11s\n",
            "309:\tlearn: 0.6106438\ttotal: 58.7s\tremaining: 2m 10s\n",
            "310:\tlearn: 0.6106236\ttotal: 58.8s\tremaining: 2m 10s\n",
            "311:\tlearn: 0.6105976\ttotal: 58.9s\tremaining: 2m 9s\n",
            "312:\tlearn: 0.6105586\ttotal: 59s\tremaining: 2m 9s\n",
            "313:\tlearn: 0.6105258\ttotal: 59.1s\tremaining: 2m 9s\n",
            "314:\tlearn: 0.6104958\ttotal: 59.2s\tremaining: 2m 8s\n",
            "315:\tlearn: 0.6104649\ttotal: 59.3s\tremaining: 2m 8s\n",
            "316:\tlearn: 0.6104500\ttotal: 59.3s\tremaining: 2m 7s\n",
            "317:\tlearn: 0.6104222\ttotal: 59.4s\tremaining: 2m 7s\n",
            "318:\tlearn: 0.6103861\ttotal: 59.5s\tremaining: 2m 7s\n",
            "319:\tlearn: 0.6103365\ttotal: 59.6s\tremaining: 2m 6s\n",
            "320:\tlearn: 0.6103165\ttotal: 59.7s\tremaining: 2m 6s\n",
            "321:\tlearn: 0.6102839\ttotal: 59.8s\tremaining: 2m 5s\n",
            "322:\tlearn: 0.6102437\ttotal: 59.8s\tremaining: 2m 5s\n",
            "323:\tlearn: 0.6102272\ttotal: 59.9s\tremaining: 2m 5s\n",
            "324:\tlearn: 0.6102070\ttotal: 1m\tremaining: 2m 4s\n",
            "325:\tlearn: 0.6101777\ttotal: 1m\tremaining: 2m 4s\n",
            "326:\tlearn: 0.6101258\ttotal: 1m\tremaining: 2m 3s\n",
            "327:\tlearn: 0.6101105\ttotal: 1m\tremaining: 2m 3s\n",
            "328:\tlearn: 0.6100726\ttotal: 1m\tremaining: 2m 3s\n",
            "329:\tlearn: 0.6100319\ttotal: 1m\tremaining: 2m 2s\n",
            "330:\tlearn: 0.6100024\ttotal: 1m\tremaining: 2m 2s\n",
            "331:\tlearn: 0.6099559\ttotal: 1m\tremaining: 2m 1s\n",
            "332:\tlearn: 0.6099285\ttotal: 1m\tremaining: 2m 1s\n",
            "333:\tlearn: 0.6099006\ttotal: 1m\tremaining: 2m 1s\n",
            "334:\tlearn: 0.6098721\ttotal: 1m\tremaining: 2m\n",
            "335:\tlearn: 0.6098558\ttotal: 1m\tremaining: 2m\n",
            "336:\tlearn: 0.6098363\ttotal: 1m 1s\tremaining: 2m\n",
            "337:\tlearn: 0.6097920\ttotal: 1m 1s\tremaining: 1m 59s\n",
            "338:\tlearn: 0.6097759\ttotal: 1m 1s\tremaining: 1m 59s\n",
            "339:\tlearn: 0.6097304\ttotal: 1m 1s\tremaining: 1m 58s\n",
            "340:\tlearn: 0.6097007\ttotal: 1m 1s\tremaining: 1m 58s\n",
            "341:\tlearn: 0.6096760\ttotal: 1m 1s\tremaining: 1m 58s\n",
            "342:\tlearn: 0.6096467\ttotal: 1m 1s\tremaining: 1m 57s\n",
            "343:\tlearn: 0.6096219\ttotal: 1m 1s\tremaining: 1m 57s\n",
            "344:\tlearn: 0.6095975\ttotal: 1m 1s\tremaining: 1m 57s\n",
            "345:\tlearn: 0.6095795\ttotal: 1m 1s\tremaining: 1m 56s\n",
            "346:\tlearn: 0.6095581\ttotal: 1m 1s\tremaining: 1m 56s\n",
            "347:\tlearn: 0.6095156\ttotal: 1m 1s\tremaining: 1m 56s\n",
            "348:\tlearn: 0.6094723\ttotal: 1m 2s\tremaining: 1m 55s\n",
            "349:\tlearn: 0.6094546\ttotal: 1m 2s\tremaining: 1m 55s\n",
            "350:\tlearn: 0.6094296\ttotal: 1m 2s\tremaining: 1m 55s\n",
            "351:\tlearn: 0.6093839\ttotal: 1m 2s\tremaining: 1m 54s\n",
            "352:\tlearn: 0.6093581\ttotal: 1m 2s\tremaining: 1m 54s\n",
            "353:\tlearn: 0.6093377\ttotal: 1m 2s\tremaining: 1m 54s\n",
            "354:\tlearn: 0.6093022\ttotal: 1m 2s\tremaining: 1m 53s\n",
            "355:\tlearn: 0.6092853\ttotal: 1m 2s\tremaining: 1m 53s\n",
            "356:\tlearn: 0.6092620\ttotal: 1m 2s\tremaining: 1m 53s\n",
            "357:\tlearn: 0.6092346\ttotal: 1m 2s\tremaining: 1m 52s\n",
            "358:\tlearn: 0.6092050\ttotal: 1m 2s\tremaining: 1m 52s\n",
            "359:\tlearn: 0.6091756\ttotal: 1m 2s\tremaining: 1m 51s\n",
            "360:\tlearn: 0.6091436\ttotal: 1m 3s\tremaining: 1m 51s\n",
            "361:\tlearn: 0.6091229\ttotal: 1m 3s\tremaining: 1m 51s\n",
            "362:\tlearn: 0.6090933\ttotal: 1m 3s\tremaining: 1m 51s\n",
            "363:\tlearn: 0.6090704\ttotal: 1m 3s\tremaining: 1m 50s\n",
            "364:\tlearn: 0.6090439\ttotal: 1m 3s\tremaining: 1m 50s\n",
            "365:\tlearn: 0.6090198\ttotal: 1m 3s\tremaining: 1m 50s\n",
            "366:\tlearn: 0.6090037\ttotal: 1m 3s\tremaining: 1m 49s\n",
            "367:\tlearn: 0.6089776\ttotal: 1m 3s\tremaining: 1m 49s\n",
            "368:\tlearn: 0.6089593\ttotal: 1m 3s\tremaining: 1m 49s\n",
            "369:\tlearn: 0.6089395\ttotal: 1m 3s\tremaining: 1m 48s\n",
            "370:\tlearn: 0.6089281\ttotal: 1m 3s\tremaining: 1m 48s\n",
            "371:\tlearn: 0.6088941\ttotal: 1m 4s\tremaining: 1m 48s\n",
            "372:\tlearn: 0.6088746\ttotal: 1m 4s\tremaining: 1m 47s\n",
            "373:\tlearn: 0.6088480\ttotal: 1m 4s\tremaining: 1m 47s\n",
            "374:\tlearn: 0.6088123\ttotal: 1m 4s\tremaining: 1m 47s\n",
            "375:\tlearn: 0.6087846\ttotal: 1m 4s\tremaining: 1m 46s\n",
            "376:\tlearn: 0.6087622\ttotal: 1m 4s\tremaining: 1m 46s\n",
            "377:\tlearn: 0.6087440\ttotal: 1m 4s\tremaining: 1m 46s\n",
            "378:\tlearn: 0.6087065\ttotal: 1m 4s\tremaining: 1m 45s\n",
            "379:\tlearn: 0.6086762\ttotal: 1m 4s\tremaining: 1m 45s\n",
            "380:\tlearn: 0.6086535\ttotal: 1m 4s\tremaining: 1m 45s\n",
            "381:\tlearn: 0.6086079\ttotal: 1m 4s\tremaining: 1m 45s\n",
            "382:\tlearn: 0.6085844\ttotal: 1m 4s\tremaining: 1m 44s\n",
            "383:\tlearn: 0.6085626\ttotal: 1m 5s\tremaining: 1m 44s\n",
            "384:\tlearn: 0.6085145\ttotal: 1m 5s\tremaining: 1m 44s\n",
            "385:\tlearn: 0.6084639\ttotal: 1m 5s\tremaining: 1m 43s\n",
            "386:\tlearn: 0.6084420\ttotal: 1m 5s\tremaining: 1m 43s\n",
            "387:\tlearn: 0.6084063\ttotal: 1m 5s\tremaining: 1m 43s\n",
            "388:\tlearn: 0.6083776\ttotal: 1m 5s\tremaining: 1m 42s\n",
            "389:\tlearn: 0.6083602\ttotal: 1m 5s\tremaining: 1m 42s\n",
            "390:\tlearn: 0.6083199\ttotal: 1m 5s\tremaining: 1m 42s\n",
            "391:\tlearn: 0.6083080\ttotal: 1m 5s\tremaining: 1m 42s\n",
            "392:\tlearn: 0.6082814\ttotal: 1m 5s\tremaining: 1m 41s\n",
            "393:\tlearn: 0.6082573\ttotal: 1m 5s\tremaining: 1m 41s\n",
            "394:\tlearn: 0.6082417\ttotal: 1m 6s\tremaining: 1m 41s\n",
            "395:\tlearn: 0.6082186\ttotal: 1m 6s\tremaining: 1m 40s\n",
            "396:\tlearn: 0.6081804\ttotal: 1m 6s\tremaining: 1m 40s\n",
            "397:\tlearn: 0.6081573\ttotal: 1m 6s\tremaining: 1m 40s\n",
            "398:\tlearn: 0.6081323\ttotal: 1m 6s\tremaining: 1m 40s\n",
            "399:\tlearn: 0.6081182\ttotal: 1m 6s\tremaining: 1m 39s\n",
            "400:\tlearn: 0.6080950\ttotal: 1m 6s\tremaining: 1m 39s\n",
            "401:\tlearn: 0.6080759\ttotal: 1m 6s\tremaining: 1m 39s\n",
            "402:\tlearn: 0.6080479\ttotal: 1m 6s\tremaining: 1m 38s\n",
            "403:\tlearn: 0.6080145\ttotal: 1m 6s\tremaining: 1m 38s\n",
            "404:\tlearn: 0.6079950\ttotal: 1m 6s\tremaining: 1m 38s\n",
            "405:\tlearn: 0.6079713\ttotal: 1m 7s\tremaining: 1m 38s\n",
            "406:\tlearn: 0.6079571\ttotal: 1m 7s\tremaining: 1m 37s\n",
            "407:\tlearn: 0.6079383\ttotal: 1m 7s\tremaining: 1m 37s\n",
            "408:\tlearn: 0.6079149\ttotal: 1m 7s\tremaining: 1m 37s\n",
            "409:\tlearn: 0.6078978\ttotal: 1m 7s\tremaining: 1m 37s\n",
            "410:\tlearn: 0.6078814\ttotal: 1m 7s\tremaining: 1m 37s\n",
            "411:\tlearn: 0.6078591\ttotal: 1m 8s\tremaining: 1m 37s\n",
            "412:\tlearn: 0.6078247\ttotal: 1m 8s\tremaining: 1m 37s\n",
            "413:\tlearn: 0.6078037\ttotal: 1m 8s\tremaining: 1m 36s\n",
            "414:\tlearn: 0.6077693\ttotal: 1m 8s\tremaining: 1m 36s\n",
            "415:\tlearn: 0.6077555\ttotal: 1m 8s\tremaining: 1m 36s\n",
            "416:\tlearn: 0.6077415\ttotal: 1m 9s\tremaining: 1m 36s\n",
            "417:\tlearn: 0.6077160\ttotal: 1m 9s\tremaining: 1m 36s\n",
            "418:\tlearn: 0.6077019\ttotal: 1m 9s\tremaining: 1m 36s\n",
            "419:\tlearn: 0.6076801\ttotal: 1m 9s\tremaining: 1m 36s\n",
            "420:\tlearn: 0.6076552\ttotal: 1m 9s\tremaining: 1m 36s\n",
            "421:\tlearn: 0.6076403\ttotal: 1m 10s\tremaining: 1m 35s\n",
            "422:\tlearn: 0.6076041\ttotal: 1m 10s\tremaining: 1m 35s\n",
            "423:\tlearn: 0.6075894\ttotal: 1m 10s\tremaining: 1m 35s\n",
            "424:\tlearn: 0.6075537\ttotal: 1m 10s\tremaining: 1m 35s\n",
            "425:\tlearn: 0.6075261\ttotal: 1m 10s\tremaining: 1m 34s\n",
            "426:\tlearn: 0.6074871\ttotal: 1m 10s\tremaining: 1m 34s\n",
            "427:\tlearn: 0.6074483\ttotal: 1m 10s\tremaining: 1m 34s\n",
            "428:\tlearn: 0.6074274\ttotal: 1m 10s\tremaining: 1m 34s\n",
            "429:\tlearn: 0.6074100\ttotal: 1m 10s\tremaining: 1m 33s\n",
            "430:\tlearn: 0.6073866\ttotal: 1m 10s\tremaining: 1m 33s\n",
            "431:\tlearn: 0.6073583\ttotal: 1m 10s\tremaining: 1m 33s\n",
            "432:\tlearn: 0.6073211\ttotal: 1m 11s\tremaining: 1m 33s\n",
            "433:\tlearn: 0.6073018\ttotal: 1m 11s\tremaining: 1m 32s\n",
            "434:\tlearn: 0.6072834\ttotal: 1m 11s\tremaining: 1m 32s\n",
            "435:\tlearn: 0.6072711\ttotal: 1m 11s\tremaining: 1m 32s\n",
            "436:\tlearn: 0.6072516\ttotal: 1m 11s\tremaining: 1m 32s\n",
            "437:\tlearn: 0.6072318\ttotal: 1m 11s\tremaining: 1m 31s\n",
            "438:\tlearn: 0.6072015\ttotal: 1m 11s\tremaining: 1m 31s\n",
            "439:\tlearn: 0.6071817\ttotal: 1m 11s\tremaining: 1m 31s\n",
            "440:\tlearn: 0.6071656\ttotal: 1m 11s\tremaining: 1m 30s\n",
            "441:\tlearn: 0.6071388\ttotal: 1m 11s\tremaining: 1m 30s\n",
            "442:\tlearn: 0.6071131\ttotal: 1m 11s\tremaining: 1m 30s\n",
            "443:\tlearn: 0.6070823\ttotal: 1m 12s\tremaining: 1m 30s\n",
            "444:\tlearn: 0.6070611\ttotal: 1m 12s\tremaining: 1m 29s\n",
            "445:\tlearn: 0.6070246\ttotal: 1m 12s\tremaining: 1m 29s\n",
            "446:\tlearn: 0.6069922\ttotal: 1m 12s\tremaining: 1m 29s\n",
            "447:\tlearn: 0.6069603\ttotal: 1m 12s\tremaining: 1m 29s\n",
            "448:\tlearn: 0.6069284\ttotal: 1m 12s\tremaining: 1m 28s\n",
            "449:\tlearn: 0.6069101\ttotal: 1m 12s\tremaining: 1m 28s\n",
            "450:\tlearn: 0.6068893\ttotal: 1m 12s\tremaining: 1m 28s\n",
            "451:\tlearn: 0.6068686\ttotal: 1m 12s\tremaining: 1m 28s\n",
            "452:\tlearn: 0.6068530\ttotal: 1m 12s\tremaining: 1m 27s\n",
            "453:\tlearn: 0.6068340\ttotal: 1m 12s\tremaining: 1m 27s\n",
            "454:\tlearn: 0.6068234\ttotal: 1m 12s\tremaining: 1m 27s\n",
            "455:\tlearn: 0.6068076\ttotal: 1m 13s\tremaining: 1m 27s\n",
            "456:\tlearn: 0.6067883\ttotal: 1m 13s\tremaining: 1m 26s\n",
            "457:\tlearn: 0.6067734\ttotal: 1m 13s\tremaining: 1m 26s\n",
            "458:\tlearn: 0.6067608\ttotal: 1m 13s\tremaining: 1m 26s\n",
            "459:\tlearn: 0.6067296\ttotal: 1m 13s\tremaining: 1m 26s\n",
            "460:\tlearn: 0.6067085\ttotal: 1m 13s\tremaining: 1m 25s\n",
            "461:\tlearn: 0.6066737\ttotal: 1m 13s\tremaining: 1m 25s\n",
            "462:\tlearn: 0.6066631\ttotal: 1m 13s\tremaining: 1m 25s\n",
            "463:\tlearn: 0.6066408\ttotal: 1m 13s\tremaining: 1m 25s\n",
            "464:\tlearn: 0.6066212\ttotal: 1m 13s\tremaining: 1m 24s\n",
            "465:\tlearn: 0.6066045\ttotal: 1m 13s\tremaining: 1m 24s\n",
            "466:\tlearn: 0.6065821\ttotal: 1m 13s\tremaining: 1m 24s\n",
            "467:\tlearn: 0.6065562\ttotal: 1m 14s\tremaining: 1m 24s\n",
            "468:\tlearn: 0.6065084\ttotal: 1m 14s\tremaining: 1m 23s\n",
            "469:\tlearn: 0.6064934\ttotal: 1m 14s\tremaining: 1m 23s\n",
            "470:\tlearn: 0.6064759\ttotal: 1m 14s\tremaining: 1m 23s\n",
            "471:\tlearn: 0.6064476\ttotal: 1m 14s\tremaining: 1m 23s\n",
            "472:\tlearn: 0.6064280\ttotal: 1m 14s\tremaining: 1m 22s\n",
            "473:\tlearn: 0.6064083\ttotal: 1m 14s\tremaining: 1m 22s\n",
            "474:\tlearn: 0.6063759\ttotal: 1m 14s\tremaining: 1m 22s\n",
            "475:\tlearn: 0.6063492\ttotal: 1m 14s\tremaining: 1m 22s\n",
            "476:\tlearn: 0.6063174\ttotal: 1m 14s\tremaining: 1m 22s\n",
            "477:\tlearn: 0.6062915\ttotal: 1m 14s\tremaining: 1m 21s\n",
            "478:\tlearn: 0.6062660\ttotal: 1m 14s\tremaining: 1m 21s\n",
            "479:\tlearn: 0.6062359\ttotal: 1m 15s\tremaining: 1m 21s\n",
            "480:\tlearn: 0.6062057\ttotal: 1m 15s\tremaining: 1m 21s\n",
            "481:\tlearn: 0.6061860\ttotal: 1m 15s\tremaining: 1m 20s\n",
            "482:\tlearn: 0.6061652\ttotal: 1m 15s\tremaining: 1m 20s\n",
            "483:\tlearn: 0.6061426\ttotal: 1m 15s\tremaining: 1m 20s\n",
            "484:\tlearn: 0.6061263\ttotal: 1m 15s\tremaining: 1m 20s\n",
            "485:\tlearn: 0.6060946\ttotal: 1m 15s\tremaining: 1m 19s\n",
            "486:\tlearn: 0.6060804\ttotal: 1m 15s\tremaining: 1m 19s\n",
            "487:\tlearn: 0.6060569\ttotal: 1m 15s\tremaining: 1m 19s\n",
            "488:\tlearn: 0.6060370\ttotal: 1m 15s\tremaining: 1m 19s\n",
            "489:\tlearn: 0.6060166\ttotal: 1m 15s\tremaining: 1m 19s\n",
            "490:\tlearn: 0.6059960\ttotal: 1m 16s\tremaining: 1m 18s\n",
            "491:\tlearn: 0.6059702\ttotal: 1m 16s\tremaining: 1m 18s\n",
            "492:\tlearn: 0.6059454\ttotal: 1m 16s\tremaining: 1m 18s\n",
            "493:\tlearn: 0.6059294\ttotal: 1m 16s\tremaining: 1m 18s\n",
            "494:\tlearn: 0.6059161\ttotal: 1m 16s\tremaining: 1m 17s\n",
            "495:\tlearn: 0.6058898\ttotal: 1m 16s\tremaining: 1m 17s\n",
            "496:\tlearn: 0.6058598\ttotal: 1m 16s\tremaining: 1m 17s\n",
            "497:\tlearn: 0.6058287\ttotal: 1m 16s\tremaining: 1m 17s\n",
            "498:\tlearn: 0.6058045\ttotal: 1m 16s\tremaining: 1m 17s\n",
            "499:\tlearn: 0.6057762\ttotal: 1m 16s\tremaining: 1m 16s\n",
            "500:\tlearn: 0.6057618\ttotal: 1m 16s\tremaining: 1m 16s\n",
            "501:\tlearn: 0.6057369\ttotal: 1m 17s\tremaining: 1m 16s\n",
            "502:\tlearn: 0.6057098\ttotal: 1m 17s\tremaining: 1m 16s\n",
            "503:\tlearn: 0.6056915\ttotal: 1m 17s\tremaining: 1m 15s\n",
            "504:\tlearn: 0.6056603\ttotal: 1m 17s\tremaining: 1m 15s\n",
            "505:\tlearn: 0.6056493\ttotal: 1m 17s\tremaining: 1m 15s\n",
            "506:\tlearn: 0.6056153\ttotal: 1m 17s\tremaining: 1m 15s\n",
            "507:\tlearn: 0.6055901\ttotal: 1m 17s\tremaining: 1m 15s\n",
            "508:\tlearn: 0.6055822\ttotal: 1m 17s\tremaining: 1m 14s\n",
            "509:\tlearn: 0.6055650\ttotal: 1m 17s\tremaining: 1m 14s\n",
            "510:\tlearn: 0.6055535\ttotal: 1m 17s\tremaining: 1m 14s\n",
            "511:\tlearn: 0.6055172\ttotal: 1m 17s\tremaining: 1m 14s\n",
            "512:\tlearn: 0.6054793\ttotal: 1m 17s\tremaining: 1m 14s\n",
            "513:\tlearn: 0.6054559\ttotal: 1m 18s\tremaining: 1m 13s\n",
            "514:\tlearn: 0.6054306\ttotal: 1m 18s\tremaining: 1m 13s\n",
            "515:\tlearn: 0.6054126\ttotal: 1m 18s\tremaining: 1m 13s\n",
            "516:\tlearn: 0.6053797\ttotal: 1m 18s\tremaining: 1m 13s\n",
            "517:\tlearn: 0.6053497\ttotal: 1m 18s\tremaining: 1m 12s\n",
            "518:\tlearn: 0.6053372\ttotal: 1m 18s\tremaining: 1m 12s\n",
            "519:\tlearn: 0.6053231\ttotal: 1m 18s\tremaining: 1m 12s\n",
            "520:\tlearn: 0.6053152\ttotal: 1m 18s\tremaining: 1m 12s\n",
            "521:\tlearn: 0.6052966\ttotal: 1m 18s\tremaining: 1m 12s\n",
            "522:\tlearn: 0.6052583\ttotal: 1m 18s\tremaining: 1m 11s\n",
            "523:\tlearn: 0.6052421\ttotal: 1m 18s\tremaining: 1m 11s\n",
            "524:\tlearn: 0.6052243\ttotal: 1m 19s\tremaining: 1m 11s\n",
            "525:\tlearn: 0.6052004\ttotal: 1m 19s\tremaining: 1m 11s\n",
            "526:\tlearn: 0.6051756\ttotal: 1m 19s\tremaining: 1m 11s\n",
            "527:\tlearn: 0.6051484\ttotal: 1m 19s\tremaining: 1m 10s\n",
            "528:\tlearn: 0.6051311\ttotal: 1m 19s\tremaining: 1m 10s\n",
            "529:\tlearn: 0.6051226\ttotal: 1m 19s\tremaining: 1m 10s\n",
            "530:\tlearn: 0.6051078\ttotal: 1m 19s\tremaining: 1m 10s\n",
            "531:\tlearn: 0.6050869\ttotal: 1m 19s\tremaining: 1m 10s\n",
            "532:\tlearn: 0.6050569\ttotal: 1m 19s\tremaining: 1m 9s\n",
            "533:\tlearn: 0.6050459\ttotal: 1m 19s\tremaining: 1m 9s\n",
            "534:\tlearn: 0.6050316\ttotal: 1m 19s\tremaining: 1m 9s\n",
            "535:\tlearn: 0.6050211\ttotal: 1m 19s\tremaining: 1m 9s\n",
            "536:\tlearn: 0.6049932\ttotal: 1m 20s\tremaining: 1m 9s\n",
            "537:\tlearn: 0.6049662\ttotal: 1m 20s\tremaining: 1m 8s\n",
            "538:\tlearn: 0.6049464\ttotal: 1m 20s\tremaining: 1m 8s\n",
            "539:\tlearn: 0.6049316\ttotal: 1m 20s\tremaining: 1m 8s\n",
            "540:\tlearn: 0.6049078\ttotal: 1m 20s\tremaining: 1m 8s\n",
            "541:\tlearn: 0.6048905\ttotal: 1m 21s\tremaining: 1m 8s\n",
            "542:\tlearn: 0.6048708\ttotal: 1m 21s\tremaining: 1m 8s\n",
            "543:\tlearn: 0.6048510\ttotal: 1m 21s\tremaining: 1m 8s\n",
            "544:\tlearn: 0.6048193\ttotal: 1m 21s\tremaining: 1m 8s\n",
            "545:\tlearn: 0.6048007\ttotal: 1m 21s\tremaining: 1m 8s\n",
            "546:\tlearn: 0.6047762\ttotal: 1m 22s\tremaining: 1m 8s\n",
            "547:\tlearn: 0.6047543\ttotal: 1m 22s\tremaining: 1m 7s\n",
            "548:\tlearn: 0.6047315\ttotal: 1m 22s\tremaining: 1m 7s\n",
            "549:\tlearn: 0.6047112\ttotal: 1m 22s\tremaining: 1m 7s\n",
            "550:\tlearn: 0.6046799\ttotal: 1m 22s\tremaining: 1m 7s\n",
            "551:\tlearn: 0.6046586\ttotal: 1m 23s\tremaining: 1m 7s\n",
            "552:\tlearn: 0.6046354\ttotal: 1m 23s\tremaining: 1m 7s\n",
            "553:\tlearn: 0.6046138\ttotal: 1m 23s\tremaining: 1m 7s\n",
            "554:\tlearn: 0.6045987\ttotal: 1m 23s\tremaining: 1m 6s\n",
            "555:\tlearn: 0.6045776\ttotal: 1m 23s\tremaining: 1m 6s\n",
            "556:\tlearn: 0.6045629\ttotal: 1m 23s\tremaining: 1m 6s\n",
            "557:\tlearn: 0.6045381\ttotal: 1m 23s\tremaining: 1m 6s\n",
            "558:\tlearn: 0.6045067\ttotal: 1m 23s\tremaining: 1m 6s\n",
            "559:\tlearn: 0.6044855\ttotal: 1m 23s\tremaining: 1m 5s\n",
            "560:\tlearn: 0.6044537\ttotal: 1m 23s\tremaining: 1m 5s\n",
            "561:\tlearn: 0.6044191\ttotal: 1m 23s\tremaining: 1m 5s\n",
            "562:\tlearn: 0.6043898\ttotal: 1m 24s\tremaining: 1m 5s\n",
            "563:\tlearn: 0.6043753\ttotal: 1m 24s\tremaining: 1m 5s\n",
            "564:\tlearn: 0.6043455\ttotal: 1m 24s\tremaining: 1m 4s\n",
            "565:\tlearn: 0.6043219\ttotal: 1m 24s\tremaining: 1m 4s\n",
            "566:\tlearn: 0.6043028\ttotal: 1m 24s\tremaining: 1m 4s\n",
            "567:\tlearn: 0.6042745\ttotal: 1m 24s\tremaining: 1m 4s\n",
            "568:\tlearn: 0.6042607\ttotal: 1m 24s\tremaining: 1m 4s\n",
            "569:\tlearn: 0.6042375\ttotal: 1m 24s\tremaining: 1m 3s\n",
            "570:\tlearn: 0.6042254\ttotal: 1m 24s\tremaining: 1m 3s\n",
            "571:\tlearn: 0.6042055\ttotal: 1m 24s\tremaining: 1m 3s\n",
            "572:\tlearn: 0.6041832\ttotal: 1m 24s\tremaining: 1m 3s\n",
            "573:\tlearn: 0.6041639\ttotal: 1m 25s\tremaining: 1m 3s\n",
            "574:\tlearn: 0.6041547\ttotal: 1m 25s\tremaining: 1m 2s\n",
            "575:\tlearn: 0.6041232\ttotal: 1m 25s\tremaining: 1m 2s\n",
            "576:\tlearn: 0.6040941\ttotal: 1m 25s\tremaining: 1m 2s\n",
            "577:\tlearn: 0.6040584\ttotal: 1m 25s\tremaining: 1m 2s\n",
            "578:\tlearn: 0.6040317\ttotal: 1m 25s\tremaining: 1m 2s\n",
            "579:\tlearn: 0.6039973\ttotal: 1m 25s\tremaining: 1m 1s\n",
            "580:\tlearn: 0.6039728\ttotal: 1m 25s\tremaining: 1m 1s\n",
            "581:\tlearn: 0.6039476\ttotal: 1m 25s\tremaining: 1m 1s\n",
            "582:\tlearn: 0.6039304\ttotal: 1m 25s\tremaining: 1m 1s\n",
            "583:\tlearn: 0.6039107\ttotal: 1m 25s\tremaining: 1m 1s\n",
            "584:\tlearn: 0.6038941\ttotal: 1m 26s\tremaining: 1m 1s\n",
            "585:\tlearn: 0.6038691\ttotal: 1m 26s\tremaining: 1m\n",
            "586:\tlearn: 0.6038560\ttotal: 1m 26s\tremaining: 1m\n",
            "587:\tlearn: 0.6038337\ttotal: 1m 26s\tremaining: 1m\n",
            "588:\tlearn: 0.6038204\ttotal: 1m 26s\tremaining: 1m\n",
            "589:\tlearn: 0.6038058\ttotal: 1m 26s\tremaining: 1m\n",
            "590:\tlearn: 0.6037901\ttotal: 1m 26s\tremaining: 59.9s\n",
            "591:\tlearn: 0.6037689\ttotal: 1m 26s\tremaining: 59.7s\n",
            "592:\tlearn: 0.6037449\ttotal: 1m 26s\tremaining: 59.5s\n",
            "593:\tlearn: 0.6037334\ttotal: 1m 26s\tremaining: 59.3s\n",
            "594:\tlearn: 0.6037175\ttotal: 1m 26s\tremaining: 59.2s\n",
            "595:\tlearn: 0.6036918\ttotal: 1m 26s\tremaining: 59s\n",
            "596:\tlearn: 0.6036773\ttotal: 1m 27s\tremaining: 58.8s\n",
            "597:\tlearn: 0.6036452\ttotal: 1m 27s\tremaining: 58.6s\n",
            "598:\tlearn: 0.6036243\ttotal: 1m 27s\tremaining: 58.4s\n",
            "599:\tlearn: 0.6036168\ttotal: 1m 27s\tremaining: 58.2s\n",
            "600:\tlearn: 0.6035922\ttotal: 1m 27s\tremaining: 58s\n",
            "601:\tlearn: 0.6035757\ttotal: 1m 27s\tremaining: 57.9s\n",
            "602:\tlearn: 0.6035671\ttotal: 1m 27s\tremaining: 57.7s\n",
            "603:\tlearn: 0.6035444\ttotal: 1m 27s\tremaining: 57.5s\n",
            "604:\tlearn: 0.6035186\ttotal: 1m 27s\tremaining: 57.3s\n",
            "605:\tlearn: 0.6034925\ttotal: 1m 27s\tremaining: 57.1s\n",
            "606:\tlearn: 0.6034580\ttotal: 1m 27s\tremaining: 56.9s\n",
            "607:\tlearn: 0.6034412\ttotal: 1m 28s\tremaining: 56.8s\n",
            "608:\tlearn: 0.6033969\ttotal: 1m 28s\tremaining: 56.6s\n",
            "609:\tlearn: 0.6033862\ttotal: 1m 28s\tremaining: 56.4s\n",
            "610:\tlearn: 0.6033678\ttotal: 1m 28s\tremaining: 56.2s\n",
            "611:\tlearn: 0.6033416\ttotal: 1m 28s\tremaining: 56s\n",
            "612:\tlearn: 0.6033216\ttotal: 1m 28s\tremaining: 55.9s\n",
            "613:\tlearn: 0.6033078\ttotal: 1m 28s\tremaining: 55.7s\n",
            "614:\tlearn: 0.6032927\ttotal: 1m 28s\tremaining: 55.5s\n",
            "615:\tlearn: 0.6032744\ttotal: 1m 28s\tremaining: 55.3s\n",
            "616:\tlearn: 0.6032481\ttotal: 1m 28s\tremaining: 55.1s\n",
            "617:\tlearn: 0.6032277\ttotal: 1m 28s\tremaining: 55s\n",
            "618:\tlearn: 0.6032147\ttotal: 1m 28s\tremaining: 54.8s\n",
            "619:\tlearn: 0.6031993\ttotal: 1m 29s\tremaining: 54.6s\n",
            "620:\tlearn: 0.6031697\ttotal: 1m 29s\tremaining: 54.4s\n",
            "621:\tlearn: 0.6031476\ttotal: 1m 29s\tremaining: 54.3s\n",
            "622:\tlearn: 0.6031372\ttotal: 1m 29s\tremaining: 54.1s\n",
            "623:\tlearn: 0.6031214\ttotal: 1m 29s\tremaining: 53.9s\n",
            "624:\tlearn: 0.6031022\ttotal: 1m 29s\tremaining: 53.7s\n",
            "625:\tlearn: 0.6030927\ttotal: 1m 29s\tremaining: 53.5s\n",
            "626:\tlearn: 0.6030571\ttotal: 1m 29s\tremaining: 53.4s\n",
            "627:\tlearn: 0.6030322\ttotal: 1m 29s\tremaining: 53.2s\n",
            "628:\tlearn: 0.6029995\ttotal: 1m 29s\tremaining: 53s\n",
            "629:\tlearn: 0.6029756\ttotal: 1m 29s\tremaining: 52.8s\n",
            "630:\tlearn: 0.6029456\ttotal: 1m 30s\tremaining: 52.7s\n",
            "631:\tlearn: 0.6029228\ttotal: 1m 30s\tremaining: 52.5s\n",
            "632:\tlearn: 0.6029002\ttotal: 1m 30s\tremaining: 52.3s\n",
            "633:\tlearn: 0.6028770\ttotal: 1m 30s\tremaining: 52.1s\n",
            "634:\tlearn: 0.6028535\ttotal: 1m 30s\tremaining: 52s\n",
            "635:\tlearn: 0.6028296\ttotal: 1m 30s\tremaining: 51.8s\n",
            "636:\tlearn: 0.6028137\ttotal: 1m 30s\tremaining: 51.6s\n",
            "637:\tlearn: 0.6027982\ttotal: 1m 30s\tremaining: 51.4s\n",
            "638:\tlearn: 0.6027760\ttotal: 1m 30s\tremaining: 51.3s\n",
            "639:\tlearn: 0.6027513\ttotal: 1m 30s\tremaining: 51.1s\n",
            "640:\tlearn: 0.6027270\ttotal: 1m 30s\tremaining: 50.9s\n",
            "641:\tlearn: 0.6027025\ttotal: 1m 31s\tremaining: 50.7s\n",
            "642:\tlearn: 0.6026910\ttotal: 1m 31s\tremaining: 50.6s\n",
            "643:\tlearn: 0.6026765\ttotal: 1m 31s\tremaining: 50.4s\n",
            "644:\tlearn: 0.6026518\ttotal: 1m 31s\tremaining: 50.2s\n",
            "645:\tlearn: 0.6026340\ttotal: 1m 31s\tremaining: 50.1s\n",
            "646:\tlearn: 0.6026015\ttotal: 1m 31s\tremaining: 49.9s\n",
            "647:\tlearn: 0.6025817\ttotal: 1m 31s\tremaining: 49.7s\n",
            "648:\tlearn: 0.6025663\ttotal: 1m 31s\tremaining: 49.5s\n",
            "649:\tlearn: 0.6025367\ttotal: 1m 31s\tremaining: 49.4s\n",
            "650:\tlearn: 0.6025032\ttotal: 1m 31s\tremaining: 49.2s\n",
            "651:\tlearn: 0.6024793\ttotal: 1m 31s\tremaining: 49s\n",
            "652:\tlearn: 0.6024556\ttotal: 1m 31s\tremaining: 48.9s\n",
            "653:\tlearn: 0.6024358\ttotal: 1m 32s\tremaining: 48.7s\n",
            "654:\tlearn: 0.6024242\ttotal: 1m 32s\tremaining: 48.5s\n",
            "655:\tlearn: 0.6023985\ttotal: 1m 32s\tremaining: 48.4s\n",
            "656:\tlearn: 0.6023908\ttotal: 1m 32s\tremaining: 48.2s\n",
            "657:\tlearn: 0.6023569\ttotal: 1m 32s\tremaining: 48s\n",
            "658:\tlearn: 0.6023357\ttotal: 1m 32s\tremaining: 47.9s\n",
            "659:\tlearn: 0.6023217\ttotal: 1m 32s\tremaining: 47.7s\n",
            "660:\tlearn: 0.6022996\ttotal: 1m 32s\tremaining: 47.5s\n",
            "661:\tlearn: 0.6022885\ttotal: 1m 32s\tremaining: 47.4s\n",
            "662:\tlearn: 0.6022761\ttotal: 1m 32s\tremaining: 47.2s\n",
            "663:\tlearn: 0.6022630\ttotal: 1m 32s\tremaining: 47s\n",
            "664:\tlearn: 0.6022373\ttotal: 1m 33s\tremaining: 46.9s\n",
            "665:\tlearn: 0.6022127\ttotal: 1m 33s\tremaining: 46.8s\n",
            "666:\tlearn: 0.6021880\ttotal: 1m 33s\tremaining: 46.7s\n",
            "667:\tlearn: 0.6021761\ttotal: 1m 33s\tremaining: 46.6s\n",
            "668:\tlearn: 0.6021655\ttotal: 1m 33s\tremaining: 46.4s\n",
            "669:\tlearn: 0.6021495\ttotal: 1m 34s\tremaining: 46.3s\n",
            "670:\tlearn: 0.6021291\ttotal: 1m 34s\tremaining: 46.2s\n",
            "671:\tlearn: 0.6021046\ttotal: 1m 34s\tremaining: 46.1s\n",
            "672:\tlearn: 0.6020841\ttotal: 1m 34s\tremaining: 46s\n",
            "673:\tlearn: 0.6020693\ttotal: 1m 34s\tremaining: 45.9s\n",
            "674:\tlearn: 0.6020616\ttotal: 1m 35s\tremaining: 45.8s\n",
            "675:\tlearn: 0.6020495\ttotal: 1m 35s\tremaining: 45.7s\n",
            "676:\tlearn: 0.6020332\ttotal: 1m 35s\tremaining: 45.6s\n",
            "677:\tlearn: 0.6020206\ttotal: 1m 35s\tremaining: 45.5s\n",
            "678:\tlearn: 0.6019933\ttotal: 1m 35s\tremaining: 45.3s\n",
            "679:\tlearn: 0.6019770\ttotal: 1m 36s\tremaining: 45.2s\n",
            "680:\tlearn: 0.6019551\ttotal: 1m 36s\tremaining: 45s\n",
            "681:\tlearn: 0.6019339\ttotal: 1m 36s\tremaining: 44.9s\n",
            "682:\tlearn: 0.6019198\ttotal: 1m 36s\tremaining: 44.7s\n",
            "683:\tlearn: 0.6019061\ttotal: 1m 36s\tremaining: 44.5s\n",
            "684:\tlearn: 0.6018927\ttotal: 1m 36s\tremaining: 44.4s\n",
            "685:\tlearn: 0.6018771\ttotal: 1m 36s\tremaining: 44.2s\n",
            "686:\tlearn: 0.6018615\ttotal: 1m 36s\tremaining: 44s\n",
            "687:\tlearn: 0.6018365\ttotal: 1m 36s\tremaining: 43.9s\n",
            "688:\tlearn: 0.6018199\ttotal: 1m 36s\tremaining: 43.7s\n",
            "689:\tlearn: 0.6018072\ttotal: 1m 36s\tremaining: 43.5s\n",
            "690:\tlearn: 0.6017987\ttotal: 1m 37s\tremaining: 43.4s\n",
            "691:\tlearn: 0.6017747\ttotal: 1m 37s\tremaining: 43.2s\n",
            "692:\tlearn: 0.6017561\ttotal: 1m 37s\tremaining: 43.1s\n",
            "693:\tlearn: 0.6017404\ttotal: 1m 37s\tremaining: 42.9s\n",
            "694:\tlearn: 0.6017153\ttotal: 1m 37s\tremaining: 42.7s\n",
            "695:\tlearn: 0.6016959\ttotal: 1m 37s\tremaining: 42.6s\n",
            "696:\tlearn: 0.6016831\ttotal: 1m 37s\tremaining: 42.4s\n",
            "697:\tlearn: 0.6016624\ttotal: 1m 37s\tremaining: 42.3s\n",
            "698:\tlearn: 0.6016250\ttotal: 1m 37s\tremaining: 42.1s\n",
            "699:\tlearn: 0.6016095\ttotal: 1m 37s\tremaining: 41.9s\n",
            "700:\tlearn: 0.6016012\ttotal: 1m 37s\tremaining: 41.8s\n",
            "701:\tlearn: 0.6015936\ttotal: 1m 38s\tremaining: 41.6s\n",
            "702:\tlearn: 0.6015656\ttotal: 1m 38s\tremaining: 41.5s\n",
            "703:\tlearn: 0.6015593\ttotal: 1m 38s\tremaining: 41.3s\n",
            "704:\tlearn: 0.6015389\ttotal: 1m 38s\tremaining: 41.1s\n",
            "705:\tlearn: 0.6015137\ttotal: 1m 38s\tremaining: 41s\n",
            "706:\tlearn: 0.6014867\ttotal: 1m 38s\tremaining: 40.8s\n",
            "707:\tlearn: 0.6014631\ttotal: 1m 38s\tremaining: 40.7s\n",
            "708:\tlearn: 0.6014480\ttotal: 1m 38s\tremaining: 40.5s\n",
            "709:\tlearn: 0.6014272\ttotal: 1m 38s\tremaining: 40.3s\n",
            "710:\tlearn: 0.6014032\ttotal: 1m 38s\tremaining: 40.2s\n",
            "711:\tlearn: 0.6013949\ttotal: 1m 38s\tremaining: 40s\n",
            "712:\tlearn: 0.6013708\ttotal: 1m 39s\tremaining: 39.9s\n",
            "713:\tlearn: 0.6013525\ttotal: 1m 39s\tremaining: 39.7s\n",
            "714:\tlearn: 0.6013298\ttotal: 1m 39s\tremaining: 39.5s\n",
            "715:\tlearn: 0.6013152\ttotal: 1m 39s\tremaining: 39.4s\n",
            "716:\tlearn: 0.6012931\ttotal: 1m 39s\tremaining: 39.2s\n",
            "717:\tlearn: 0.6012744\ttotal: 1m 39s\tremaining: 39.1s\n",
            "718:\tlearn: 0.6012594\ttotal: 1m 39s\tremaining: 38.9s\n",
            "719:\tlearn: 0.6012495\ttotal: 1m 39s\tremaining: 38.7s\n",
            "720:\tlearn: 0.6012295\ttotal: 1m 39s\tremaining: 38.6s\n",
            "721:\tlearn: 0.6011996\ttotal: 1m 39s\tremaining: 38.4s\n",
            "722:\tlearn: 0.6011898\ttotal: 1m 39s\tremaining: 38.3s\n",
            "723:\tlearn: 0.6011681\ttotal: 1m 39s\tremaining: 38.1s\n",
            "724:\tlearn: 0.6011477\ttotal: 1m 40s\tremaining: 38s\n",
            "725:\tlearn: 0.6011352\ttotal: 1m 40s\tremaining: 37.8s\n",
            "726:\tlearn: 0.6011105\ttotal: 1m 40s\tremaining: 37.6s\n",
            "727:\tlearn: 0.6011005\ttotal: 1m 40s\tremaining: 37.5s\n",
            "728:\tlearn: 0.6010773\ttotal: 1m 40s\tremaining: 37.3s\n",
            "729:\tlearn: 0.6010533\ttotal: 1m 40s\tremaining: 37.2s\n",
            "730:\tlearn: 0.6010442\ttotal: 1m 40s\tremaining: 37s\n",
            "731:\tlearn: 0.6010242\ttotal: 1m 40s\tremaining: 36.9s\n",
            "732:\tlearn: 0.6010147\ttotal: 1m 40s\tremaining: 36.7s\n",
            "733:\tlearn: 0.6009984\ttotal: 1m 40s\tremaining: 36.6s\n",
            "734:\tlearn: 0.6009853\ttotal: 1m 40s\tremaining: 36.4s\n",
            "735:\tlearn: 0.6009727\ttotal: 1m 41s\tremaining: 36.2s\n",
            "736:\tlearn: 0.6009592\ttotal: 1m 41s\tremaining: 36.1s\n",
            "737:\tlearn: 0.6009339\ttotal: 1m 41s\tremaining: 35.9s\n",
            "738:\tlearn: 0.6009178\ttotal: 1m 41s\tremaining: 35.8s\n",
            "739:\tlearn: 0.6009058\ttotal: 1m 41s\tremaining: 35.6s\n",
            "740:\tlearn: 0.6008865\ttotal: 1m 41s\tremaining: 35.5s\n",
            "741:\tlearn: 0.6008691\ttotal: 1m 41s\tremaining: 35.3s\n",
            "742:\tlearn: 0.6008427\ttotal: 1m 41s\tremaining: 35.2s\n",
            "743:\tlearn: 0.6008270\ttotal: 1m 41s\tremaining: 35s\n",
            "744:\tlearn: 0.6008104\ttotal: 1m 41s\tremaining: 34.9s\n",
            "745:\tlearn: 0.6007913\ttotal: 1m 41s\tremaining: 34.7s\n",
            "746:\tlearn: 0.6007772\ttotal: 1m 42s\tremaining: 34.6s\n",
            "747:\tlearn: 0.6007550\ttotal: 1m 42s\tremaining: 34.4s\n",
            "748:\tlearn: 0.6007302\ttotal: 1m 42s\tremaining: 34.3s\n",
            "749:\tlearn: 0.6007120\ttotal: 1m 42s\tremaining: 34.1s\n",
            "750:\tlearn: 0.6006968\ttotal: 1m 42s\tremaining: 33.9s\n",
            "751:\tlearn: 0.6006791\ttotal: 1m 42s\tremaining: 33.8s\n",
            "752:\tlearn: 0.6006603\ttotal: 1m 42s\tremaining: 33.6s\n",
            "753:\tlearn: 0.6006449\ttotal: 1m 42s\tremaining: 33.5s\n",
            "754:\tlearn: 0.6006207\ttotal: 1m 42s\tremaining: 33.3s\n",
            "755:\tlearn: 0.6006145\ttotal: 1m 42s\tremaining: 33.2s\n",
            "756:\tlearn: 0.6006010\ttotal: 1m 42s\tremaining: 33s\n",
            "757:\tlearn: 0.6005890\ttotal: 1m 42s\tremaining: 32.9s\n",
            "758:\tlearn: 0.6005755\ttotal: 1m 43s\tremaining: 32.7s\n",
            "759:\tlearn: 0.6005563\ttotal: 1m 43s\tremaining: 32.6s\n",
            "760:\tlearn: 0.6005345\ttotal: 1m 43s\tremaining: 32.4s\n",
            "761:\tlearn: 0.6005171\ttotal: 1m 43s\tremaining: 32.3s\n",
            "762:\tlearn: 0.6004933\ttotal: 1m 43s\tremaining: 32.1s\n",
            "763:\tlearn: 0.6004825\ttotal: 1m 43s\tremaining: 32s\n",
            "764:\tlearn: 0.6004593\ttotal: 1m 43s\tremaining: 31.8s\n",
            "765:\tlearn: 0.6004450\ttotal: 1m 43s\tremaining: 31.7s\n",
            "766:\tlearn: 0.6004345\ttotal: 1m 43s\tremaining: 31.5s\n",
            "767:\tlearn: 0.6004168\ttotal: 1m 43s\tremaining: 31.4s\n",
            "768:\tlearn: 0.6003987\ttotal: 1m 43s\tremaining: 31.2s\n",
            "769:\tlearn: 0.6003750\ttotal: 1m 44s\tremaining: 31.1s\n",
            "770:\tlearn: 0.6003619\ttotal: 1m 44s\tremaining: 30.9s\n",
            "771:\tlearn: 0.6003457\ttotal: 1m 44s\tremaining: 30.8s\n",
            "772:\tlearn: 0.6003274\ttotal: 1m 44s\tremaining: 30.6s\n",
            "773:\tlearn: 0.6003165\ttotal: 1m 44s\tremaining: 30.5s\n",
            "774:\tlearn: 0.6003069\ttotal: 1m 44s\tremaining: 30.3s\n",
            "775:\tlearn: 0.6002838\ttotal: 1m 44s\tremaining: 30.2s\n",
            "776:\tlearn: 0.6002735\ttotal: 1m 44s\tremaining: 30s\n",
            "777:\tlearn: 0.6002637\ttotal: 1m 44s\tremaining: 29.9s\n",
            "778:\tlearn: 0.6002516\ttotal: 1m 44s\tremaining: 29.7s\n",
            "779:\tlearn: 0.6002340\ttotal: 1m 44s\tremaining: 29.6s\n",
            "780:\tlearn: 0.6002132\ttotal: 1m 45s\tremaining: 29.4s\n",
            "781:\tlearn: 0.6002047\ttotal: 1m 45s\tremaining: 29.3s\n",
            "782:\tlearn: 0.6001958\ttotal: 1m 45s\tremaining: 29.1s\n",
            "783:\tlearn: 0.6001850\ttotal: 1m 45s\tremaining: 29s\n",
            "784:\tlearn: 0.6001634\ttotal: 1m 45s\tremaining: 28.9s\n",
            "785:\tlearn: 0.6001519\ttotal: 1m 45s\tremaining: 28.7s\n",
            "786:\tlearn: 0.6001349\ttotal: 1m 45s\tremaining: 28.6s\n",
            "787:\tlearn: 0.6001161\ttotal: 1m 45s\tremaining: 28.4s\n",
            "788:\tlearn: 0.6001074\ttotal: 1m 45s\tremaining: 28.3s\n",
            "789:\tlearn: 0.6000992\ttotal: 1m 45s\tremaining: 28.1s\n",
            "790:\tlearn: 0.6000737\ttotal: 1m 45s\tremaining: 28s\n",
            "791:\tlearn: 0.6000517\ttotal: 1m 46s\tremaining: 27.8s\n",
            "792:\tlearn: 0.6000369\ttotal: 1m 46s\tremaining: 27.7s\n",
            "793:\tlearn: 0.6000155\ttotal: 1m 46s\tremaining: 27.6s\n",
            "794:\tlearn: 0.6000043\ttotal: 1m 46s\tremaining: 27.5s\n",
            "795:\tlearn: 0.5999969\ttotal: 1m 46s\tremaining: 27.4s\n",
            "796:\tlearn: 0.5999785\ttotal: 1m 47s\tremaining: 27.3s\n",
            "797:\tlearn: 0.5999662\ttotal: 1m 47s\tremaining: 27.1s\n",
            "798:\tlearn: 0.5999526\ttotal: 1m 47s\tremaining: 27s\n",
            "799:\tlearn: 0.5999361\ttotal: 1m 47s\tremaining: 26.9s\n",
            "800:\tlearn: 0.5999187\ttotal: 1m 47s\tremaining: 26.8s\n",
            "801:\tlearn: 0.5998973\ttotal: 1m 48s\tremaining: 26.7s\n",
            "802:\tlearn: 0.5998686\ttotal: 1m 48s\tremaining: 26.6s\n",
            "803:\tlearn: 0.5998518\ttotal: 1m 48s\tremaining: 26.4s\n",
            "804:\tlearn: 0.5998343\ttotal: 1m 48s\tremaining: 26.3s\n",
            "805:\tlearn: 0.5998163\ttotal: 1m 48s\tremaining: 26.2s\n",
            "806:\tlearn: 0.5997997\ttotal: 1m 49s\tremaining: 26.1s\n",
            "807:\tlearn: 0.5997728\ttotal: 1m 49s\tremaining: 25.9s\n",
            "808:\tlearn: 0.5997570\ttotal: 1m 49s\tremaining: 25.8s\n",
            "809:\tlearn: 0.5997429\ttotal: 1m 49s\tremaining: 25.6s\n",
            "810:\tlearn: 0.5997300\ttotal: 1m 49s\tremaining: 25.5s\n",
            "811:\tlearn: 0.5997066\ttotal: 1m 49s\tremaining: 25.3s\n",
            "812:\tlearn: 0.5996896\ttotal: 1m 49s\tremaining: 25.2s\n",
            "813:\tlearn: 0.5996661\ttotal: 1m 49s\tremaining: 25.1s\n",
            "814:\tlearn: 0.5996416\ttotal: 1m 49s\tremaining: 24.9s\n",
            "815:\tlearn: 0.5996225\ttotal: 1m 49s\tremaining: 24.8s\n",
            "816:\tlearn: 0.5996163\ttotal: 1m 49s\tremaining: 24.6s\n",
            "817:\tlearn: 0.5995927\ttotal: 1m 49s\tremaining: 24.5s\n",
            "818:\tlearn: 0.5995860\ttotal: 1m 50s\tremaining: 24.3s\n",
            "819:\tlearn: 0.5995689\ttotal: 1m 50s\tremaining: 24.2s\n",
            "820:\tlearn: 0.5995535\ttotal: 1m 50s\tremaining: 24s\n",
            "821:\tlearn: 0.5995365\ttotal: 1m 50s\tremaining: 23.9s\n",
            "822:\tlearn: 0.5995131\ttotal: 1m 50s\tremaining: 23.7s\n",
            "823:\tlearn: 0.5994967\ttotal: 1m 50s\tremaining: 23.6s\n",
            "824:\tlearn: 0.5994726\ttotal: 1m 50s\tremaining: 23.5s\n",
            "825:\tlearn: 0.5994578\ttotal: 1m 50s\tremaining: 23.3s\n",
            "826:\tlearn: 0.5994380\ttotal: 1m 50s\tremaining: 23.2s\n",
            "827:\tlearn: 0.5994181\ttotal: 1m 50s\tremaining: 23s\n",
            "828:\tlearn: 0.5993970\ttotal: 1m 50s\tremaining: 22.9s\n",
            "829:\tlearn: 0.5993880\ttotal: 1m 51s\tremaining: 22.7s\n",
            "830:\tlearn: 0.5993563\ttotal: 1m 51s\tremaining: 22.6s\n",
            "831:\tlearn: 0.5993303\ttotal: 1m 51s\tremaining: 22.5s\n",
            "832:\tlearn: 0.5993154\ttotal: 1m 51s\tremaining: 22.3s\n",
            "833:\tlearn: 0.5993053\ttotal: 1m 51s\tremaining: 22.2s\n",
            "834:\tlearn: 0.5992984\ttotal: 1m 51s\tremaining: 22s\n",
            "835:\tlearn: 0.5992736\ttotal: 1m 51s\tremaining: 21.9s\n",
            "836:\tlearn: 0.5992611\ttotal: 1m 51s\tremaining: 21.7s\n",
            "837:\tlearn: 0.5992447\ttotal: 1m 51s\tremaining: 21.6s\n",
            "838:\tlearn: 0.5992269\ttotal: 1m 51s\tremaining: 21.4s\n",
            "839:\tlearn: 0.5992034\ttotal: 1m 51s\tremaining: 21.3s\n",
            "840:\tlearn: 0.5991675\ttotal: 1m 51s\tremaining: 21.2s\n",
            "841:\tlearn: 0.5991527\ttotal: 1m 52s\tremaining: 21s\n",
            "842:\tlearn: 0.5991331\ttotal: 1m 52s\tremaining: 20.9s\n",
            "843:\tlearn: 0.5991229\ttotal: 1m 52s\tremaining: 20.7s\n",
            "844:\tlearn: 0.5991062\ttotal: 1m 52s\tremaining: 20.6s\n",
            "845:\tlearn: 0.5990909\ttotal: 1m 52s\tremaining: 20.5s\n",
            "846:\tlearn: 0.5990820\ttotal: 1m 52s\tremaining: 20.3s\n",
            "847:\tlearn: 0.5990694\ttotal: 1m 52s\tremaining: 20.2s\n",
            "848:\tlearn: 0.5990561\ttotal: 1m 52s\tremaining: 20s\n",
            "849:\tlearn: 0.5990479\ttotal: 1m 52s\tremaining: 19.9s\n",
            "850:\tlearn: 0.5990375\ttotal: 1m 52s\tremaining: 19.8s\n",
            "851:\tlearn: 0.5990217\ttotal: 1m 52s\tremaining: 19.6s\n",
            "852:\tlearn: 0.5990071\ttotal: 1m 52s\tremaining: 19.5s\n",
            "853:\tlearn: 0.5989978\ttotal: 1m 53s\tremaining: 19.3s\n",
            "854:\tlearn: 0.5989800\ttotal: 1m 53s\tremaining: 19.2s\n",
            "855:\tlearn: 0.5989656\ttotal: 1m 53s\tremaining: 19.1s\n",
            "856:\tlearn: 0.5989547\ttotal: 1m 53s\tremaining: 18.9s\n",
            "857:\tlearn: 0.5989332\ttotal: 1m 53s\tremaining: 18.8s\n",
            "858:\tlearn: 0.5989212\ttotal: 1m 53s\tremaining: 18.6s\n",
            "859:\tlearn: 0.5989030\ttotal: 1m 53s\tremaining: 18.5s\n",
            "860:\tlearn: 0.5988873\ttotal: 1m 53s\tremaining: 18.4s\n",
            "861:\tlearn: 0.5988723\ttotal: 1m 53s\tremaining: 18.2s\n",
            "862:\tlearn: 0.5988581\ttotal: 1m 53s\tremaining: 18.1s\n",
            "863:\tlearn: 0.5988508\ttotal: 1m 53s\tremaining: 17.9s\n",
            "864:\tlearn: 0.5988273\ttotal: 1m 54s\tremaining: 17.8s\n",
            "865:\tlearn: 0.5988089\ttotal: 1m 54s\tremaining: 17.7s\n",
            "866:\tlearn: 0.5987909\ttotal: 1m 54s\tremaining: 17.5s\n",
            "867:\tlearn: 0.5987825\ttotal: 1m 54s\tremaining: 17.4s\n",
            "868:\tlearn: 0.5987732\ttotal: 1m 54s\tremaining: 17.2s\n",
            "869:\tlearn: 0.5987599\ttotal: 1m 54s\tremaining: 17.1s\n",
            "870:\tlearn: 0.5987421\ttotal: 1m 54s\tremaining: 17s\n",
            "871:\tlearn: 0.5987295\ttotal: 1m 54s\tremaining: 16.8s\n",
            "872:\tlearn: 0.5987131\ttotal: 1m 54s\tremaining: 16.7s\n",
            "873:\tlearn: 0.5986996\ttotal: 1m 54s\tremaining: 16.5s\n",
            "874:\tlearn: 0.5986879\ttotal: 1m 54s\tremaining: 16.4s\n",
            "875:\tlearn: 0.5986762\ttotal: 1m 54s\tremaining: 16.3s\n",
            "876:\tlearn: 0.5986654\ttotal: 1m 55s\tremaining: 16.1s\n",
            "877:\tlearn: 0.5986459\ttotal: 1m 55s\tremaining: 16s\n",
            "878:\tlearn: 0.5986329\ttotal: 1m 55s\tremaining: 15.9s\n",
            "879:\tlearn: 0.5986064\ttotal: 1m 55s\tremaining: 15.7s\n",
            "880:\tlearn: 0.5985903\ttotal: 1m 55s\tremaining: 15.6s\n",
            "881:\tlearn: 0.5985712\ttotal: 1m 55s\tremaining: 15.4s\n",
            "882:\tlearn: 0.5985515\ttotal: 1m 55s\tremaining: 15.3s\n",
            "883:\tlearn: 0.5985373\ttotal: 1m 55s\tremaining: 15.2s\n",
            "884:\tlearn: 0.5985227\ttotal: 1m 55s\tremaining: 15s\n",
            "885:\tlearn: 0.5985105\ttotal: 1m 55s\tremaining: 14.9s\n",
            "886:\tlearn: 0.5984991\ttotal: 1m 55s\tremaining: 14.8s\n",
            "887:\tlearn: 0.5984812\ttotal: 1m 56s\tremaining: 14.6s\n",
            "888:\tlearn: 0.5984741\ttotal: 1m 56s\tremaining: 14.5s\n",
            "889:\tlearn: 0.5984546\ttotal: 1m 56s\tremaining: 14.4s\n",
            "890:\tlearn: 0.5984468\ttotal: 1m 56s\tremaining: 14.2s\n",
            "891:\tlearn: 0.5984339\ttotal: 1m 56s\tremaining: 14.1s\n",
            "892:\tlearn: 0.5984225\ttotal: 1m 56s\tremaining: 14s\n",
            "893:\tlearn: 0.5984073\ttotal: 1m 56s\tremaining: 13.8s\n",
            "894:\tlearn: 0.5983901\ttotal: 1m 56s\tremaining: 13.7s\n",
            "895:\tlearn: 0.5983741\ttotal: 1m 56s\tremaining: 13.5s\n",
            "896:\tlearn: 0.5983580\ttotal: 1m 56s\tremaining: 13.4s\n",
            "897:\tlearn: 0.5983358\ttotal: 1m 56s\tremaining: 13.3s\n",
            "898:\tlearn: 0.5983169\ttotal: 1m 56s\tremaining: 13.1s\n",
            "899:\tlearn: 0.5982984\ttotal: 1m 57s\tremaining: 13s\n",
            "900:\tlearn: 0.5982840\ttotal: 1m 57s\tremaining: 12.9s\n",
            "901:\tlearn: 0.5982718\ttotal: 1m 57s\tremaining: 12.7s\n",
            "902:\tlearn: 0.5982541\ttotal: 1m 57s\tremaining: 12.6s\n",
            "903:\tlearn: 0.5982354\ttotal: 1m 57s\tremaining: 12.5s\n",
            "904:\tlearn: 0.5982184\ttotal: 1m 57s\tremaining: 12.3s\n",
            "905:\tlearn: 0.5982060\ttotal: 1m 57s\tremaining: 12.2s\n",
            "906:\tlearn: 0.5981932\ttotal: 1m 57s\tremaining: 12.1s\n",
            "907:\tlearn: 0.5981767\ttotal: 1m 57s\tremaining: 11.9s\n",
            "908:\tlearn: 0.5981684\ttotal: 1m 57s\tremaining: 11.8s\n",
            "909:\tlearn: 0.5981467\ttotal: 1m 57s\tremaining: 11.7s\n",
            "910:\tlearn: 0.5981278\ttotal: 1m 58s\tremaining: 11.5s\n",
            "911:\tlearn: 0.5981187\ttotal: 1m 58s\tremaining: 11.4s\n",
            "912:\tlearn: 0.5981054\ttotal: 1m 58s\tremaining: 11.3s\n",
            "913:\tlearn: 0.5980993\ttotal: 1m 58s\tremaining: 11.1s\n",
            "914:\tlearn: 0.5980829\ttotal: 1m 58s\tremaining: 11s\n",
            "915:\tlearn: 0.5980647\ttotal: 1m 58s\tremaining: 10.9s\n",
            "916:\tlearn: 0.5980547\ttotal: 1m 58s\tremaining: 10.7s\n",
            "917:\tlearn: 0.5980350\ttotal: 1m 58s\tremaining: 10.6s\n",
            "918:\tlearn: 0.5980247\ttotal: 1m 58s\tremaining: 10.5s\n",
            "919:\tlearn: 0.5980095\ttotal: 1m 58s\tremaining: 10.3s\n",
            "920:\tlearn: 0.5979968\ttotal: 1m 58s\tremaining: 10.2s\n",
            "921:\tlearn: 0.5979822\ttotal: 1m 59s\tremaining: 10.1s\n",
            "922:\tlearn: 0.5979662\ttotal: 1m 59s\tremaining: 9.95s\n",
            "923:\tlearn: 0.5979593\ttotal: 1m 59s\tremaining: 9.82s\n",
            "924:\tlearn: 0.5979465\ttotal: 1m 59s\tremaining: 9.7s\n",
            "925:\tlearn: 0.5979349\ttotal: 1m 59s\tremaining: 9.58s\n",
            "926:\tlearn: 0.5979264\ttotal: 2m\tremaining: 9.45s\n",
            "927:\tlearn: 0.5979035\ttotal: 2m\tremaining: 9.33s\n",
            "928:\tlearn: 0.5978864\ttotal: 2m\tremaining: 9.2s\n",
            "929:\tlearn: 0.5978698\ttotal: 2m\tremaining: 9.08s\n",
            "930:\tlearn: 0.5978527\ttotal: 2m\tremaining: 8.96s\n",
            "931:\tlearn: 0.5978373\ttotal: 2m 1s\tremaining: 8.83s\n",
            "932:\tlearn: 0.5978126\ttotal: 2m 1s\tremaining: 8.71s\n",
            "933:\tlearn: 0.5978009\ttotal: 2m 1s\tremaining: 8.58s\n",
            "934:\tlearn: 0.5977864\ttotal: 2m 1s\tremaining: 8.46s\n",
            "935:\tlearn: 0.5977608\ttotal: 2m 1s\tremaining: 8.33s\n",
            "936:\tlearn: 0.5977455\ttotal: 2m 1s\tremaining: 8.2s\n",
            "937:\tlearn: 0.5977290\ttotal: 2m 2s\tremaining: 8.06s\n",
            "938:\tlearn: 0.5977121\ttotal: 2m 2s\tremaining: 7.93s\n",
            "939:\tlearn: 0.5976926\ttotal: 2m 2s\tremaining: 7.8s\n",
            "940:\tlearn: 0.5976714\ttotal: 2m 2s\tremaining: 7.67s\n",
            "941:\tlearn: 0.5976538\ttotal: 2m 2s\tremaining: 7.53s\n",
            "942:\tlearn: 0.5976428\ttotal: 2m 2s\tremaining: 7.4s\n",
            "943:\tlearn: 0.5976314\ttotal: 2m 2s\tremaining: 7.27s\n",
            "944:\tlearn: 0.5976184\ttotal: 2m 2s\tremaining: 7.13s\n",
            "945:\tlearn: 0.5976048\ttotal: 2m 2s\tremaining: 7s\n",
            "946:\tlearn: 0.5975820\ttotal: 2m 2s\tremaining: 6.87s\n",
            "947:\tlearn: 0.5975576\ttotal: 2m 2s\tremaining: 6.74s\n",
            "948:\tlearn: 0.5975411\ttotal: 2m 2s\tremaining: 6.61s\n",
            "949:\tlearn: 0.5975266\ttotal: 2m 3s\tremaining: 6.48s\n",
            "950:\tlearn: 0.5975101\ttotal: 2m 3s\tremaining: 6.34s\n",
            "951:\tlearn: 0.5974950\ttotal: 2m 3s\tremaining: 6.21s\n",
            "952:\tlearn: 0.5974860\ttotal: 2m 3s\tremaining: 6.08s\n",
            "953:\tlearn: 0.5974756\ttotal: 2m 3s\tremaining: 5.95s\n",
            "954:\tlearn: 0.5974551\ttotal: 2m 3s\tremaining: 5.82s\n",
            "955:\tlearn: 0.5974455\ttotal: 2m 3s\tremaining: 5.69s\n",
            "956:\tlearn: 0.5974331\ttotal: 2m 3s\tremaining: 5.56s\n",
            "957:\tlearn: 0.5974141\ttotal: 2m 3s\tremaining: 5.43s\n",
            "958:\tlearn: 0.5973869\ttotal: 2m 3s\tremaining: 5.29s\n",
            "959:\tlearn: 0.5973753\ttotal: 2m 3s\tremaining: 5.16s\n",
            "960:\tlearn: 0.5973679\ttotal: 2m 4s\tremaining: 5.03s\n",
            "961:\tlearn: 0.5973522\ttotal: 2m 4s\tremaining: 4.9s\n",
            "962:\tlearn: 0.5973345\ttotal: 2m 4s\tremaining: 4.77s\n",
            "963:\tlearn: 0.5973154\ttotal: 2m 4s\tremaining: 4.64s\n",
            "964:\tlearn: 0.5973026\ttotal: 2m 4s\tremaining: 4.51s\n",
            "965:\tlearn: 0.5972948\ttotal: 2m 4s\tremaining: 4.38s\n",
            "966:\tlearn: 0.5972864\ttotal: 2m 4s\tremaining: 4.25s\n",
            "967:\tlearn: 0.5972784\ttotal: 2m 4s\tremaining: 4.12s\n",
            "968:\tlearn: 0.5972530\ttotal: 2m 4s\tremaining: 3.99s\n",
            "969:\tlearn: 0.5972381\ttotal: 2m 4s\tremaining: 3.86s\n",
            "970:\tlearn: 0.5972113\ttotal: 2m 4s\tremaining: 3.73s\n",
            "971:\tlearn: 0.5971915\ttotal: 2m 5s\tremaining: 3.6s\n",
            "972:\tlearn: 0.5971743\ttotal: 2m 5s\tremaining: 3.47s\n",
            "973:\tlearn: 0.5971647\ttotal: 2m 5s\tremaining: 3.34s\n",
            "974:\tlearn: 0.5971571\ttotal: 2m 5s\tremaining: 3.21s\n",
            "975:\tlearn: 0.5971425\ttotal: 2m 5s\tremaining: 3.08s\n",
            "976:\tlearn: 0.5971160\ttotal: 2m 5s\tremaining: 2.95s\n",
            "977:\tlearn: 0.5971027\ttotal: 2m 5s\tremaining: 2.82s\n",
            "978:\tlearn: 0.5970865\ttotal: 2m 5s\tremaining: 2.69s\n",
            "979:\tlearn: 0.5970788\ttotal: 2m 5s\tremaining: 2.56s\n",
            "980:\tlearn: 0.5970647\ttotal: 2m 5s\tremaining: 2.44s\n",
            "981:\tlearn: 0.5970458\ttotal: 2m 5s\tremaining: 2.31s\n",
            "982:\tlearn: 0.5970349\ttotal: 2m 5s\tremaining: 2.18s\n",
            "983:\tlearn: 0.5970146\ttotal: 2m 6s\tremaining: 2.05s\n",
            "984:\tlearn: 0.5970022\ttotal: 2m 6s\tremaining: 1.92s\n",
            "985:\tlearn: 0.5969953\ttotal: 2m 6s\tremaining: 1.79s\n",
            "986:\tlearn: 0.5969831\ttotal: 2m 6s\tremaining: 1.66s\n",
            "987:\tlearn: 0.5969726\ttotal: 2m 6s\tremaining: 1.53s\n",
            "988:\tlearn: 0.5969544\ttotal: 2m 6s\tremaining: 1.41s\n",
            "989:\tlearn: 0.5969333\ttotal: 2m 6s\tremaining: 1.28s\n",
            "990:\tlearn: 0.5969168\ttotal: 2m 6s\tremaining: 1.15s\n",
            "991:\tlearn: 0.5969086\ttotal: 2m 6s\tremaining: 1.02s\n",
            "992:\tlearn: 0.5968962\ttotal: 2m 6s\tremaining: 894ms\n",
            "993:\tlearn: 0.5968854\ttotal: 2m 6s\tremaining: 766ms\n",
            "994:\tlearn: 0.5968720\ttotal: 2m 7s\tremaining: 638ms\n",
            "995:\tlearn: 0.5968600\ttotal: 2m 7s\tremaining: 510ms\n",
            "996:\tlearn: 0.5968424\ttotal: 2m 7s\tremaining: 383ms\n",
            "997:\tlearn: 0.5968310\ttotal: 2m 7s\tremaining: 255ms\n",
            "998:\tlearn: 0.5968181\ttotal: 2m 7s\tremaining: 128ms\n",
            "999:\tlearn: 0.5968091\ttotal: 2m 7s\tremaining: 0us\n"
          ]
        },
        {
          "output_type": "execute_result",
          "data": {
            "text/plain": [
              "<catboost.core.CatBoostClassifier at 0x7f458e76b820>"
            ]
          },
          "metadata": {},
          "execution_count": 58
        }
      ]
    },
    {
      "cell_type": "code",
      "source": [
        "print(model_cbc)"
      ],
      "metadata": {
        "id": "dr4dzETbNu1G",
        "colab": {
          "base_uri": "https://localhost:8080/"
        },
        "outputId": "21da0952-f793-41a7-f9ae-ed825e0eb27d"
      },
      "execution_count": 98,
      "outputs": [
        {
          "output_type": "stream",
          "name": "stdout",
          "text": [
            "<catboost.core.CatBoostClassifier object at 0x7f458e76b820>\n"
          ]
        }
      ]
    },
    {
      "cell_type": "code",
      "source": [
        "expected_y  = y_test\n",
        "predicted_y = model_cbc.predict(X_transformed_test)"
      ],
      "metadata": {
        "id": "kr2m8TyGNvlV"
      },
      "execution_count": 99,
      "outputs": []
    },
    {
      "cell_type": "code",
      "source": [
        "print(metrics.classification_report(expected_y, predicted_y))\n",
        "print(metrics.confusion_matrix(expected_y, predicted_y))"
      ],
      "metadata": {
        "id": "JdhA7yWrNywC",
        "colab": {
          "base_uri": "https://localhost:8080/"
        },
        "outputId": "33c7eeba-2614-458d-bf35-6b0aa8ed92a6"
      },
      "execution_count": 100,
      "outputs": [
        {
          "output_type": "stream",
          "name": "stdout",
          "text": [
            "              precision    recall  f1-score   support\n",
            "\n",
            "           0       0.67      0.80      0.73     59824\n",
            "           1       0.67      0.50      0.57     48053\n",
            "\n",
            "    accuracy                           0.67    107877\n",
            "   macro avg       0.67      0.65      0.65    107877\n",
            "weighted avg       0.67      0.67      0.66    107877\n",
            "\n",
            "[[47945 11879]\n",
            " [24075 23978]]\n"
          ]
        }
      ]
    },
    {
      "cell_type": "markdown",
      "source": [
        "# Ewaluacja"
      ],
      "metadata": {
        "id": "YdqpPvLs1tAq"
      }
    },
    {
      "cell_type": "code",
      "source": [
        "from sklearn.metrics import accuracy_score\n",
        "from sklearn.metrics import recall_score\n",
        "from sklearn.metrics import precision_score\n",
        "from sklearn.metrics import f1_score\n",
        "from sklearn.metrics import roc_auc_score\n",
        "from sklearn.metrics import roc_curve\n",
        "from sklearn.metrics import RocCurveDisplay"
      ],
      "metadata": {
        "id": "XWOtgglmSmah"
      },
      "execution_count": 69,
      "outputs": []
    },
    {
      "cell_type": "markdown",
      "source": [
        "## Metryka dla DummyClassifier"
      ],
      "metadata": {
        "id": "qropUxLjYZ6s"
      }
    },
    {
      "cell_type": "code",
      "source": [
        "accuracy_score(y_test, y_pred_test_dm)"
      ],
      "metadata": {
        "colab": {
          "base_uri": "https://localhost:8080/"
        },
        "id": "1fEs8-aHSUON",
        "outputId": "dacec211-6ccd-4015-96df-2b9e2681f278"
      },
      "execution_count": 70,
      "outputs": [
        {
          "output_type": "execute_result",
          "data": {
            "text/plain": [
              "0.55455750530697"
            ]
          },
          "metadata": {},
          "execution_count": 70
        }
      ]
    },
    {
      "cell_type": "code",
      "source": [
        "f1_score(y_test, y_pred_test_dm)"
      ],
      "metadata": {
        "colab": {
          "base_uri": "https://localhost:8080/"
        },
        "id": "9elMifOUSSds",
        "outputId": "6a34bb33-de8c-486f-cb15-df3ad85677a2"
      },
      "execution_count": 71,
      "outputs": [
        {
          "output_type": "execute_result",
          "data": {
            "text/plain": [
              "0.0"
            ]
          },
          "metadata": {},
          "execution_count": 71
        }
      ]
    },
    {
      "cell_type": "code",
      "source": [
        "recall_score(y_test, y_pred_test_dm)"
      ],
      "metadata": {
        "colab": {
          "base_uri": "https://localhost:8080/"
        },
        "id": "qo76GcSaEXF2",
        "outputId": "7f4463d5-1747-4b49-ce55-bf42ff2a4ed8"
      },
      "execution_count": 72,
      "outputs": [
        {
          "output_type": "execute_result",
          "data": {
            "text/plain": [
              "0.0"
            ]
          },
          "metadata": {},
          "execution_count": 72
        }
      ]
    },
    {
      "cell_type": "code",
      "source": [
        "precision_score(y_test, y_pred_test_dm)"
      ],
      "metadata": {
        "colab": {
          "base_uri": "https://localhost:8080/"
        },
        "id": "fQuRXypRERnt",
        "outputId": "81b59589-2c78-4dad-9648-01ac3e9c0972"
      },
      "execution_count": 73,
      "outputs": [
        {
          "output_type": "stream",
          "name": "stderr",
          "text": [
            "/usr/local/lib/python3.9/dist-packages/sklearn/metrics/_classification.py:1344: UndefinedMetricWarning: Precision is ill-defined and being set to 0.0 due to no predicted samples. Use `zero_division` parameter to control this behavior.\n",
            "  _warn_prf(average, modifier, msg_start, len(result))\n"
          ]
        },
        {
          "output_type": "execute_result",
          "data": {
            "text/plain": [
              "0.0"
            ]
          },
          "metadata": {},
          "execution_count": 73
        }
      ]
    },
    {
      "cell_type": "code",
      "source": [
        "fpr, tpr, _ = roc_curve(y_test, y_pred_test_dm)\n",
        "roc_display = RocCurveDisplay(fpr=fpr, tpr=tpr).plot()\n",
        "plt.show()"
      ],
      "metadata": {
        "colab": {
          "base_uri": "https://localhost:8080/",
          "height": 279
        },
        "id": "CuXcXXRmSYQ6",
        "outputId": "0b351ec6-bf8a-4645-957d-691ced7c7910"
      },
      "execution_count": 74,
      "outputs": [
        {
          "output_type": "display_data",
          "data": {
            "text/plain": [
              "<Figure size 432x288 with 1 Axes>"
            ],
            "image/png": "[encoded data removed]"
          },
          "metadata": {
            "needs_background": "light"
          }
        }
      ]
    },
    {
      "cell_type": "code",
      "source": [
        "roc_auc_score(y_test, y_pred_test_dm)"
      ],
      "metadata": {
        "colab": {
          "base_uri": "https://localhost:8080/"
        },
        "id": "mCSHz3qYSYsW",
        "outputId": "e52d6c33-ab2d-42b8-e5a8-4e99a437856f"
      },
      "execution_count": 75,
      "outputs": [
        {
          "output_type": "execute_result",
          "data": {
            "text/plain": [
              "0.5"
            ]
          },
          "metadata": {},
          "execution_count": 75
        }
      ]
    },
    {
      "cell_type": "markdown",
      "source": [
        "#### po zmianie parametrow"
      ],
      "metadata": {
        "id": "39ojXhR-wOhe"
      }
    },
    {
      "cell_type": "code",
      "source": [
        "accuracy_score(y_test, y_pred_test_dm_grid)"
      ],
      "metadata": {
        "colab": {
          "base_uri": "https://localhost:8080/"
        },
        "id": "yP-5fLV4wSJh",
        "outputId": "2d95ab9c-f6f6-416d-eb6e-8cfb45ed667b"
      },
      "execution_count": 87,
      "outputs": [
        {
          "output_type": "execute_result",
          "data": {
            "text/plain": [
              "0.55455750530697"
            ]
          },
          "metadata": {},
          "execution_count": 87
        }
      ]
    },
    {
      "cell_type": "code",
      "source": [
        "f1_score(y_test, y_pred_test_dm_grid)"
      ],
      "metadata": {
        "colab": {
          "base_uri": "https://localhost:8080/"
        },
        "id": "nBD9a7BV5p_A",
        "outputId": "ef294f21-d358-46de-e604-1daf77f152d2"
      },
      "execution_count": 88,
      "outputs": [
        {
          "output_type": "execute_result",
          "data": {
            "text/plain": [
              "0.0"
            ]
          },
          "metadata": {},
          "execution_count": 88
        }
      ]
    },
    {
      "cell_type": "code",
      "source": [
        "recall_score(y_test, y_pred_test_dm_grid)"
      ],
      "metadata": {
        "colab": {
          "base_uri": "https://localhost:8080/"
        },
        "id": "Ihn6cDNU5vkB",
        "outputId": "732eb108-f600-43ce-cd7a-c2229d0b524b"
      },
      "execution_count": 89,
      "outputs": [
        {
          "output_type": "execute_result",
          "data": {
            "text/plain": [
              "0.0"
            ]
          },
          "metadata": {},
          "execution_count": 89
        }
      ]
    },
    {
      "cell_type": "code",
      "source": [
        "precision_score(y_test, y_pred_test_dm_grid)"
      ],
      "metadata": {
        "colab": {
          "base_uri": "https://localhost:8080/"
        },
        "id": "bwbUvmjw5znB",
        "outputId": "dca842b2-c74f-4a60-81b0-5f5238077a29"
      },
      "execution_count": 90,
      "outputs": [
        {
          "output_type": "stream",
          "name": "stderr",
          "text": [
            "/usr/local/lib/python3.9/dist-packages/sklearn/metrics/_classification.py:1344: UndefinedMetricWarning: Precision is ill-defined and being set to 0.0 due to no predicted samples. Use `zero_division` parameter to control this behavior.\n",
            "  _warn_prf(average, modifier, msg_start, len(result))\n"
          ]
        },
        {
          "output_type": "execute_result",
          "data": {
            "text/plain": [
              "0.0"
            ]
          },
          "metadata": {},
          "execution_count": 90
        }
      ]
    },
    {
      "cell_type": "code",
      "source": [
        "fpr, tpr, _ = roc_curve(y_test, y_pred_test_dm_grid)\n",
        "roc_display = RocCurveDisplay(fpr=fpr, tpr=tpr).plot()\n",
        "plt.show()"
      ],
      "metadata": {
        "colab": {
          "base_uri": "https://localhost:8080/",
          "height": 279
        },
        "id": "KZg9V9TRwZiq",
        "outputId": "6a253f3b-92ca-4f37-ef76-d842c74dad1c"
      },
      "execution_count": 77,
      "outputs": [
        {
          "output_type": "display_data",
          "data": {
            "text/plain": [
              "<Figure size 432x288 with 1 Axes>"
            ],
            "image/png": "[encoded data removed]"
          },
          "metadata": {
            "needs_background": "light"
          }
        }
      ]
    },
    {
      "cell_type": "code",
      "source": [
        "roc_auc_score(y_test, y_pred_test_dm_grid)"
      ],
      "metadata": {
        "colab": {
          "base_uri": "https://localhost:8080/"
        },
        "id": "txmR_rgqwZdb",
        "outputId": "1ab77603-09d2-4fff-fc5f-a4fda91fa795"
      },
      "execution_count": 78,
      "outputs": [
        {
          "output_type": "execute_result",
          "data": {
            "text/plain": [
              "0.5"
            ]
          },
          "metadata": {},
          "execution_count": 78
        }
      ]
    },
    {
      "cell_type": "markdown",
      "source": [
        "## Metryka dla LogisticRegression"
      ],
      "metadata": {
        "id": "kKo7FK8xYlwf"
      }
    },
    {
      "cell_type": "code",
      "source": [
        "accuracy_score(y_test, y_pred_test_lr)"
      ],
      "metadata": {
        "colab": {
          "base_uri": "https://localhost:8080/"
        },
        "id": "xisKZog3YvML",
        "outputId": "b9105956-c8d9-4f54-e881-11ee7f44f305"
      },
      "execution_count": 79,
      "outputs": [
        {
          "output_type": "execute_result",
          "data": {
            "text/plain": [
              "0.6379024259109912"
            ]
          },
          "metadata": {},
          "execution_count": 79
        }
      ]
    },
    {
      "cell_type": "code",
      "source": [
        "f1_score(y_test, y_pred_test_lr)"
      ],
      "metadata": {
        "colab": {
          "base_uri": "https://localhost:8080/"
        },
        "id": "5llyTMMRYxnQ",
        "outputId": "79afb901-f57c-4382-d521-fa17cc0933ef"
      },
      "execution_count": 80,
      "outputs": [
        {
          "output_type": "execute_result",
          "data": {
            "text/plain": [
              "0.536971622294398"
            ]
          },
          "metadata": {},
          "execution_count": 80
        }
      ]
    },
    {
      "cell_type": "code",
      "source": [
        "recall_score(y_test, y_pred_test_lr)"
      ],
      "metadata": {
        "colab": {
          "base_uri": "https://localhost:8080/"
        },
        "id": "cvJBdqU7Y2Rk",
        "outputId": "0af11f36-1954-46f4-f7ea-e0c917213cae"
      },
      "execution_count": 81,
      "outputs": [
        {
          "output_type": "execute_result",
          "data": {
            "text/plain": [
              "0.4713545460221006"
            ]
          },
          "metadata": {},
          "execution_count": 81
        }
      ]
    },
    {
      "cell_type": "code",
      "source": [
        "precision_score(y_test, y_pred_test_lr)"
      ],
      "metadata": {
        "colab": {
          "base_uri": "https://localhost:8080/"
        },
        "id": "sFxKh4EmY47c",
        "outputId": "bce759b6-3ae0-4fb8-aabd-dbe02893c095"
      },
      "execution_count": 82,
      "outputs": [
        {
          "output_type": "execute_result",
          "data": {
            "text/plain": [
              "0.6238122779476163"
            ]
          },
          "metadata": {},
          "execution_count": 82
        }
      ]
    },
    {
      "cell_type": "code",
      "source": [
        "fpr, tpr, _ = roc_curve(y_test,y_pred_test_lr)\n",
        "roc_display = RocCurveDisplay(fpr=fpr, tpr=tpr).plot()\n",
        "plt.show()"
      ],
      "metadata": {
        "id": "5Pl0bAuKY7wJ",
        "outputId": "28f7143d-984a-4c2f-8cf0-4efc2b1f4380",
        "colab": {
          "base_uri": "https://localhost:8080/",
          "height": 279
        }
      },
      "execution_count": 83,
      "outputs": [
        {
          "output_type": "display_data",
          "data": {
            "text/plain": [
              "<Figure size 432x288 with 1 Axes>"
            ],
            "image/png": "[encoded data removed]"
          },
          "metadata": {
            "needs_background": "light"
          }
        }
      ]
    },
    {
      "cell_type": "code",
      "source": [
        "roc_auc_score(y_test, y_pred_test_lr)"
      ],
      "metadata": {
        "id": "-kMqHXl5Y_TI",
        "outputId": "51e8eda0-3b29-4b1f-eaa4-97cb61916d83",
        "colab": {
          "base_uri": "https://localhost:8080/"
        }
      },
      "execution_count": 97,
      "outputs": [
        {
          "output_type": "execute_result",
          "data": {
            "text/plain": [
              "0.6215174040621334"
            ]
          },
          "metadata": {},
          "execution_count": 97
        }
      ]
    },
    {
      "cell_type": "markdown",
      "source": [
        "#### po zmianie parametrow"
      ],
      "metadata": {
        "id": "ljAUyQmbLL2z"
      }
    },
    {
      "cell_type": "code",
      "source": [
        "accuracy_score(y_test, y_pred_test_lr_grid)"
      ],
      "metadata": {
        "colab": {
          "base_uri": "https://localhost:8080/"
        },
        "id": "C-kwqjMY6w_1",
        "outputId": "66d75d69-d819-4e24-b1ad-89ee03cf8c78"
      },
      "execution_count": 91,
      "outputs": [
        {
          "output_type": "execute_result",
          "data": {
            "text/plain": [
              "0.6397378495879567"
            ]
          },
          "metadata": {},
          "execution_count": 91
        }
      ]
    },
    {
      "cell_type": "code",
      "source": [
        "f1_score(y_test,  y_pred_test_lr_grid)"
      ],
      "metadata": {
        "colab": {
          "base_uri": "https://localhost:8080/"
        },
        "id": "GXajbDvt7DQZ",
        "outputId": "1a66ac9c-37de-4892-949a-b60e95267644"
      },
      "execution_count": 92,
      "outputs": [
        {
          "output_type": "execute_result",
          "data": {
            "text/plain": [
              "0.5399076595240914"
            ]
          },
          "metadata": {},
          "execution_count": 92
        }
      ]
    },
    {
      "cell_type": "code",
      "source": [
        "recall_score(y_test,  y_pred_test_lr_grid)"
      ],
      "metadata": {
        "colab": {
          "base_uri": "https://localhost:8080/"
        },
        "id": "aOqzeJ1s7Dk1",
        "outputId": "ca211b54-a915-47b2-8857-c89565cb30ad"
      },
      "execution_count": 95,
      "outputs": [
        {
          "output_type": "execute_result",
          "data": {
            "text/plain": [
              "0.4745385303727135"
            ]
          },
          "metadata": {},
          "execution_count": 95
        }
      ]
    },
    {
      "cell_type": "code",
      "source": [
        "precision_score(y_test,  y_pred_test_lr_grid)"
      ],
      "metadata": {
        "colab": {
          "base_uri": "https://localhost:8080/"
        },
        "id": "7L6S5WoR7FkG",
        "outputId": "e8ddefc0-1f96-4256-cb09-cd3609a3ef5d"
      },
      "execution_count": 96,
      "outputs": [
        {
          "output_type": "execute_result",
          "data": {
            "text/plain": [
              "0.6261636049097948"
            ]
          },
          "metadata": {},
          "execution_count": 96
        }
      ]
    },
    {
      "cell_type": "code",
      "source": [
        "fpr, tpr, _ = roc_curve(y_test, y_pred_test_lr_grid)\n",
        "roc_display = RocCurveDisplay(fpr=fpr, tpr=tpr).plot()\n",
        "plt.show()"
      ],
      "metadata": {
        "colab": {
          "base_uri": "https://localhost:8080/",
          "height": 279
        },
        "id": "_MUKgWFC7Gd3",
        "outputId": "ad9e72f1-6dd3-4ee8-85e3-4e2b65475fa6"
      },
      "execution_count": 93,
      "outputs": [
        {
          "output_type": "display_data",
          "data": {
            "text/plain": [
              "<Figure size 432x288 with 1 Axes>"
            ],
            "image/png": "[encoded data removed]"
          },
          "metadata": {
            "needs_background": "light"
          }
        }
      ]
    },
    {
      "cell_type": "code",
      "source": [
        "roc_auc_score(y_test,  y_pred_test_lr_grid)"
      ],
      "metadata": {
        "colab": {
          "base_uri": "https://localhost:8080/"
        },
        "id": "Ok1IEdXk7Hff",
        "outputId": "bbd00acb-e0e0-4d17-e557-172f53fd391b"
      },
      "execution_count": 94,
      "outputs": [
        {
          "output_type": "execute_result",
          "data": {
            "text/plain": [
              "0.6234854994735993"
            ]
          },
          "metadata": {},
          "execution_count": 94
        }
      ]
    }
  ]
}